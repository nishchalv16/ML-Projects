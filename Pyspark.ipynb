{
 "cells": [
  {
   "cell_type": "code",
   "execution_count": 1,
   "id": "3ff78cfc",
   "metadata": {},
   "outputs": [
    {
     "name": "stdout",
     "output_type": "stream",
     "text": [
      "Collecting pyspark\n",
      "  Downloading pyspark-3.5.1.tar.gz (317.0 MB)\n",
      "\u001b[2K     \u001b[90m━━━━━━━━━━━━━━━━━━━━━━━━━━━━━━━━━━━━━━━\u001b[0m \u001b[32m317.0/317.0 MB\u001b[0m \u001b[31m3.7 MB/s\u001b[0m eta \u001b[36m0:00:00\u001b[0m00:01\u001b[0m00:02\u001b[0m\n",
      "\u001b[?25h  Preparing metadata (setup.py) ... \u001b[?25ldone\n",
      "\u001b[?25hCollecting py4j==0.10.9.7 (from pyspark)\n",
      "  Obtaining dependency information for py4j==0.10.9.7 from https://files.pythonhosted.org/packages/10/30/a58b32568f1623aaad7db22aa9eafc4c6c194b429ff35bdc55ca2726da47/py4j-0.10.9.7-py2.py3-none-any.whl.metadata\n",
      "  Downloading py4j-0.10.9.7-py2.py3-none-any.whl.metadata (1.5 kB)\n",
      "Downloading py4j-0.10.9.7-py2.py3-none-any.whl (200 kB)\n",
      "\u001b[2K   \u001b[90m━━━━━━━━━━━━━━━━━━━━━━━━━━━━━━━━━━━━━━━━\u001b[0m \u001b[32m200.5/200.5 kB\u001b[0m \u001b[31m4.1 MB/s\u001b[0m eta \u001b[36m0:00:00\u001b[0ma \u001b[36m0:00:01\u001b[0m\n",
      "\u001b[?25hBuilding wheels for collected packages: pyspark\n",
      "  Building wheel for pyspark (setup.py) ... \u001b[?25ldone\n",
      "\u001b[?25h  Created wheel for pyspark: filename=pyspark-3.5.1-py2.py3-none-any.whl size=317488496 sha256=93a707507d1b95cc51b94a3164d31c4d53e4fd05338433f5080b5107903f3c2d\n",
      "  Stored in directory: /Users/nishchalverma/Library/Caches/pip/wheels/95/13/41/f7f135ee114175605fb4f0a89e7389f3742aa6c1e1a5bcb657\n",
      "Successfully built pyspark\n",
      "Installing collected packages: py4j, pyspark\n",
      "Successfully installed py4j-0.10.9.7 pyspark-3.5.1\n"
     ]
    }
   ],
   "source": [
    "!pip install pyspark"
   ]
  },
  {
   "cell_type": "code",
   "execution_count": 1,
   "id": "94f12a2c",
   "metadata": {},
   "outputs": [],
   "source": [
    "import pyspark"
   ]
  },
  {
   "cell_type": "code",
   "execution_count": 2,
   "id": "da01f32c",
   "metadata": {},
   "outputs": [],
   "source": [
    "import pandas as pd\n",
    "test=pd.read_csv('/Users/nishchalverma/Downloads/dataset/titanic.csv')"
   ]
  },
  {
   "cell_type": "code",
   "execution_count": 2,
   "id": "f74c4bdf",
   "metadata": {},
   "outputs": [],
   "source": [
    "from pyspark.sql import SparkSession"
   ]
  },
  {
   "cell_type": "code",
   "execution_count": 3,
   "id": "aec44ef1",
   "metadata": {},
   "outputs": [
    {
     "name": "stderr",
     "output_type": "stream",
     "text": [
      "Setting default log level to \"WARN\".\n",
      "To adjust logging level use sc.setLogLevel(newLevel). For SparkR, use setLogLevel(newLevel).\n",
      "24/04/23 14:53:16 WARN NativeCodeLoader: Unable to load native-hadoop library for your platform... using builtin-java classes where applicable\n"
     ]
    }
   ],
   "source": [
    "spark=SparkSession.builder.appName('Practice').getOrCreate()"
   ]
  },
  {
   "cell_type": "code",
   "execution_count": 17,
   "id": "b6580bd5",
   "metadata": {
    "scrolled": true
   },
   "outputs": [],
   "source": [
    "df_spark=spark.read.csv('/Users/nishchalverma/Downloads/dataset/titanic.csv',inferSchema=True)"
   ]
  },
  {
   "cell_type": "code",
   "execution_count": 5,
   "id": "e867ce18",
   "metadata": {},
   "outputs": [],
   "source": [
    "#Better reading option\n",
    "df_pyspark1=spark.read.csv('/Users/nishchalverma/Downloads/dataset/titanic.csv',header=True,inferSchema=True)"
   ]
  },
  {
   "cell_type": "code",
   "execution_count": 28,
   "id": "f9482588",
   "metadata": {},
   "outputs": [
    {
     "data": {
      "text/plain": [
       "Row(sr.no.=1, Class='3rd', Sex='Male', Age='Child', Survived='No')"
      ]
     },
     "execution_count": 28,
     "metadata": {},
     "output_type": "execute_result"
    }
   ],
   "source": [
    "df_pyspark1.head()"
   ]
  },
  {
   "cell_type": "code",
   "execution_count": 27,
   "id": "30dd4b18",
   "metadata": {},
   "outputs": [
    {
     "name": "stdout",
     "output_type": "stream",
     "text": [
      "+------+-----+----+-----+--------+\n",
      "|sr.no.|Class| Sex|  Age|Survived|\n",
      "+------+-----+----+-----+--------+\n",
      "|     1|  3rd|Male|Child|      No|\n",
      "|     2|  3rd|Male|Child|      No|\n",
      "|     3|  3rd|Male|Child|      No|\n",
      "|     4|  3rd|Male|Child|      No|\n",
      "|     5|  3rd|Male|Child|      No|\n",
      "|     6|  3rd|Male|Child|      No|\n",
      "|     7|  3rd|Male|Child|      No|\n",
      "|     8|  3rd|Male|Child|      No|\n",
      "|     9|  3rd|Male|Child|      No|\n",
      "|    10|  3rd|Male|Child|      No|\n",
      "|    11|  3rd|Male|Child|      No|\n",
      "|    12|  3rd|Male|Child|      No|\n",
      "|    13|  3rd|Male|Child|      No|\n",
      "|    14|  3rd|Male|Child|      No|\n",
      "|    15|  3rd|Male|Child|      No|\n",
      "|    16|  3rd|Male|Child|      No|\n",
      "|    17|  3rd|Male|Child|      No|\n",
      "|    18|  3rd|Male|Child|      No|\n",
      "|    19|  3rd|Male|Child|      No|\n",
      "|    20|  3rd|Male|Child|      No|\n",
      "+------+-----+----+-----+--------+\n",
      "only showing top 20 rows\n",
      "\n"
     ]
    }
   ],
   "source": [
    "df_pyspark1.show()"
   ]
  },
  {
   "cell_type": "code",
   "execution_count": 31,
   "id": "f191e5aa",
   "metadata": {},
   "outputs": [
    {
     "name": "stdout",
     "output_type": "stream",
     "text": [
      "+------+-----+----+-----+--------+\n",
      "|sr.no.|Class| Sex|  Age|Survived|\n",
      "+------+-----+----+-----+--------+\n",
      "|     1|  3rd|Male|Child|      No|\n",
      "|     2|  3rd|Male|Child|      No|\n",
      "|     3|  3rd|Male|Child|      No|\n",
      "|     4|  3rd|Male|Child|      No|\n",
      "|     5|  3rd|Male|Child|      No|\n",
      "|     6|  3rd|Male|Child|      No|\n",
      "|     7|  3rd|Male|Child|      No|\n",
      "|     8|  3rd|Male|Child|      No|\n",
      "|     9|  3rd|Male|Child|      No|\n",
      "|    10|  3rd|Male|Child|      No|\n",
      "|    11|  3rd|Male|Child|      No|\n",
      "|    12|  3rd|Male|Child|      No|\n",
      "|    13|  3rd|Male|Child|      No|\n",
      "|    14|  3rd|Male|Child|      No|\n",
      "|    15|  3rd|Male|Child|      No|\n",
      "|    16|  3rd|Male|Child|      No|\n",
      "|    17|  3rd|Male|Child|      No|\n",
      "|    18|  3rd|Male|Child|      No|\n",
      "|    19|  3rd|Male|Child|      No|\n",
      "|    20|  3rd|Male|Child|      No|\n",
      "+------+-----+----+-----+--------+\n",
      "only showing top 20 rows\n",
      "\n"
     ]
    }
   ],
   "source": [
    "df_pyspark1.show()"
   ]
  },
  {
   "cell_type": "code",
   "execution_count": 30,
   "id": "5c9663ac",
   "metadata": {},
   "outputs": [
    {
     "data": {
      "text/plain": [
       "pyspark.sql.dataframe.DataFrame"
      ]
     },
     "execution_count": 30,
     "metadata": {},
     "output_type": "execute_result"
    }
   ],
   "source": [
    "type(df_pyspark1)"
   ]
  },
  {
   "cell_type": "code",
   "execution_count": 32,
   "id": "1a8b581d",
   "metadata": {},
   "outputs": [
    {
     "data": {
      "text/plain": [
       "[Row(sr.no.=1, Class='3rd', Sex='Male', Age='Child', Survived='No'),\n",
       " Row(sr.no.=2, Class='3rd', Sex='Male', Age='Child', Survived='No'),\n",
       " Row(sr.no.=3, Class='3rd', Sex='Male', Age='Child', Survived='No')]"
      ]
     },
     "execution_count": 32,
     "metadata": {},
     "output_type": "execute_result"
    }
   ],
   "source": [
    "df_pyspark1.head(3)"
   ]
  },
  {
   "cell_type": "code",
   "execution_count": 33,
   "id": "7b7ccbb5",
   "metadata": {},
   "outputs": [
    {
     "name": "stdout",
     "output_type": "stream",
     "text": [
      "root\n",
      " |-- sr.no.: integer (nullable = true)\n",
      " |-- Class: string (nullable = true)\n",
      " |-- Sex: string (nullable = true)\n",
      " |-- Age: string (nullable = true)\n",
      " |-- Survived: string (nullable = true)\n",
      "\n"
     ]
    }
   ],
   "source": [
    "df_pyspark1.printSchema()"
   ]
  },
  {
   "cell_type": "code",
   "execution_count": 34,
   "id": "57832453",
   "metadata": {},
   "outputs": [
    {
     "data": {
      "text/plain": [
       "['sr.no.', 'Class', 'Sex', 'Age', 'Survived']"
      ]
     },
     "execution_count": 34,
     "metadata": {},
     "output_type": "execute_result"
    }
   ],
   "source": [
    "df_pyspark1.columns"
   ]
  },
  {
   "cell_type": "code",
   "execution_count": 36,
   "id": "185bd29f",
   "metadata": {},
   "outputs": [
    {
     "name": "stdout",
     "output_type": "stream",
     "text": [
      "+-----+\n",
      "|Class|\n",
      "+-----+\n",
      "|  3rd|\n",
      "|  3rd|\n",
      "|  3rd|\n",
      "|  3rd|\n",
      "|  3rd|\n",
      "|  3rd|\n",
      "|  3rd|\n",
      "|  3rd|\n",
      "|  3rd|\n",
      "|  3rd|\n",
      "|  3rd|\n",
      "|  3rd|\n",
      "|  3rd|\n",
      "|  3rd|\n",
      "|  3rd|\n",
      "|  3rd|\n",
      "|  3rd|\n",
      "|  3rd|\n",
      "|  3rd|\n",
      "|  3rd|\n",
      "+-----+\n",
      "only showing top 20 rows\n",
      "\n"
     ]
    }
   ],
   "source": [
    "df_pyspark1.select('Class').show()"
   ]
  },
  {
   "cell_type": "code",
   "execution_count": 37,
   "id": "f8cc8cb1",
   "metadata": {},
   "outputs": [
    {
     "name": "stdout",
     "output_type": "stream",
     "text": [
      "+-----+----+\n",
      "|Class| Sex|\n",
      "+-----+----+\n",
      "|  3rd|Male|\n",
      "|  3rd|Male|\n",
      "|  3rd|Male|\n",
      "|  3rd|Male|\n",
      "|  3rd|Male|\n",
      "|  3rd|Male|\n",
      "|  3rd|Male|\n",
      "|  3rd|Male|\n",
      "|  3rd|Male|\n",
      "|  3rd|Male|\n",
      "|  3rd|Male|\n",
      "|  3rd|Male|\n",
      "|  3rd|Male|\n",
      "|  3rd|Male|\n",
      "|  3rd|Male|\n",
      "|  3rd|Male|\n",
      "|  3rd|Male|\n",
      "|  3rd|Male|\n",
      "|  3rd|Male|\n",
      "|  3rd|Male|\n",
      "+-----+----+\n",
      "only showing top 20 rows\n",
      "\n"
     ]
    }
   ],
   "source": [
    "df_pyspark1.select(['Class','Sex']).show()"
   ]
  },
  {
   "cell_type": "code",
   "execution_count": 6,
   "id": "cfe3193b",
   "metadata": {},
   "outputs": [],
   "source": [
    "df_pyspark1=df_pyspark1.drop('sr.no.')"
   ]
  },
  {
   "cell_type": "code",
   "execution_count": 7,
   "id": "71a6a9de",
   "metadata": {},
   "outputs": [
    {
     "name": "stderr",
     "output_type": "stream",
     "text": [
      "24/04/21 13:25:23 WARN SparkStringUtils: Truncated the string representation of a plan since it was too large. This behavior can be adjusted by setting 'spark.sql.debug.maxToStringFields'.\n"
     ]
    },
    {
     "name": "stdout",
     "output_type": "stream",
     "text": [
      "+-------+-----+------+-----+--------+\n",
      "|summary|Class|   Sex|  Age|Survived|\n",
      "+-------+-----+------+-----+--------+\n",
      "|  count| 2201|  2201| 2201|    2201|\n",
      "|   mean| NULL|  NULL| NULL|    NULL|\n",
      "| stddev| NULL|  NULL| NULL|    NULL|\n",
      "|    min|  1st|Female|Adult|      No|\n",
      "|    max| Crew|  Male|Child|     Yes|\n",
      "+-------+-----+------+-----+--------+\n",
      "\n"
     ]
    }
   ],
   "source": [
    "df_pyspark1.describe().show()"
   ]
  },
  {
   "cell_type": "code",
   "execution_count": 1,
   "id": "f2d29dff",
   "metadata": {},
   "outputs": [
    {
     "ename": "NameError",
     "evalue": "name 'df_pyspark1' is not defined",
     "output_type": "error",
     "traceback": [
      "\u001b[0;31m---------------------------------------------------------------------------\u001b[0m",
      "\u001b[0;31mNameError\u001b[0m                                 Traceback (most recent call last)",
      "Cell \u001b[0;32mIn[1], line 1\u001b[0m\n\u001b[0;32m----> 1\u001b[0m df_pyspark1\u001b[38;5;241m.\u001b[39mwithColumnRenamed(\u001b[38;5;124m'\u001b[39m\u001b[38;5;124mSex\u001b[39m\u001b[38;5;124m'\u001b[39m,\u001b[38;5;124m'\u001b[39m\u001b[38;5;124mGender\u001b[39m\u001b[38;5;124m'\u001b[39m)\u001b[38;5;241m.\u001b[39mshow()\n",
      "\u001b[0;31mNameError\u001b[0m: name 'df_pyspark1' is not defined"
     ]
    }
   ],
   "source": [
    "df_pyspark1.withColumnRenamed('Sex','Gender').show()"
   ]
  },
  {
   "cell_type": "code",
   "execution_count": 6,
   "id": "e45290cd",
   "metadata": {},
   "outputs": [
    {
     "name": "stdout",
     "output_type": "stream",
     "text": [
      "+-----+----+-----+--------+\n",
      "|Class| Sex|  Age|Survived|\n",
      "+-----+----+-----+--------+\n",
      "|  3rd|Male|Child|      No|\n",
      "|  3rd|Male|Child|      No|\n",
      "|  3rd|Male|Child|      No|\n",
      "|  3rd|Male|Child|      No|\n",
      "|  3rd|Male|Child|      No|\n",
      "|  3rd|Male|Child|      No|\n",
      "|  3rd|Male|Child|      No|\n",
      "|  3rd|Male|Child|      No|\n",
      "|  3rd|Male|Child|      No|\n",
      "|  3rd|Male|Child|      No|\n",
      "|  3rd|Male|Child|      No|\n",
      "|  3rd|Male|Child|      No|\n",
      "|  3rd|Male|Child|      No|\n",
      "|  3rd|Male|Child|      No|\n",
      "|  3rd|Male|Child|      No|\n",
      "|  3rd|Male|Child|      No|\n",
      "|  3rd|Male|Child|      No|\n",
      "|  3rd|Male|Child|      No|\n",
      "|  3rd|Male|Child|      No|\n",
      "|  3rd|Male|Child|      No|\n",
      "+-----+----+-----+--------+\n",
      "only showing top 20 rows\n",
      "\n"
     ]
    }
   ],
   "source": [
    "df_pyspark1.na.drop(how='any',thresh=2).show()"
   ]
  },
  {
   "cell_type": "code",
   "execution_count": 11,
   "id": "edbfe211",
   "metadata": {},
   "outputs": [
    {
     "name": "stdout",
     "output_type": "stream",
     "text": [
      "+-----+----+-----+--------+\n",
      "|Class| Sex|  Age|Survived|\n",
      "+-----+----+-----+--------+\n",
      "|  3rd|Male|Child|      No|\n",
      "|  3rd|Male|Child|      No|\n",
      "|  3rd|Male|Child|      No|\n",
      "|  3rd|Male|Child|      No|\n",
      "|  3rd|Male|Child|      No|\n",
      "|  3rd|Male|Child|      No|\n",
      "|  3rd|Male|Child|      No|\n",
      "|  3rd|Male|Child|      No|\n",
      "|  3rd|Male|Child|      No|\n",
      "|  3rd|Male|Child|      No|\n",
      "|  3rd|Male|Child|      No|\n",
      "|  3rd|Male|Child|      No|\n",
      "|  3rd|Male|Child|      No|\n",
      "|  3rd|Male|Child|      No|\n",
      "|  3rd|Male|Child|      No|\n",
      "|  3rd|Male|Child|      No|\n",
      "|  3rd|Male|Child|      No|\n",
      "|  3rd|Male|Child|      No|\n",
      "|  3rd|Male|Child|      No|\n",
      "|  3rd|Male|Child|      No|\n",
      "+-----+----+-----+--------+\n",
      "only showing top 20 rows\n",
      "\n"
     ]
    }
   ],
   "source": [
    "df_pyspark1.na.drop().show()"
   ]
  },
  {
   "cell_type": "code",
   "execution_count": 12,
   "id": "2c48579c",
   "metadata": {},
   "outputs": [
    {
     "name": "stdout",
     "output_type": "stream",
     "text": [
      "+-----+----+-----+--------+\n",
      "|Class| Sex|  Age|Survived|\n",
      "+-----+----+-----+--------+\n",
      "|  3rd|Male|Child|      No|\n",
      "|  3rd|Male|Child|      No|\n",
      "|  3rd|Male|Child|      No|\n",
      "|  3rd|Male|Child|      No|\n",
      "|  3rd|Male|Child|      No|\n",
      "|  3rd|Male|Child|      No|\n",
      "|  3rd|Male|Child|      No|\n",
      "|  3rd|Male|Child|      No|\n",
      "|  3rd|Male|Child|      No|\n",
      "|  3rd|Male|Child|      No|\n",
      "|  3rd|Male|Child|      No|\n",
      "|  3rd|Male|Child|      No|\n",
      "|  3rd|Male|Child|      No|\n",
      "|  3rd|Male|Child|      No|\n",
      "|  3rd|Male|Child|      No|\n",
      "|  3rd|Male|Child|      No|\n",
      "|  3rd|Male|Child|      No|\n",
      "|  3rd|Male|Child|      No|\n",
      "|  3rd|Male|Child|      No|\n",
      "|  3rd|Male|Child|      No|\n",
      "+-----+----+-----+--------+\n",
      "only showing top 20 rows\n",
      "\n"
     ]
    }
   ],
   "source": [
    "df_pyspark1.na.drop(how='any',subset=['Class']).show()"
   ]
  },
  {
   "cell_type": "code",
   "execution_count": 14,
   "id": "414194f6",
   "metadata": {},
   "outputs": [
    {
     "name": "stdout",
     "output_type": "stream",
     "text": [
      "+-----+----+-----+--------+\n",
      "|Class| Sex|  Age|Survived|\n",
      "+-----+----+-----+--------+\n",
      "|  3rd|Male|Child|      No|\n",
      "|  3rd|Male|Child|      No|\n",
      "|  3rd|Male|Child|      No|\n",
      "|  3rd|Male|Child|      No|\n",
      "|  3rd|Male|Child|      No|\n",
      "|  3rd|Male|Child|      No|\n",
      "|  3rd|Male|Child|      No|\n",
      "|  3rd|Male|Child|      No|\n",
      "|  3rd|Male|Child|      No|\n",
      "|  3rd|Male|Child|      No|\n",
      "|  3rd|Male|Child|      No|\n",
      "|  3rd|Male|Child|      No|\n",
      "|  3rd|Male|Child|      No|\n",
      "|  3rd|Male|Child|      No|\n",
      "|  3rd|Male|Child|      No|\n",
      "|  3rd|Male|Child|      No|\n",
      "|  3rd|Male|Child|      No|\n",
      "|  3rd|Male|Child|      No|\n",
      "|  3rd|Male|Child|      No|\n",
      "|  3rd|Male|Child|      No|\n",
      "+-----+----+-----+--------+\n",
      "only showing top 20 rows\n",
      "\n"
     ]
    }
   ],
   "source": [
    "df_pyspark1.na.fill('Missing Values',['Class','Age']).show()"
   ]
  },
  {
   "cell_type": "code",
   "execution_count": 7,
   "id": "736071b8",
   "metadata": {},
   "outputs": [
    {
     "ename": "SyntaxError",
     "evalue": "unterminated string literal (detected at line 2) (174826103.py, line 2)",
     "output_type": "error",
     "traceback": [
      "\u001b[0;36m  Cell \u001b[0;32mIn[7], line 2\u001b[0;36m\u001b[0m\n\u001b[0;31m    imputer=Imputer(inputCols=[Sex','Survived'], outputCols=['{}_imputed'.format(c) for c in ['Sex','Survived']]).setStrategy('mode')\u001b[0m\n\u001b[0m                                                                                                                                   ^\u001b[0m\n\u001b[0;31mSyntaxError\u001b[0m\u001b[0;31m:\u001b[0m unterminated string literal (detected at line 2)\n"
     ]
    }
   ],
   "source": [
    "from pyspark.ml.feature import Imputer\n",
    "imputer=Imputer(inputCols=[Sex','Survived'], outputCols=['{}_imputed'.format(c) for c in ['Sex','Survived']]).setStrategy('mode')"
   ]
  },
  {
   "cell_type": "code",
   "execution_count": 18,
   "id": "1b9ffb2e",
   "metadata": {},
   "outputs": [
    {
     "ename": "IllegalArgumentException",
     "evalue": "requirement failed: Column Age must be of type numeric but was actually of type string.",
     "output_type": "error",
     "traceback": [
      "\u001b[0;31m---------------------------------------------------------------------------\u001b[0m",
      "\u001b[0;31mIllegalArgumentException\u001b[0m                  Traceback (most recent call last)",
      "Cell \u001b[0;32mIn[18], line 1\u001b[0m\n\u001b[0;32m----> 1\u001b[0m imputer\u001b[38;5;241m.\u001b[39mfit(df_pyspark1)\u001b[38;5;241m.\u001b[39mtransform(df_pyspark1)\u001b[38;5;241m.\u001b[39mshow()\n",
      "File \u001b[0;32m~/anaconda3/lib/python3.11/site-packages/pyspark/ml/base.py:205\u001b[0m, in \u001b[0;36mEstimator.fit\u001b[0;34m(self, dataset, params)\u001b[0m\n\u001b[1;32m    203\u001b[0m         \u001b[38;5;28;01mreturn\u001b[39;00m \u001b[38;5;28mself\u001b[39m\u001b[38;5;241m.\u001b[39mcopy(params)\u001b[38;5;241m.\u001b[39m_fit(dataset)\n\u001b[1;32m    204\u001b[0m     \u001b[38;5;28;01melse\u001b[39;00m:\n\u001b[0;32m--> 205\u001b[0m         \u001b[38;5;28;01mreturn\u001b[39;00m \u001b[38;5;28mself\u001b[39m\u001b[38;5;241m.\u001b[39m_fit(dataset)\n\u001b[1;32m    206\u001b[0m \u001b[38;5;28;01melse\u001b[39;00m:\n\u001b[1;32m    207\u001b[0m     \u001b[38;5;28;01mraise\u001b[39;00m \u001b[38;5;167;01mTypeError\u001b[39;00m(\n\u001b[1;32m    208\u001b[0m         \u001b[38;5;124m\"\u001b[39m\u001b[38;5;124mParams must be either a param map or a list/tuple of param maps, \u001b[39m\u001b[38;5;124m\"\u001b[39m\n\u001b[1;32m    209\u001b[0m         \u001b[38;5;124m\"\u001b[39m\u001b[38;5;124mbut got \u001b[39m\u001b[38;5;132;01m%s\u001b[39;00m\u001b[38;5;124m.\u001b[39m\u001b[38;5;124m\"\u001b[39m \u001b[38;5;241m%\u001b[39m \u001b[38;5;28mtype\u001b[39m(params)\n\u001b[1;32m    210\u001b[0m     )\n",
      "File \u001b[0;32m~/anaconda3/lib/python3.11/site-packages/pyspark/ml/wrapper.py:381\u001b[0m, in \u001b[0;36mJavaEstimator._fit\u001b[0;34m(self, dataset)\u001b[0m\n\u001b[1;32m    380\u001b[0m \u001b[38;5;28;01mdef\u001b[39;00m \u001b[38;5;21m_fit\u001b[39m(\u001b[38;5;28mself\u001b[39m, dataset: DataFrame) \u001b[38;5;241m-\u001b[39m\u001b[38;5;241m>\u001b[39m JM:\n\u001b[0;32m--> 381\u001b[0m     java_model \u001b[38;5;241m=\u001b[39m \u001b[38;5;28mself\u001b[39m\u001b[38;5;241m.\u001b[39m_fit_java(dataset)\n\u001b[1;32m    382\u001b[0m     model \u001b[38;5;241m=\u001b[39m \u001b[38;5;28mself\u001b[39m\u001b[38;5;241m.\u001b[39m_create_model(java_model)\n\u001b[1;32m    383\u001b[0m     \u001b[38;5;28;01mreturn\u001b[39;00m \u001b[38;5;28mself\u001b[39m\u001b[38;5;241m.\u001b[39m_copyValues(model)\n",
      "File \u001b[0;32m~/anaconda3/lib/python3.11/site-packages/pyspark/ml/wrapper.py:378\u001b[0m, in \u001b[0;36mJavaEstimator._fit_java\u001b[0;34m(self, dataset)\u001b[0m\n\u001b[1;32m    375\u001b[0m \u001b[38;5;28;01massert\u001b[39;00m \u001b[38;5;28mself\u001b[39m\u001b[38;5;241m.\u001b[39m_java_obj \u001b[38;5;129;01mis\u001b[39;00m \u001b[38;5;129;01mnot\u001b[39;00m \u001b[38;5;28;01mNone\u001b[39;00m\n\u001b[1;32m    377\u001b[0m \u001b[38;5;28mself\u001b[39m\u001b[38;5;241m.\u001b[39m_transfer_params_to_java()\n\u001b[0;32m--> 378\u001b[0m \u001b[38;5;28;01mreturn\u001b[39;00m \u001b[38;5;28mself\u001b[39m\u001b[38;5;241m.\u001b[39m_java_obj\u001b[38;5;241m.\u001b[39mfit(dataset\u001b[38;5;241m.\u001b[39m_jdf)\n",
      "File \u001b[0;32m~/anaconda3/lib/python3.11/site-packages/py4j/java_gateway.py:1322\u001b[0m, in \u001b[0;36mJavaMember.__call__\u001b[0;34m(self, *args)\u001b[0m\n\u001b[1;32m   1316\u001b[0m command \u001b[38;5;241m=\u001b[39m proto\u001b[38;5;241m.\u001b[39mCALL_COMMAND_NAME \u001b[38;5;241m+\u001b[39m\\\n\u001b[1;32m   1317\u001b[0m     \u001b[38;5;28mself\u001b[39m\u001b[38;5;241m.\u001b[39mcommand_header \u001b[38;5;241m+\u001b[39m\\\n\u001b[1;32m   1318\u001b[0m     args_command \u001b[38;5;241m+\u001b[39m\\\n\u001b[1;32m   1319\u001b[0m     proto\u001b[38;5;241m.\u001b[39mEND_COMMAND_PART\n\u001b[1;32m   1321\u001b[0m answer \u001b[38;5;241m=\u001b[39m \u001b[38;5;28mself\u001b[39m\u001b[38;5;241m.\u001b[39mgateway_client\u001b[38;5;241m.\u001b[39msend_command(command)\n\u001b[0;32m-> 1322\u001b[0m return_value \u001b[38;5;241m=\u001b[39m get_return_value(\n\u001b[1;32m   1323\u001b[0m     answer, \u001b[38;5;28mself\u001b[39m\u001b[38;5;241m.\u001b[39mgateway_client, \u001b[38;5;28mself\u001b[39m\u001b[38;5;241m.\u001b[39mtarget_id, \u001b[38;5;28mself\u001b[39m\u001b[38;5;241m.\u001b[39mname)\n\u001b[1;32m   1325\u001b[0m \u001b[38;5;28;01mfor\u001b[39;00m temp_arg \u001b[38;5;129;01min\u001b[39;00m temp_args:\n\u001b[1;32m   1326\u001b[0m     \u001b[38;5;28;01mif\u001b[39;00m \u001b[38;5;28mhasattr\u001b[39m(temp_arg, \u001b[38;5;124m\"\u001b[39m\u001b[38;5;124m_detach\u001b[39m\u001b[38;5;124m\"\u001b[39m):\n",
      "File \u001b[0;32m~/anaconda3/lib/python3.11/site-packages/pyspark/errors/exceptions/captured.py:185\u001b[0m, in \u001b[0;36mcapture_sql_exception.<locals>.deco\u001b[0;34m(*a, **kw)\u001b[0m\n\u001b[1;32m    181\u001b[0m converted \u001b[38;5;241m=\u001b[39m convert_exception(e\u001b[38;5;241m.\u001b[39mjava_exception)\n\u001b[1;32m    182\u001b[0m \u001b[38;5;28;01mif\u001b[39;00m \u001b[38;5;129;01mnot\u001b[39;00m \u001b[38;5;28misinstance\u001b[39m(converted, UnknownException):\n\u001b[1;32m    183\u001b[0m     \u001b[38;5;66;03m# Hide where the exception came from that shows a non-Pythonic\u001b[39;00m\n\u001b[1;32m    184\u001b[0m     \u001b[38;5;66;03m# JVM exception message.\u001b[39;00m\n\u001b[0;32m--> 185\u001b[0m     \u001b[38;5;28;01mraise\u001b[39;00m converted \u001b[38;5;28;01mfrom\u001b[39;00m \u001b[38;5;28;01mNone\u001b[39;00m\n\u001b[1;32m    186\u001b[0m \u001b[38;5;28;01melse\u001b[39;00m:\n\u001b[1;32m    187\u001b[0m     \u001b[38;5;28;01mraise\u001b[39;00m\n",
      "\u001b[0;31mIllegalArgumentException\u001b[0m: requirement failed: Column Age must be of type numeric but was actually of type string."
     ]
    }
   ],
   "source": [
    "imputer.fit(df_pyspark1).transform(df_pyspark1).show()"
   ]
  },
  {
   "cell_type": "markdown",
   "id": "506db3b1",
   "metadata": {},
   "source": [
    "## Filter options"
   ]
  },
  {
   "cell_type": "code",
   "execution_count": 4,
   "id": "80ea690e",
   "metadata": {},
   "outputs": [],
   "source": [
    "df_pyspark=spark.read.csv('/Users/nishchalverma/Downloads/dataset/data1.csv',header=True,inferSchema=True)"
   ]
  },
  {
   "cell_type": "code",
   "execution_count": 5,
   "id": "215d7ea2",
   "metadata": {},
   "outputs": [
    {
     "name": "stdout",
     "output_type": "stream",
     "text": [
      "+--------+-------+-----+-----+\n",
      "| country|lifeexp|urban|pcgdp|\n",
      "+--------+-------+-----+-----+\n",
      "| finland|  79.41|   85|36700|\n",
      "|slovakia|  76.03|   55|23600|\n",
      "|      uk|  80.17|   80|36600|\n",
      "| ukraine|  68.74|   69| 7300|\n",
      "|   spain|  81.27|   77|31000|\n",
      "+--------+-------+-----+-----+\n",
      "\n"
     ]
    }
   ],
   "source": [
    "df_pyspark.show()"
   ]
  },
  {
   "cell_type": "code",
   "execution_count": 7,
   "id": "d41d4919",
   "metadata": {},
   "outputs": [
    {
     "name": "stdout",
     "output_type": "stream",
     "text": [
      "+-------+-------+-----+-----+\n",
      "|country|lifeexp|urban|pcgdp|\n",
      "+-------+-------+-----+-----+\n",
      "|finland|  79.41|   85|36700|\n",
      "|     uk|  80.17|   80|36600|\n",
      "|ukraine|  68.74|   69| 7300|\n",
      "|  spain|  81.27|   77|31000|\n",
      "+-------+-------+-----+-----+\n",
      "\n"
     ]
    }
   ],
   "source": [
    "df_pyspark.filter('urban>=69').show()"
   ]
  },
  {
   "cell_type": "code",
   "execution_count": 8,
   "id": "6aab633b",
   "metadata": {},
   "outputs": [
    {
     "name": "stdout",
     "output_type": "stream",
     "text": [
      "+-------+-----+\n",
      "|country|pcgdp|\n",
      "+-------+-----+\n",
      "|finland|36700|\n",
      "|     uk|36600|\n",
      "|ukraine| 7300|\n",
      "|  spain|31000|\n",
      "+-------+-----+\n",
      "\n"
     ]
    }
   ],
   "source": [
    "df_pyspark.filter('urban>=69').select(['country','pcgdp']).show()"
   ]
  },
  {
   "cell_type": "code",
   "execution_count": 9,
   "id": "929310cb",
   "metadata": {},
   "outputs": [
    {
     "name": "stdout",
     "output_type": "stream",
     "text": [
      "+-------+-------+-----+-----+\n",
      "|country|lifeexp|urban|pcgdp|\n",
      "+-------+-------+-----+-----+\n",
      "|finland|  79.41|   85|36700|\n",
      "|     uk|  80.17|   80|36600|\n",
      "|  spain|  81.27|   77|31000|\n",
      "+-------+-------+-----+-----+\n",
      "\n"
     ]
    }
   ],
   "source": [
    "df_pyspark.filter(df_pyspark['urban']>69).show()"
   ]
  },
  {
   "cell_type": "code",
   "execution_count": 12,
   "id": "4191067e",
   "metadata": {},
   "outputs": [
    {
     "name": "stdout",
     "output_type": "stream",
     "text": [
      "+-------+-------+-----+-----+\n",
      "|country|lifeexp|urban|pcgdp|\n",
      "+-------+-------+-----+-----+\n",
      "|finland|  79.41|   85|36700|\n",
      "|     uk|  80.17|   80|36600|\n",
      "|  spain|  81.27|   77|31000|\n",
      "+-------+-------+-----+-----+\n",
      "\n"
     ]
    }
   ],
   "source": [
    "df_pyspark.filter((df_pyspark['urban']>69) & (df_pyspark['pcgdp']<39000)).show()"
   ]
  },
  {
   "cell_type": "code",
   "execution_count": 13,
   "id": "94ae2583",
   "metadata": {},
   "outputs": [
    {
     "name": "stdout",
     "output_type": "stream",
     "text": [
      "+--------+-------+-----+-----+\n",
      "| country|lifeexp|urban|pcgdp|\n",
      "+--------+-------+-----+-----+\n",
      "| finland|  79.41|   85|36700|\n",
      "|slovakia|  76.03|   55|23600|\n",
      "|      uk|  80.17|   80|36600|\n",
      "| ukraine|  68.74|   69| 7300|\n",
      "|   spain|  81.27|   77|31000|\n",
      "+--------+-------+-----+-----+\n",
      "\n"
     ]
    }
   ],
   "source": [
    "df_pyspark.filter((df_pyspark['urban']>69) | (df_pyspark['pcgdp']<39000)).show()"
   ]
  },
  {
   "cell_type": "markdown",
   "id": "817014d6",
   "metadata": {},
   "source": [
    "## Groupby"
   ]
  },
  {
   "cell_type": "code",
   "execution_count": 15,
   "id": "51c1c039",
   "metadata": {},
   "outputs": [],
   "source": [
    "pyspark_sal=spark.read.csv('/Users/nishchalverma/Downloads/dataset/Salary_Data.csv',header=True,inferSchema=True)"
   ]
  },
  {
   "cell_type": "code",
   "execution_count": 16,
   "id": "7a8ae8e1",
   "metadata": {},
   "outputs": [
    {
     "name": "stdout",
     "output_type": "stream",
     "text": [
      "+-----+----------+---------------+------+\n",
      "| Name|      Dept|YearsExperience|Salary|\n",
      "+-----+----------+---------------+------+\n",
      "|krish|Accounting|            1.1| 39343|\n",
      "| suny|     Admin|            1.3| 46205|\n",
      "|  ram|     Admin|            1.5| 37731|\n",
      "|dilip|   Finance|            2.0| 43525|\n",
      "|rohit|Operations|            2.2| 39891|\n",
      "|jinal|Accounting|            2.9| 56642|\n",
      "|  abi|Accounting|            3.0| 60150|\n",
      "| rana|Accounting|            3.2| 54445|\n",
      "|  kay|Operations|            3.2| 64445|\n",
      "|  ray|   Finance|            3.7| 57189|\n",
      "| amit|Operations|            3.9| 63218|\n",
      "|karan|     Admin|            4.0| 55794|\n",
      "| tanu|Operations|            4.0| 56957|\n",
      "| menu|Operations|            4.1| 57081|\n",
      "| rita|Operations|            4.5| 61111|\n",
      "| paul|     Admin|            4.9| 67938|\n",
      "|  sid|Operations|            5.1| 66029|\n",
      "| hars|   Finance|            5.3| 83088|\n",
      "| rani|Operations|            5.9| 81363|\n",
      "|priti|Operations|            6.0| 93940|\n",
      "+-----+----------+---------------+------+\n",
      "only showing top 20 rows\n",
      "\n"
     ]
    }
   ],
   "source": [
    "pyspark_sal.show()"
   ]
  },
  {
   "cell_type": "code",
   "execution_count": 17,
   "id": "4a3a7db6",
   "metadata": {},
   "outputs": [
    {
     "name": "stdout",
     "output_type": "stream",
     "text": [
      "+----------+--------------------+-----------+\n",
      "|      Dept|sum(YearsExperience)|sum(Salary)|\n",
      "+----------+--------------------+-----------+\n",
      "|Accounting|                27.3|     424709|\n",
      "|   Finance|                37.3|     513378|\n",
      "|     Admin|                28.9|     427062|\n",
      "|Operations|   65.89999999999999|     914941|\n",
      "+----------+--------------------+-----------+\n",
      "\n"
     ]
    }
   ],
   "source": [
    "pyspark_sal.groupBy('Dept').sum().show()"
   ]
  },
  {
   "cell_type": "code",
   "execution_count": 18,
   "id": "1df92717",
   "metadata": {},
   "outputs": [
    {
     "name": "stdout",
     "output_type": "stream",
     "text": [
      "+----------+-----+\n",
      "|      Dept|count|\n",
      "+----------+-----+\n",
      "|Accounting|    6|\n",
      "|   Finance|    6|\n",
      "|     Admin|    6|\n",
      "|Operations|   12|\n",
      "+----------+-----+\n",
      "\n"
     ]
    }
   ],
   "source": [
    "pyspark_sal.groupBy('Dept').count().show()"
   ]
  },
  {
   "cell_type": "code",
   "execution_count": 19,
   "id": "51a09b0c",
   "metadata": {},
   "outputs": [
    {
     "name": "stdout",
     "output_type": "stream",
     "text": [
      "+-----------+-----------+--------------------+\n",
      "|avg(Salary)|count(Dept)|sum(YearsExperience)|\n",
      "+-----------+-----------+--------------------+\n",
      "|    76003.0|         30|               159.4|\n",
      "+-----------+-----------+--------------------+\n",
      "\n"
     ]
    }
   ],
   "source": [
    "pyspark_sal.agg({'YearsExperience':'sum','Dept':'count','Salary':'avg'}).show()"
   ]
  },
  {
   "cell_type": "markdown",
   "id": "20d3d8af",
   "metadata": {},
   "source": [
    "## Mllib"
   ]
  },
  {
   "cell_type": "code",
   "execution_count": null,
   "id": "675f551d",
   "metadata": {},
   "outputs": [],
   "source": [
    "['YearsExperience','Salary'] --->Indepedent feature together"
   ]
  },
  {
   "cell_type": "code",
   "execution_count": 20,
   "id": "87914301",
   "metadata": {},
   "outputs": [],
   "source": [
    "from pyspark.ml.feature import VectorAssembler\n",
    "featureassembler=VectorAssembler(inputCols=['YearsExperience','Salary'],outputCol='Independent feature')"
   ]
  },
  {
   "cell_type": "code",
   "execution_count": 21,
   "id": "778567bc",
   "metadata": {},
   "outputs": [],
   "source": [
    "output=featureassembler.transform(pyspark_sal)"
   ]
  },
  {
   "cell_type": "code",
   "execution_count": 22,
   "id": "b5c2e3c9",
   "metadata": {},
   "outputs": [
    {
     "name": "stdout",
     "output_type": "stream",
     "text": [
      "+-----+----------+---------------+------+-------------------+\n",
      "| Name|      Dept|YearsExperience|Salary|Independent feature|\n",
      "+-----+----------+---------------+------+-------------------+\n",
      "|krish|Accounting|            1.1| 39343|      [1.1,39343.0]|\n",
      "| suny|     Admin|            1.3| 46205|      [1.3,46205.0]|\n",
      "|  ram|     Admin|            1.5| 37731|      [1.5,37731.0]|\n",
      "|dilip|   Finance|            2.0| 43525|      [2.0,43525.0]|\n",
      "|rohit|Operations|            2.2| 39891|      [2.2,39891.0]|\n",
      "|jinal|Accounting|            2.9| 56642|      [2.9,56642.0]|\n",
      "|  abi|Accounting|            3.0| 60150|      [3.0,60150.0]|\n",
      "| rana|Accounting|            3.2| 54445|      [3.2,54445.0]|\n",
      "|  kay|Operations|            3.2| 64445|      [3.2,64445.0]|\n",
      "|  ray|   Finance|            3.7| 57189|      [3.7,57189.0]|\n",
      "| amit|Operations|            3.9| 63218|      [3.9,63218.0]|\n",
      "|karan|     Admin|            4.0| 55794|      [4.0,55794.0]|\n",
      "| tanu|Operations|            4.0| 56957|      [4.0,56957.0]|\n",
      "| menu|Operations|            4.1| 57081|      [4.1,57081.0]|\n",
      "| rita|Operations|            4.5| 61111|      [4.5,61111.0]|\n",
      "| paul|     Admin|            4.9| 67938|      [4.9,67938.0]|\n",
      "|  sid|Operations|            5.1| 66029|      [5.1,66029.0]|\n",
      "| hars|   Finance|            5.3| 83088|      [5.3,83088.0]|\n",
      "| rani|Operations|            5.9| 81363|      [5.9,81363.0]|\n",
      "|priti|Operations|            6.0| 93940|      [6.0,93940.0]|\n",
      "+-----+----------+---------------+------+-------------------+\n",
      "only showing top 20 rows\n",
      "\n"
     ]
    }
   ],
   "source": [
    "output.show()"
   ]
  },
  {
   "cell_type": "code",
   "execution_count": 23,
   "id": "cee16ada",
   "metadata": {},
   "outputs": [
    {
     "data": {
      "text/plain": [
       "['Name', 'Dept', 'YearsExperience', 'Salary', 'Independent feature']"
      ]
     },
     "execution_count": 23,
     "metadata": {},
     "output_type": "execute_result"
    }
   ],
   "source": [
    "output.columns"
   ]
  },
  {
   "cell_type": "code",
   "execution_count": 24,
   "id": "28f76123",
   "metadata": {},
   "outputs": [],
   "source": [
    "final_data=output.select('Independent feature','Salary')"
   ]
  },
  {
   "cell_type": "code",
   "execution_count": 26,
   "id": "aa6b9832",
   "metadata": {},
   "outputs": [
    {
     "name": "stdout",
     "output_type": "stream",
     "text": [
      "+-------------------+------+\n",
      "|Independent feature|Salary|\n",
      "+-------------------+------+\n",
      "|      [1.1,39343.0]| 39343|\n",
      "|      [1.3,46205.0]| 46205|\n",
      "|      [1.5,37731.0]| 37731|\n",
      "|      [2.0,43525.0]| 43525|\n",
      "|      [2.2,39891.0]| 39891|\n",
      "|      [2.9,56642.0]| 56642|\n",
      "|      [3.0,60150.0]| 60150|\n",
      "|      [3.2,54445.0]| 54445|\n",
      "|      [3.2,64445.0]| 64445|\n",
      "|      [3.7,57189.0]| 57189|\n",
      "|      [3.9,63218.0]| 63218|\n",
      "|      [4.0,55794.0]| 55794|\n",
      "|      [4.0,56957.0]| 56957|\n",
      "|      [4.1,57081.0]| 57081|\n",
      "|      [4.5,61111.0]| 61111|\n",
      "|      [4.9,67938.0]| 67938|\n",
      "|      [5.1,66029.0]| 66029|\n",
      "|      [5.3,83088.0]| 83088|\n",
      "|      [5.9,81363.0]| 81363|\n",
      "|      [6.0,93940.0]| 93940|\n",
      "+-------------------+------+\n",
      "only showing top 20 rows\n",
      "\n"
     ]
    }
   ],
   "source": [
    "final_data.show()"
   ]
  },
  {
   "cell_type": "code",
   "execution_count": 28,
   "id": "a3f935b7",
   "metadata": {},
   "outputs": [
    {
     "name": "stderr",
     "output_type": "stream",
     "text": [
      "24/04/23 16:11:05 WARN Instrumentation: [22f6e79c] regParam is zero, which might cause numerical instability and overfitting.\n",
      "24/04/23 16:11:05 WARN InstanceBuilder: Failed to load implementation from:dev.ludovic.netlib.blas.JNIBLAS\n",
      "24/04/23 16:11:05 WARN InstanceBuilder: Failed to load implementation from:dev.ludovic.netlib.lapack.JNILAPACK\n"
     ]
    }
   ],
   "source": [
    "from pyspark.ml.regression import LinearRegression\n",
    "train_data,test_data=final_data.randomSplit([0.75,0.25])\n",
    "regressor=LinearRegression(featuresCol='Independent feature', labelCol='Salary')\n",
    "regressor=regressor.fit(train_data)"
   ]
  },
  {
   "cell_type": "code",
   "execution_count": 29,
   "id": "d8a3430d",
   "metadata": {},
   "outputs": [
    {
     "data": {
      "text/plain": [
       "DenseVector([0.0, 1.0])"
      ]
     },
     "execution_count": 29,
     "metadata": {},
     "output_type": "execute_result"
    }
   ],
   "source": [
    "regressor.coefficients"
   ]
  },
  {
   "cell_type": "code",
   "execution_count": 30,
   "id": "cf0bcee4",
   "metadata": {},
   "outputs": [
    {
     "data": {
      "text/plain": [
       "4.493488145016929e-11"
      ]
     },
     "execution_count": 30,
     "metadata": {},
     "output_type": "execute_result"
    }
   ],
   "source": [
    "regressor.intercept"
   ]
  },
  {
   "cell_type": "code",
   "execution_count": 32,
   "id": "1e115837",
   "metadata": {},
   "outputs": [],
   "source": [
    "pred=regressor.evaluate(test_data)"
   ]
  },
  {
   "cell_type": "code",
   "execution_count": 33,
   "id": "9008f649",
   "metadata": {},
   "outputs": [
    {
     "name": "stdout",
     "output_type": "stream",
     "text": [
      "+-------------------+------+------------------+\n",
      "|Independent feature|Salary|        prediction|\n",
      "+-------------------+------+------------------+\n",
      "|      [1.5,37731.0]| 37731| 37731.00000000001|\n",
      "|      [2.0,43525.0]| 43525| 43525.00000000001|\n",
      "|      [3.2,54445.0]| 54445|           54445.0|\n",
      "|      [3.7,57189.0]| 57189| 57189.00000000001|\n",
      "|      [3.9,63218.0]| 63218| 63217.99999999999|\n",
      "|      [4.0,55794.0]| 55794| 55794.00000000001|\n",
      "|      [4.1,57081.0]| 57081| 57081.00000000001|\n",
      "|      [4.9,67938.0]| 67938|           67938.0|\n",
      "|      [7.1,98273.0]| 98273| 98272.99999999999|\n",
      "|     [8.2,113812.0]|113812|113811.99999999997|\n",
      "|     [9.5,116969.0]|116969|          116969.0|\n",
      "|    [10.3,122391.0]|122391|122390.99999999999|\n",
      "+-------------------+------+------------------+\n",
      "\n"
     ]
    }
   ],
   "source": [
    "pred.predictions.show()"
   ]
  },
  {
   "cell_type": "code",
   "execution_count": 34,
   "id": "ed8d0afc",
   "metadata": {},
   "outputs": [
    {
     "data": {
      "text/plain": [
       "(8.48861721654733e-12, 1.3234889800848443e-22)"
      ]
     },
     "execution_count": 34,
     "metadata": {},
     "output_type": "execute_result"
    }
   ],
   "source": [
    "pred.meanAbsoluteError,pred.meanSquaredError"
   ]
  },
  {
   "cell_type": "code",
   "execution_count": null,
   "id": "dcdc5855",
   "metadata": {},
   "outputs": [],
   "source": []
  }
 ],
 "metadata": {
  "kernelspec": {
   "display_name": "Python 3 (ipykernel)",
   "language": "python",
   "name": "python3"
  },
  "language_info": {
   "codemirror_mode": {
    "name": "ipython",
    "version": 3
   },
   "file_extension": ".py",
   "mimetype": "text/x-python",
   "name": "python",
   "nbconvert_exporter": "python",
   "pygments_lexer": "ipython3",
   "version": "3.11.5"
  }
 },
 "nbformat": 4,
 "nbformat_minor": 5
}
