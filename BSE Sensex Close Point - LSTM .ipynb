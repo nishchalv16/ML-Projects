{
 "cells": [
  {
   "cell_type": "code",
   "execution_count": null,
   "id": "0f68d3c8",
   "metadata": {},
   "outputs": [],
   "source": [
    "#Scraping through Beautiful Soup\n",
    "\n",
    "import requests\n",
    "from bs4 import BeautifulSoup\n",
    "import pandas as pd\n",
    "\n",
    "url = 'https://finance.yahoo.com/quote/%5EBSESN/history/?period1=1559290291&period2=1717143080'  # Replace with URL\n",
    "response = requests.get(url)\n",
    "soup = BeautifulSoup(response.content, 'html.parser')\n",
    "\n",
    "table = soup.find('table',class_='table svelte-ewueuo noDl')  # Adjust this line if the table has a specific class or id\n",
    "\n",
    "# Extract table headers\n",
    "headers = []\n",
    "for header in table.find_all('th'):\n",
    "    headers.append(header.text.strip())\n",
    "\n",
    "# Extract table rows\n",
    "rows = []\n",
    "for row in table.find_all('tr'):\n",
    "    cells = row.find_all('td')\n",
    "    cells = [cell.text.strip() for cell in cells]\n",
    "    if cells:  # Avoid empty rows\n",
    "        rows.append(cells)\n",
    "\n",
    "# Create DataFrame\n",
    "df = pd.DataFrame(rows, columns=headers)\n",
    "\n",
    "# Display the DataFrame\n",
    "print(df)"
   ]
  },
  {
   "cell_type": "code",
   "execution_count": 7,
   "id": "8116d674",
   "metadata": {},
   "outputs": [
    {
     "name": "stdout",
     "output_type": "stream",
     "text": [
      "Requirement already satisfied: numpy in ./anaconda3/lib/python3.11/site-packages (1.24.3)\n",
      "Requirement already satisfied: pandas in ./anaconda3/lib/python3.11/site-packages (2.0.3)\n",
      "Requirement already satisfied: matplotlib in ./anaconda3/lib/python3.11/site-packages (3.7.2)\n",
      "Requirement already satisfied: scikit-learn in ./anaconda3/lib/python3.11/site-packages (1.3.0)\n",
      "Collecting tensorflow\n",
      "  Obtaining dependency information for tensorflow from https://files.pythonhosted.org/packages/f9/14/67e9b2b2379cb530c0412123a674d045eca387dfcfa7db1c0028857b0a66/tensorflow-2.16.1-cp311-cp311-macosx_12_0_arm64.whl.metadata\n",
      "  Downloading tensorflow-2.16.1-cp311-cp311-macosx_12_0_arm64.whl.metadata (4.1 kB)\n",
      "Requirement already satisfied: python-dateutil>=2.8.2 in ./anaconda3/lib/python3.11/site-packages (from pandas) (2.8.2)\n",
      "Requirement already satisfied: pytz>=2020.1 in ./anaconda3/lib/python3.11/site-packages (from pandas) (2023.3.post1)\n",
      "Requirement already satisfied: tzdata>=2022.1 in ./anaconda3/lib/python3.11/site-packages (from pandas) (2023.3)\n",
      "Requirement already satisfied: contourpy>=1.0.1 in ./anaconda3/lib/python3.11/site-packages (from matplotlib) (1.0.5)\n",
      "Requirement already satisfied: cycler>=0.10 in ./anaconda3/lib/python3.11/site-packages (from matplotlib) (0.11.0)\n",
      "Requirement already satisfied: fonttools>=4.22.0 in ./anaconda3/lib/python3.11/site-packages (from matplotlib) (4.25.0)\n",
      "Requirement already satisfied: kiwisolver>=1.0.1 in ./anaconda3/lib/python3.11/site-packages (from matplotlib) (1.4.4)\n",
      "Requirement already satisfied: packaging>=20.0 in ./anaconda3/lib/python3.11/site-packages (from matplotlib) (23.1)\n",
      "Requirement already satisfied: pillow>=6.2.0 in ./anaconda3/lib/python3.11/site-packages (from matplotlib) (10.2.0)\n",
      "Requirement already satisfied: pyparsing<3.1,>=2.3.1 in ./anaconda3/lib/python3.11/site-packages (from matplotlib) (3.0.9)\n",
      "Requirement already satisfied: scipy>=1.5.0 in ./anaconda3/lib/python3.11/site-packages (from scikit-learn) (1.11.1)\n",
      "Requirement already satisfied: joblib>=1.1.1 in ./anaconda3/lib/python3.11/site-packages (from scikit-learn) (1.2.0)\n",
      "Requirement already satisfied: threadpoolctl>=2.0.0 in ./anaconda3/lib/python3.11/site-packages (from scikit-learn) (2.2.0)\n",
      "Collecting absl-py>=1.0.0 (from tensorflow)\n",
      "  Obtaining dependency information for absl-py>=1.0.0 from https://files.pythonhosted.org/packages/a2/ad/e0d3c824784ff121c03cc031f944bc7e139a8f1870ffd2845cc2dd76f6c4/absl_py-2.1.0-py3-none-any.whl.metadata\n",
      "  Downloading absl_py-2.1.0-py3-none-any.whl.metadata (2.3 kB)\n",
      "Collecting astunparse>=1.6.0 (from tensorflow)\n",
      "  Obtaining dependency information for astunparse>=1.6.0 from https://files.pythonhosted.org/packages/2b/03/13dde6512ad7b4557eb792fbcf0c653af6076b81e5941d36ec61f7ce6028/astunparse-1.6.3-py2.py3-none-any.whl.metadata\n",
      "  Downloading astunparse-1.6.3-py2.py3-none-any.whl.metadata (4.4 kB)\n",
      "Collecting flatbuffers>=23.5.26 (from tensorflow)\n",
      "  Obtaining dependency information for flatbuffers>=23.5.26 from https://files.pythonhosted.org/packages/41/f0/7e988a019bc54b2dbd0ad4182ef2d53488bb02e58694cd79d61369e85900/flatbuffers-24.3.25-py2.py3-none-any.whl.metadata\n",
      "  Downloading flatbuffers-24.3.25-py2.py3-none-any.whl.metadata (850 bytes)\n",
      "Collecting gast!=0.5.0,!=0.5.1,!=0.5.2,>=0.2.1 (from tensorflow)\n",
      "  Obtaining dependency information for gast!=0.5.0,!=0.5.1,!=0.5.2,>=0.2.1 from https://files.pythonhosted.org/packages/fa/39/5aae571e5a5f4de9c3445dae08a530498e5c53b0e74410eeeb0991c79047/gast-0.5.4-py3-none-any.whl.metadata\n",
      "  Downloading gast-0.5.4-py3-none-any.whl.metadata (1.3 kB)\n",
      "Collecting google-pasta>=0.1.1 (from tensorflow)\n",
      "  Obtaining dependency information for google-pasta>=0.1.1 from https://files.pythonhosted.org/packages/a3/de/c648ef6835192e6e2cc03f40b19eeda4382c49b5bafb43d88b931c4c74ac/google_pasta-0.2.0-py3-none-any.whl.metadata\n",
      "  Downloading google_pasta-0.2.0-py3-none-any.whl.metadata (814 bytes)\n",
      "Collecting h5py>=3.10.0 (from tensorflow)\n",
      "  Obtaining dependency information for h5py>=3.10.0 from https://files.pythonhosted.org/packages/f0/af/dfbea0c69fe725e9e77259d42f4e14eb582eb094200aaf697feb36f513d8/h5py-3.11.0-cp311-cp311-macosx_11_0_arm64.whl.metadata\n",
      "  Downloading h5py-3.11.0-cp311-cp311-macosx_11_0_arm64.whl.metadata (2.5 kB)\n",
      "Collecting libclang>=13.0.0 (from tensorflow)\n",
      "  Obtaining dependency information for libclang>=13.0.0 from https://files.pythonhosted.org/packages/db/ed/1df62b44db2583375f6a8a5e2ca5432bbdc3edb477942b9b7c848c720055/libclang-18.1.1-py2.py3-none-macosx_11_0_arm64.whl.metadata\n",
      "  Downloading libclang-18.1.1-py2.py3-none-macosx_11_0_arm64.whl.metadata (5.2 kB)\n",
      "Collecting ml-dtypes~=0.3.1 (from tensorflow)\n",
      "  Obtaining dependency information for ml-dtypes~=0.3.1 from https://files.pythonhosted.org/packages/6e/a4/6aabb78f1569550fd77c74d2c1d008b502c8ce72776bd88b14ea6c182c9e/ml_dtypes-0.3.2-cp311-cp311-macosx_10_9_universal2.whl.metadata\n",
      "  Downloading ml_dtypes-0.3.2-cp311-cp311-macosx_10_9_universal2.whl.metadata (20 kB)\n",
      "Collecting opt-einsum>=2.3.2 (from tensorflow)\n",
      "  Obtaining dependency information for opt-einsum>=2.3.2 from https://files.pythonhosted.org/packages/bc/19/404708a7e54ad2798907210462fd950c3442ea51acc8790f3da48d2bee8b/opt_einsum-3.3.0-py3-none-any.whl.metadata\n",
      "  Downloading opt_einsum-3.3.0-py3-none-any.whl.metadata (6.5 kB)\n",
      "Collecting protobuf!=4.21.0,!=4.21.1,!=4.21.2,!=4.21.3,!=4.21.4,!=4.21.5,<5.0.0dev,>=3.20.3 (from tensorflow)\n",
      "  Obtaining dependency information for protobuf!=4.21.0,!=4.21.1,!=4.21.2,!=4.21.3,!=4.21.4,!=4.21.5,<5.0.0dev,>=3.20.3 from https://files.pythonhosted.org/packages/f3/bf/26deba06a4c910a85f78245cac7698f67cedd7efe00d04f6b3e1b3506a59/protobuf-4.25.3-cp37-abi3-macosx_10_9_universal2.whl.metadata\n",
      "  Downloading protobuf-4.25.3-cp37-abi3-macosx_10_9_universal2.whl.metadata (541 bytes)\n",
      "Requirement already satisfied: requests<3,>=2.21.0 in ./anaconda3/lib/python3.11/site-packages (from tensorflow) (2.31.0)\n",
      "Requirement already satisfied: setuptools in ./anaconda3/lib/python3.11/site-packages (from tensorflow) (68.0.0)\n",
      "Requirement already satisfied: six>=1.12.0 in ./anaconda3/lib/python3.11/site-packages (from tensorflow) (1.16.0)\n",
      "Collecting termcolor>=1.1.0 (from tensorflow)\n",
      "  Obtaining dependency information for termcolor>=1.1.0 from https://files.pythonhosted.org/packages/d9/5f/8c716e47b3a50cbd7c146f45881e11d9414def768b7cd9c5e6650ec2a80a/termcolor-2.4.0-py3-none-any.whl.metadata\n",
      "  Downloading termcolor-2.4.0-py3-none-any.whl.metadata (6.1 kB)\n",
      "Requirement already satisfied: typing-extensions>=3.6.6 in ./anaconda3/lib/python3.11/site-packages (from tensorflow) (4.7.1)\n",
      "Requirement already satisfied: wrapt>=1.11.0 in ./anaconda3/lib/python3.11/site-packages (from tensorflow) (1.14.1)\n",
      "Collecting grpcio<2.0,>=1.24.3 (from tensorflow)\n",
      "  Obtaining dependency information for grpcio<2.0,>=1.24.3 from https://files.pythonhosted.org/packages/66/e6/b52f4dbb9a93ff586053255c1077c421aa2af8636da1571b64475ebb17aa/grpcio-1.64.0-cp311-cp311-macosx_10_9_universal2.whl.metadata\n",
      "  Downloading grpcio-1.64.0-cp311-cp311-macosx_10_9_universal2.whl.metadata (3.3 kB)\n",
      "Collecting tensorboard<2.17,>=2.16 (from tensorflow)\n",
      "  Obtaining dependency information for tensorboard<2.17,>=2.16 from https://files.pythonhosted.org/packages/3a/d0/b97889ffa769e2d1fdebb632084d5e8b53fc299d43a537acee7ec0c021a3/tensorboard-2.16.2-py3-none-any.whl.metadata\n",
      "  Downloading tensorboard-2.16.2-py3-none-any.whl.metadata (1.6 kB)\n",
      "Collecting keras>=3.0.0 (from tensorflow)\n",
      "  Obtaining dependency information for keras>=3.0.0 from https://files.pythonhosted.org/packages/8d/44/c604ecc5c9993b6574a681f2f505e980725871a89cfd9e48597b12ccb506/keras-3.3.3-py3-none-any.whl.metadata\n",
      "  Downloading keras-3.3.3-py3-none-any.whl.metadata (5.7 kB)\n",
      "Collecting tensorflow-io-gcs-filesystem>=0.23.1 (from tensorflow)\n",
      "  Obtaining dependency information for tensorflow-io-gcs-filesystem>=0.23.1 from https://files.pythonhosted.org/packages/72/df/c39b261bd93bde1eb3d6ee5c83d318803255bbe7e642ae345ca6f6a55932/tensorflow_io_gcs_filesystem-0.37.0-cp311-cp311-macosx_12_0_arm64.whl.metadata\n",
      "  Downloading tensorflow_io_gcs_filesystem-0.37.0-cp311-cp311-macosx_12_0_arm64.whl.metadata (14 kB)\n",
      "Requirement already satisfied: wheel<1.0,>=0.23.0 in ./anaconda3/lib/python3.11/site-packages (from astunparse>=1.6.0->tensorflow) (0.38.4)\n",
      "Collecting rich (from keras>=3.0.0->tensorflow)\n",
      "  Obtaining dependency information for rich from https://files.pythonhosted.org/packages/87/67/a37f6214d0e9fe57f6ae54b2956d550ca8365857f42a1ce0392bb21d9410/rich-13.7.1-py3-none-any.whl.metadata\n",
      "  Downloading rich-13.7.1-py3-none-any.whl.metadata (18 kB)\n",
      "Collecting namex (from keras>=3.0.0->tensorflow)\n",
      "  Obtaining dependency information for namex from https://files.pythonhosted.org/packages/73/59/7854fbfb59f8ae35483ce93493708be5942ebb6328cd85b3a609df629736/namex-0.0.8-py3-none-any.whl.metadata\n",
      "  Downloading namex-0.0.8-py3-none-any.whl.metadata (246 bytes)\n",
      "Collecting optree (from keras>=3.0.0->tensorflow)\n",
      "  Obtaining dependency information for optree from https://files.pythonhosted.org/packages/cc/b8/33127d52de868d2aabc14ec6f53cb2dffafd14c5c708f50d171552a3a451/optree-0.11.0-cp311-cp311-macosx_11_0_arm64.whl.metadata\n",
      "  Downloading optree-0.11.0-cp311-cp311-macosx_11_0_arm64.whl.metadata (45 kB)\n",
      "\u001b[2K     \u001b[90m━━━━━━━━━━━━━━━━━━━━━━━━━━━━━━━━━━━━━━━\u001b[0m \u001b[32m45.4/45.4 kB\u001b[0m \u001b[31m633.2 kB/s\u001b[0m eta \u001b[36m0:00:00\u001b[0m:--:--\u001b[0m\n",
      "\u001b[?25hRequirement already satisfied: charset-normalizer<4,>=2 in ./anaconda3/lib/python3.11/site-packages (from requests<3,>=2.21.0->tensorflow) (2.0.4)\n",
      "Requirement already satisfied: idna<4,>=2.5 in ./anaconda3/lib/python3.11/site-packages (from requests<3,>=2.21.0->tensorflow) (3.4)\n",
      "Requirement already satisfied: urllib3<3,>=1.21.1 in ./anaconda3/lib/python3.11/site-packages (from requests<3,>=2.21.0->tensorflow) (1.26.16)\n",
      "Requirement already satisfied: certifi>=2017.4.17 in ./anaconda3/lib/python3.11/site-packages (from requests<3,>=2.21.0->tensorflow) (2024.2.2)\n",
      "Requirement already satisfied: markdown>=2.6.8 in ./anaconda3/lib/python3.11/site-packages (from tensorboard<2.17,>=2.16->tensorflow) (3.4.1)\n",
      "Collecting tensorboard-data-server<0.8.0,>=0.7.0 (from tensorboard<2.17,>=2.16->tensorflow)\n",
      "  Obtaining dependency information for tensorboard-data-server<0.8.0,>=0.7.0 from https://files.pythonhosted.org/packages/7a/13/e503968fefabd4c6b2650af21e110aa8466fe21432cd7c43a84577a89438/tensorboard_data_server-0.7.2-py3-none-any.whl.metadata\n",
      "  Downloading tensorboard_data_server-0.7.2-py3-none-any.whl.metadata (1.1 kB)\n",
      "Requirement already satisfied: werkzeug>=1.0.1 in ./anaconda3/lib/python3.11/site-packages (from tensorboard<2.17,>=2.16->tensorflow) (2.2.3)\n",
      "Requirement already satisfied: MarkupSafe>=2.1.1 in ./anaconda3/lib/python3.11/site-packages (from werkzeug>=1.0.1->tensorboard<2.17,>=2.16->tensorflow) (2.1.1)\n",
      "Requirement already satisfied: markdown-it-py>=2.2.0 in ./anaconda3/lib/python3.11/site-packages (from rich->keras>=3.0.0->tensorflow) (2.2.0)\n",
      "Requirement already satisfied: pygments<3.0.0,>=2.13.0 in ./anaconda3/lib/python3.11/site-packages (from rich->keras>=3.0.0->tensorflow) (2.15.1)\n",
      "Requirement already satisfied: mdurl~=0.1 in ./anaconda3/lib/python3.11/site-packages (from markdown-it-py>=2.2.0->rich->keras>=3.0.0->tensorflow) (0.1.0)\n",
      "Downloading tensorflow-2.16.1-cp311-cp311-macosx_12_0_arm64.whl (227.0 MB)\n",
      "\u001b[2K   \u001b[90m━━━━━━━━━━━━━━━━━━━━━━━━━━━━━━━━━━━━━━━━\u001b[0m \u001b[32m227.0/227.0 MB\u001b[0m \u001b[31m2.8 MB/s\u001b[0m eta \u001b[36m0:00:00\u001b[0m00:01\u001b[0m00:02\u001b[0mm\n",
      "\u001b[?25hDownloading absl_py-2.1.0-py3-none-any.whl (133 kB)\n",
      "\u001b[2K   \u001b[90m━━━━━━━━━━━━━━━━━━━━━━━━━━━━━━━━━━━━━━━━\u001b[0m \u001b[32m133.7/133.7 kB\u001b[0m \u001b[31m3.1 MB/s\u001b[0m eta \u001b[36m0:00:00\u001b[0m00:01\u001b[0m\n",
      "\u001b[?25hDownloading astunparse-1.6.3-py2.py3-none-any.whl (12 kB)\n",
      "Downloading flatbuffers-24.3.25-py2.py3-none-any.whl (26 kB)\n",
      "Downloading gast-0.5.4-py3-none-any.whl (19 kB)\n",
      "Downloading google_pasta-0.2.0-py3-none-any.whl (57 kB)\n",
      "\u001b[2K   \u001b[90m━━━━━━━━━━━━━━━━━━━━━━━━━━━━━━━━━━━━━━━━\u001b[0m \u001b[32m57.5/57.5 kB\u001b[0m \u001b[31m2.3 MB/s\u001b[0m eta \u001b[36m0:00:00\u001b[0m\n",
      "\u001b[?25hDownloading grpcio-1.64.0-cp311-cp311-macosx_10_9_universal2.whl (10.4 MB)\n",
      "\u001b[2K   \u001b[90m━━━━━━━━━━━━━━━━━━━━━━━━━━━━━━━━━━━━━━━━\u001b[0m \u001b[32m10.4/10.4 MB\u001b[0m \u001b[31m2.7 MB/s\u001b[0m eta \u001b[36m0:00:00\u001b[0m00:01\u001b[0m00:01\u001b[0m\n",
      "\u001b[?25hDownloading h5py-3.11.0-cp311-cp311-macosx_11_0_arm64.whl (2.9 MB)\n",
      "\u001b[2K   \u001b[90m━━━━━━━━━━━━━━━━━━━━━━━━━━━━━━━━━━━━━━━━\u001b[0m \u001b[32m2.9/2.9 MB\u001b[0m \u001b[31m2.9 MB/s\u001b[0m eta \u001b[36m0:00:00\u001b[0m00:01\u001b[0m00:01\u001b[0m\n",
      "\u001b[?25hDownloading keras-3.3.3-py3-none-any.whl (1.1 MB)\n",
      "\u001b[2K   \u001b[90m━━━━━━━━━━━━━━━━━━━━━━━━━━━━━━━━━━━━━━━━\u001b[0m \u001b[32m1.1/1.1 MB\u001b[0m \u001b[31m3.5 MB/s\u001b[0m eta \u001b[36m0:00:00\u001b[0ma \u001b[36m0:00:01\u001b[0m\n",
      "\u001b[?25hDownloading libclang-18.1.1-py2.py3-none-macosx_11_0_arm64.whl (26.4 MB)\n",
      "\u001b[2K   \u001b[90m━━━━━━━━━━━━━━━━━━━━━━━━━━━━━━━━━━━━━━━━\u001b[0m \u001b[32m26.4/26.4 MB\u001b[0m \u001b[31m2.6 MB/s\u001b[0m eta \u001b[36m0:00:00\u001b[0m00:01\u001b[0m00:01\u001b[0m\n",
      "\u001b[?25hDownloading ml_dtypes-0.3.2-cp311-cp311-macosx_10_9_universal2.whl (389 kB)\n",
      "\u001b[2K   \u001b[90m━━━━━━━━━━━━━━━━━━━━━━━━━━━━━━━━━━━━━━━━\u001b[0m \u001b[32m389.8/389.8 kB\u001b[0m \u001b[31m3.4 MB/s\u001b[0m eta \u001b[36m0:00:00\u001b[0m00:01\u001b[0m00:01\u001b[0m\n",
      "\u001b[?25hDownloading opt_einsum-3.3.0-py3-none-any.whl (65 kB)\n",
      "\u001b[2K   \u001b[90m━━━━━━━━━━━━━━━━━━━━━━━━━━━━━━━━━━━━━━━━\u001b[0m \u001b[32m65.5/65.5 kB\u001b[0m \u001b[31m3.0 MB/s\u001b[0m eta \u001b[36m0:00:00\u001b[0m\n",
      "\u001b[?25hDownloading protobuf-4.25.3-cp37-abi3-macosx_10_9_universal2.whl (394 kB)\n",
      "\u001b[2K   \u001b[90m━━━━━━━━━━━━━━━━━━━━━━━━━━━━━━━━━━━━━━━━\u001b[0m \u001b[32m394.2/394.2 kB\u001b[0m \u001b[31m2.1 MB/s\u001b[0m eta \u001b[36m0:00:00\u001b[0ma \u001b[36m0:00:01\u001b[0m\n",
      "\u001b[?25hDownloading tensorboard-2.16.2-py3-none-any.whl (5.5 MB)\n",
      "\u001b[2K   \u001b[90m━━━━━━━━━━━━━━━━━━━━━━━━━━━━━━━━━━━━━━━━\u001b[0m \u001b[32m5.5/5.5 MB\u001b[0m \u001b[31m1.8 MB/s\u001b[0m eta \u001b[36m0:00:00\u001b[0m00:01\u001b[0m00:01\u001b[0m\n",
      "\u001b[?25hDownloading tensorflow_io_gcs_filesystem-0.37.0-cp311-cp311-macosx_12_0_arm64.whl (3.5 MB)\n",
      "\u001b[2K   \u001b[90m━━━━━━━━━━━━━━━━━━━━━━━━━━━━━━━━━━━━━━━━\u001b[0m \u001b[32m3.5/3.5 MB\u001b[0m \u001b[31m1.1 MB/s\u001b[0m eta \u001b[36m0:00:00\u001b[0m00:01\u001b[0m00:01\u001b[0m\n",
      "\u001b[?25hDownloading termcolor-2.4.0-py3-none-any.whl (7.7 kB)\n",
      "Downloading tensorboard_data_server-0.7.2-py3-none-any.whl (2.4 kB)\n",
      "Downloading namex-0.0.8-py3-none-any.whl (5.8 kB)\n",
      "Downloading optree-0.11.0-cp311-cp311-macosx_11_0_arm64.whl (274 kB)\n",
      "\u001b[2K   \u001b[90m━━━━━━━━━━━━━━━━━━━━━━━━━━━━━━━━━━━━━━━\u001b[0m \u001b[32m274.7/274.7 kB\u001b[0m \u001b[31m865.4 kB/s\u001b[0m eta \u001b[36m0:00:00\u001b[0ma \u001b[36m0:00:01\u001b[0m\n",
      "\u001b[?25hDownloading rich-13.7.1-py3-none-any.whl (240 kB)\n",
      "\u001b[2K   \u001b[90m━━━━━━━━━━━━━━━━━━━━━━━━━━━━━━━━━━━━━━━━\u001b[0m \u001b[32m240.7/240.7 kB\u001b[0m \u001b[31m1.1 MB/s\u001b[0m eta \u001b[36m0:00:00\u001b[0m00:01\u001b[0m00:01\u001b[0mm\n",
      "\u001b[?25hInstalling collected packages: namex, libclang, flatbuffers, termcolor, tensorflow-io-gcs-filesystem, tensorboard-data-server, protobuf, optree, opt-einsum, ml-dtypes, h5py, grpcio, google-pasta, gast, astunparse, absl-py, tensorboard, rich, keras, tensorflow\n",
      "  Attempting uninstall: h5py\n",
      "    Found existing installation: h5py 3.9.0\n",
      "    Uninstalling h5py-3.9.0:\n",
      "      Successfully uninstalled h5py-3.9.0\n",
      "Successfully installed absl-py-2.1.0 astunparse-1.6.3 flatbuffers-24.3.25 gast-0.5.4 google-pasta-0.2.0 grpcio-1.64.0 h5py-3.11.0 keras-3.3.3 libclang-18.1.1 ml-dtypes-0.3.2 namex-0.0.8 opt-einsum-3.3.0 optree-0.11.0 protobuf-4.25.3 rich-13.7.1 tensorboard-2.16.2 tensorboard-data-server-0.7.2 tensorflow-2.16.1 tensorflow-io-gcs-filesystem-0.37.0 termcolor-2.4.0\n",
      "Note: you may need to restart the kernel to use updated packages.\n"
     ]
    }
   ],
   "source": [
    "pip install numpy pandas matplotlib scikit-learn tensorflow"
   ]
  },
  {
   "cell_type": "code",
   "execution_count": 9,
   "id": "66a8d5a0",
   "metadata": {},
   "outputs": [],
   "source": [
    "import numpy as np\n",
    "import pandas as pd\n",
    "import matplotlib.pyplot as plt\n",
    "from sklearn.preprocessing import MinMaxScaler\n",
    "from tensorflow.keras.models import Sequential\n",
    "from tensorflow.keras.layers import LSTM, Dense\n",
    "from tensorflow.keras.optimizers import Adam"
   ]
  },
  {
   "cell_type": "code",
   "execution_count": 10,
   "id": "a87aabad",
   "metadata": {},
   "outputs": [
    {
     "data": {
      "text/html": [
       "<div>\n",
       "<style scoped>\n",
       "    .dataframe tbody tr th:only-of-type {\n",
       "        vertical-align: middle;\n",
       "    }\n",
       "\n",
       "    .dataframe tbody tr th {\n",
       "        vertical-align: top;\n",
       "    }\n",
       "\n",
       "    .dataframe thead th {\n",
       "        text-align: right;\n",
       "    }\n",
       "</style>\n",
       "<table border=\"1\" class=\"dataframe\">\n",
       "  <thead>\n",
       "    <tr style=\"text-align: right;\">\n",
       "      <th></th>\n",
       "      <th>Date</th>\n",
       "      <th>Open</th>\n",
       "      <th>High</th>\n",
       "      <th>Low</th>\n",
       "      <th>Close</th>\n",
       "    </tr>\n",
       "  </thead>\n",
       "  <tbody>\n",
       "    <tr>\n",
       "      <th>0</th>\n",
       "      <td>30-May-19</td>\n",
       "      <td>39580.28</td>\n",
       "      <td>39911.92</td>\n",
       "      <td>39500.56</td>\n",
       "      <td>39831.97</td>\n",
       "    </tr>\n",
       "    <tr>\n",
       "      <th>1</th>\n",
       "      <td>31-May-19</td>\n",
       "      <td>39998.91</td>\n",
       "      <td>40122.34</td>\n",
       "      <td>39374.24</td>\n",
       "      <td>39714.20</td>\n",
       "    </tr>\n",
       "    <tr>\n",
       "      <th>2</th>\n",
       "      <td>03-Jun-19</td>\n",
       "      <td>39806.86</td>\n",
       "      <td>40308.90</td>\n",
       "      <td>39711.02</td>\n",
       "      <td>40267.62</td>\n",
       "    </tr>\n",
       "    <tr>\n",
       "      <th>3</th>\n",
       "      <td>04-Jun-19</td>\n",
       "      <td>40196.00</td>\n",
       "      <td>40312.07</td>\n",
       "      <td>40031.05</td>\n",
       "      <td>40083.54</td>\n",
       "    </tr>\n",
       "    <tr>\n",
       "      <th>4</th>\n",
       "      <td>06-Jun-19</td>\n",
       "      <td>40136.43</td>\n",
       "      <td>40159.26</td>\n",
       "      <td>39481.15</td>\n",
       "      <td>39529.72</td>\n",
       "    </tr>\n",
       "  </tbody>\n",
       "</table>\n",
       "</div>"
      ],
      "text/plain": [
       "        Date      Open      High       Low     Close\n",
       "0  30-May-19  39580.28  39911.92  39500.56  39831.97\n",
       "1  31-May-19  39998.91  40122.34  39374.24  39714.20\n",
       "2  03-Jun-19  39806.86  40308.90  39711.02  40267.62\n",
       "3  04-Jun-19  40196.00  40312.07  40031.05  40083.54\n",
       "4  06-Jun-19  40136.43  40159.26  39481.15  39529.72"
      ]
     },
     "execution_count": 10,
     "metadata": {},
     "output_type": "execute_result"
    }
   ],
   "source": [
    "df=pd.read_csv('/Users/nishchalverma/Downloads/dataset/Sensex.csv')\n",
    "df.head(5)"
   ]
  },
  {
   "cell_type": "code",
   "execution_count": 11,
   "id": "e4b027da",
   "metadata": {},
   "outputs": [
    {
     "data": {
      "text/plain": [
       "(1241, 5)"
      ]
     },
     "execution_count": 11,
     "metadata": {},
     "output_type": "execute_result"
    }
   ],
   "source": [
    "df.shape"
   ]
  },
  {
   "cell_type": "code",
   "execution_count": 12,
   "id": "f50026f8",
   "metadata": {},
   "outputs": [
    {
     "data": {
      "text/plain": [
       "0"
      ]
     },
     "execution_count": 12,
     "metadata": {},
     "output_type": "execute_result"
    }
   ],
   "source": [
    "df['Close'].isnull().sum()"
   ]
  },
  {
   "cell_type": "code",
   "execution_count": 13,
   "id": "79f6713d",
   "metadata": {},
   "outputs": [],
   "source": [
    "df1=df.reset_index()['Close']"
   ]
  },
  {
   "cell_type": "code",
   "execution_count": 14,
   "id": "8a089768",
   "metadata": {},
   "outputs": [
    {
     "data": {
      "text/plain": [
       "0    39831.97\n",
       "1    39714.20\n",
       "2    40267.62\n",
       "3    40083.54\n",
       "4    39529.72\n",
       "Name: Close, dtype: float64"
      ]
     },
     "execution_count": 14,
     "metadata": {},
     "output_type": "execute_result"
    }
   ],
   "source": [
    "df1.head()"
   ]
  },
  {
   "cell_type": "code",
   "execution_count": 15,
   "id": "37621323",
   "metadata": {},
   "outputs": [
    {
     "data": {
      "text/plain": [
       "[<matplotlib.lines.Line2D at 0x3037bc4d0>]"
      ]
     },
     "execution_count": 15,
     "metadata": {},
     "output_type": "execute_result"
    },
    {
     "data": {
      "image/png": "[encoded data removed]",
      "text/plain": [
       "<Figure size 640x480 with 1 Axes>"
      ]
     },
     "metadata": {},
     "output_type": "display_data"
    }
   ],
   "source": [
    "import matplotlib.pyplot as plt\n",
    "plt.plot(df1)"
   ]
  },
  {
   "cell_type": "code",
   "execution_count": 16,
   "id": "c8f06443",
   "metadata": {},
   "outputs": [],
   "source": [
    "from sklearn.preprocessing import MinMaxScaler\n",
    "scaler=MinMaxScaler(feature_range=(0,1))\n",
    "df1=scaler.fit_transform(np.array(df1).reshape(-1,1))"
   ]
  },
  {
   "cell_type": "code",
   "execution_count": 25,
   "id": "386a6cfd",
   "metadata": {},
   "outputs": [
    {
     "data": {
      "text/plain": [
       "array([[0.28017044],\n",
       "       [0.27778821],\n",
       "       [0.2889827 ],\n",
       "       ...,\n",
       "       [0.99499179],\n",
       "       [0.98148869],\n",
       "       [0.96900204]])"
      ]
     },
     "execution_count": 25,
     "metadata": {},
     "output_type": "execute_result"
    }
   ],
   "source": [
    "df1"
   ]
  },
  {
   "cell_type": "code",
   "execution_count": 17,
   "id": "133bd22d",
   "metadata": {},
   "outputs": [],
   "source": [
    "##splitting dataset into train and test split\n",
    "training_size=int(len(df1)*0.80)\n",
    "test_size=len(df1)-training_size\n",
    "train_data,test_data=df1[0:training_size,:],df1[training_size:len(df1),:1]"
   ]
  },
  {
   "cell_type": "code",
   "execution_count": 18,
   "id": "d3d909c7",
   "metadata": {},
   "outputs": [
    {
     "data": {
      "text/plain": [
       "(992, 249)"
      ]
     },
     "execution_count": 18,
     "metadata": {},
     "output_type": "execute_result"
    }
   ],
   "source": [
    "training_size,test_size"
   ]
  },
  {
   "cell_type": "code",
   "execution_count": 26,
   "id": "c79faba3",
   "metadata": {},
   "outputs": [],
   "source": [
    "# convert an array of values into a dataset matrix\n",
    "\n",
    "def create_dataset(dataset, time_step=1):\n",
    "    dataX, dataY = [], []\n",
    "    for i in range(len(dataset)-time_step-1):\n",
    "        a = dataset[i:(i+time_step), 0]   ###i=0, 0,1,2,3-----99   100 \n",
    "        dataX.append(a)\n",
    "        dataY.append(dataset[i + time_step, 0])\n",
    "    return np.array(dataX), np.array(dataY)"
   ]
  },
  {
   "cell_type": "code",
   "execution_count": 27,
   "id": "cdfb0135",
   "metadata": {},
   "outputs": [],
   "source": [
    "# reshape into X=t,t+1,t+2,t+3 and Y=t+4\n",
    "time_step = 100\n",
    "X_train, y_train = create_dataset(train_data, time_step)\n",
    "X_test, ytest = create_dataset(test_data, time_step)"
   ]
  },
  {
   "cell_type": "code",
   "execution_count": 28,
   "id": "84899d46",
   "metadata": {},
   "outputs": [
    {
     "name": "stdout",
     "output_type": "stream",
     "text": [
      "(891, 100)\n",
      "(891,)\n"
     ]
    },
    {
     "data": {
      "text/plain": [
       "(None, None)"
      ]
     },
     "execution_count": 28,
     "metadata": {},
     "output_type": "execute_result"
    }
   ],
   "source": [
    "print(X_train.shape), print(y_train.shape)"
   ]
  },
  {
   "cell_type": "code",
   "execution_count": 29,
   "id": "d67b5f26",
   "metadata": {},
   "outputs": [],
   "source": [
    "# reshape input to be [samples, time steps, features] which is required for LSTM\n",
    "X_train =X_train.reshape(X_train.shape[0],X_train.shape[1] , 1)\n",
    "X_test = X_test.reshape(X_test.shape[0],X_test.shape[1] , 1)"
   ]
  },
  {
   "cell_type": "code",
   "execution_count": 30,
   "id": "d330cf66",
   "metadata": {},
   "outputs": [],
   "source": [
    "### Create the Stacked LSTM model\n",
    "from tensorflow.keras.models import Sequential\n",
    "from tensorflow.keras.layers import Dense\n",
    "from tensorflow.keras.layers import LSTM"
   ]
  },
  {
   "cell_type": "code",
   "execution_count": 31,
   "id": "756065c0",
   "metadata": {},
   "outputs": [
    {
     "name": "stderr",
     "output_type": "stream",
     "text": [
      "/Users/nishchalverma/anaconda3/lib/python3.11/site-packages/keras/src/layers/rnn/rnn.py:204: UserWarning: Do not pass an `input_shape`/`input_dim` argument to a layer. When using Sequential models, prefer using an `Input(shape)` object as the first layer in the model instead.\n",
      "  super().__init__(**kwargs)\n"
     ]
    }
   ],
   "source": [
    "model=Sequential()\n",
    "model.add(LSTM(50,return_sequences=True,input_shape=(100,1)))\n",
    "model.add(LSTM(50,return_sequences=True))\n",
    "model.add(LSTM(50))\n",
    "model.add(Dense(1))\n",
    "model.compile(loss='mean_squared_error',optimizer='adam')"
   ]
  },
  {
   "cell_type": "code",
   "execution_count": 32,
   "id": "69eac255",
   "metadata": {},
   "outputs": [
    {
     "data": {
      "text/html": [
       "<pre style=\"white-space:pre;overflow-x:auto;line-height:normal;font-family:Menlo,'DejaVu Sans Mono',consolas,'Courier New',monospace\"><span style=\"font-weight: bold\">Model: \"sequential\"</span>\n",
       "</pre>\n"
      ],
      "text/plain": [
       "\u001b[1mModel: \"sequential\"\u001b[0m\n"
      ]
     },
     "metadata": {},
     "output_type": "display_data"
    },
    {
     "data": {
      "text/html": [
       "<pre style=\"white-space:pre;overflow-x:auto;line-height:normal;font-family:Menlo,'DejaVu Sans Mono',consolas,'Courier New',monospace\">┏━━━━━━━━━━━━━━━━━━━━━━━━━━━━━━━━━┳━━━━━━━━━━━━━━━━━━━━━━━━┳━━━━━━━━━━━━━━━┓\n",
       "┃<span style=\"font-weight: bold\"> Layer (type)                    </span>┃<span style=\"font-weight: bold\"> Output Shape           </span>┃<span style=\"font-weight: bold\">       Param # </span>┃\n",
       "┡━━━━━━━━━━━━━━━━━━━━━━━━━━━━━━━━━╇━━━━━━━━━━━━━━━━━━━━━━━━╇━━━━━━━━━━━━━━━┩\n",
       "│ lstm (<span style=\"color: #0087ff; text-decoration-color: #0087ff\">LSTM</span>)                     │ (<span style=\"color: #00d7ff; text-decoration-color: #00d7ff\">None</span>, <span style=\"color: #00af00; text-decoration-color: #00af00\">100</span>, <span style=\"color: #00af00; text-decoration-color: #00af00\">50</span>)        │        <span style=\"color: #00af00; text-decoration-color: #00af00\">10,400</span> │\n",
       "├─────────────────────────────────┼────────────────────────┼───────────────┤\n",
       "│ lstm_1 (<span style=\"color: #0087ff; text-decoration-color: #0087ff\">LSTM</span>)                   │ (<span style=\"color: #00d7ff; text-decoration-color: #00d7ff\">None</span>, <span style=\"color: #00af00; text-decoration-color: #00af00\">100</span>, <span style=\"color: #00af00; text-decoration-color: #00af00\">50</span>)        │        <span style=\"color: #00af00; text-decoration-color: #00af00\">20,200</span> │\n",
       "├─────────────────────────────────┼────────────────────────┼───────────────┤\n",
       "│ lstm_2 (<span style=\"color: #0087ff; text-decoration-color: #0087ff\">LSTM</span>)                   │ (<span style=\"color: #00d7ff; text-decoration-color: #00d7ff\">None</span>, <span style=\"color: #00af00; text-decoration-color: #00af00\">50</span>)             │        <span style=\"color: #00af00; text-decoration-color: #00af00\">20,200</span> │\n",
       "├─────────────────────────────────┼────────────────────────┼───────────────┤\n",
       "│ dense (<span style=\"color: #0087ff; text-decoration-color: #0087ff\">Dense</span>)                   │ (<span style=\"color: #00d7ff; text-decoration-color: #00d7ff\">None</span>, <span style=\"color: #00af00; text-decoration-color: #00af00\">1</span>)              │            <span style=\"color: #00af00; text-decoration-color: #00af00\">51</span> │\n",
       "└─────────────────────────────────┴────────────────────────┴───────────────┘\n",
       "</pre>\n"
      ],
      "text/plain": [
       "┏━━━━━━━━━━━━━━━━━━━━━━━━━━━━━━━━━┳━━━━━━━━━━━━━━━━━━━━━━━━┳━━━━━━━━━━━━━━━┓\n",
       "┃\u001b[1m \u001b[0m\u001b[1mLayer (type)                   \u001b[0m\u001b[1m \u001b[0m┃\u001b[1m \u001b[0m\u001b[1mOutput Shape          \u001b[0m\u001b[1m \u001b[0m┃\u001b[1m \u001b[0m\u001b[1m      Param #\u001b[0m\u001b[1m \u001b[0m┃\n",
       "┡━━━━━━━━━━━━━━━━━━━━━━━━━━━━━━━━━╇━━━━━━━━━━━━━━━━━━━━━━━━╇━━━━━━━━━━━━━━━┩\n",
       "│ lstm (\u001b[38;5;33mLSTM\u001b[0m)                     │ (\u001b[38;5;45mNone\u001b[0m, \u001b[38;5;34m100\u001b[0m, \u001b[38;5;34m50\u001b[0m)        │        \u001b[38;5;34m10,400\u001b[0m │\n",
       "├─────────────────────────────────┼────────────────────────┼───────────────┤\n",
       "│ lstm_1 (\u001b[38;5;33mLSTM\u001b[0m)                   │ (\u001b[38;5;45mNone\u001b[0m, \u001b[38;5;34m100\u001b[0m, \u001b[38;5;34m50\u001b[0m)        │        \u001b[38;5;34m20,200\u001b[0m │\n",
       "├─────────────────────────────────┼────────────────────────┼───────────────┤\n",
       "│ lstm_2 (\u001b[38;5;33mLSTM\u001b[0m)                   │ (\u001b[38;5;45mNone\u001b[0m, \u001b[38;5;34m50\u001b[0m)             │        \u001b[38;5;34m20,200\u001b[0m │\n",
       "├─────────────────────────────────┼────────────────────────┼───────────────┤\n",
       "│ dense (\u001b[38;5;33mDense\u001b[0m)                   │ (\u001b[38;5;45mNone\u001b[0m, \u001b[38;5;34m1\u001b[0m)              │            \u001b[38;5;34m51\u001b[0m │\n",
       "└─────────────────────────────────┴────────────────────────┴───────────────┘\n"
      ]
     },
     "metadata": {},
     "output_type": "display_data"
    },
    {
     "data": {
      "text/html": [
       "<pre style=\"white-space:pre;overflow-x:auto;line-height:normal;font-family:Menlo,'DejaVu Sans Mono',consolas,'Courier New',monospace\"><span style=\"font-weight: bold\"> Total params: </span><span style=\"color: #00af00; text-decoration-color: #00af00\">50,851</span> (198.64 KB)\n",
       "</pre>\n"
      ],
      "text/plain": [
       "\u001b[1m Total params: \u001b[0m\u001b[38;5;34m50,851\u001b[0m (198.64 KB)\n"
      ]
     },
     "metadata": {},
     "output_type": "display_data"
    },
    {
     "data": {
      "text/html": [
       "<pre style=\"white-space:pre;overflow-x:auto;line-height:normal;font-family:Menlo,'DejaVu Sans Mono',consolas,'Courier New',monospace\"><span style=\"font-weight: bold\"> Trainable params: </span><span style=\"color: #00af00; text-decoration-color: #00af00\">50,851</span> (198.64 KB)\n",
       "</pre>\n"
      ],
      "text/plain": [
       "\u001b[1m Trainable params: \u001b[0m\u001b[38;5;34m50,851\u001b[0m (198.64 KB)\n"
      ]
     },
     "metadata": {},
     "output_type": "display_data"
    },
    {
     "data": {
      "text/html": [
       "<pre style=\"white-space:pre;overflow-x:auto;line-height:normal;font-family:Menlo,'DejaVu Sans Mono',consolas,'Courier New',monospace\"><span style=\"font-weight: bold\"> Non-trainable params: </span><span style=\"color: #00af00; text-decoration-color: #00af00\">0</span> (0.00 B)\n",
       "</pre>\n"
      ],
      "text/plain": [
       "\u001b[1m Non-trainable params: \u001b[0m\u001b[38;5;34m0\u001b[0m (0.00 B)\n"
      ]
     },
     "metadata": {},
     "output_type": "display_data"
    }
   ],
   "source": [
    "model.summary()"
   ]
  },
  {
   "cell_type": "code",
   "execution_count": 33,
   "id": "639dc3d3",
   "metadata": {},
   "outputs": [
    {
     "name": "stdout",
     "output_type": "stream",
     "text": [
      "Epoch 1/100\n",
      "\u001b[1m14/14\u001b[0m \u001b[32m━━━━━━━━━━━━━━━━━━━━\u001b[0m\u001b[37m\u001b[0m \u001b[1m2s\u001b[0m 67ms/step - loss: 0.1172 - val_loss: 0.1049\n",
      "Epoch 2/100\n",
      "\u001b[1m14/14\u001b[0m \u001b[32m━━━━━━━━━━━━━━━━━━━━\u001b[0m\u001b[37m\u001b[0m \u001b[1m1s\u001b[0m 58ms/step - loss: 0.0119 - val_loss: 0.0184\n",
      "Epoch 3/100\n",
      "\u001b[1m14/14\u001b[0m \u001b[32m━━━━━━━━━━━━━━━━━━━━\u001b[0m\u001b[37m\u001b[0m \u001b[1m1s\u001b[0m 58ms/step - loss: 0.0038 - val_loss: 0.0051\n",
      "Epoch 4/100\n",
      "\u001b[1m14/14\u001b[0m \u001b[32m━━━━━━━━━━━━━━━━━━━━\u001b[0m\u001b[37m\u001b[0m \u001b[1m1s\u001b[0m 58ms/step - loss: 0.0020 - val_loss: 0.0041\n",
      "Epoch 5/100\n",
      "\u001b[1m14/14\u001b[0m \u001b[32m━━━━━━━━━━━━━━━━━━━━\u001b[0m\u001b[37m\u001b[0m \u001b[1m1s\u001b[0m 58ms/step - loss: 0.0015 - val_loss: 0.0034\n",
      "Epoch 6/100\n",
      "\u001b[1m14/14\u001b[0m \u001b[32m━━━━━━━━━━━━━━━━━━━━\u001b[0m\u001b[37m\u001b[0m \u001b[1m1s\u001b[0m 58ms/step - loss: 0.0017 - val_loss: 0.0026\n",
      "Epoch 7/100\n",
      "\u001b[1m14/14\u001b[0m \u001b[32m━━━━━━━━━━━━━━━━━━━━\u001b[0m\u001b[37m\u001b[0m \u001b[1m1s\u001b[0m 60ms/step - loss: 0.0015 - val_loss: 0.0039\n",
      "Epoch 8/100\n",
      "\u001b[1m14/14\u001b[0m \u001b[32m━━━━━━━━━━━━━━━━━━━━\u001b[0m\u001b[37m\u001b[0m \u001b[1m1s\u001b[0m 64ms/step - loss: 0.0013 - val_loss: 0.0045\n",
      "Epoch 9/100\n",
      "\u001b[1m14/14\u001b[0m \u001b[32m━━━━━━━━━━━━━━━━━━━━\u001b[0m\u001b[37m\u001b[0m \u001b[1m1s\u001b[0m 64ms/step - loss: 0.0013 - val_loss: 0.0035\n",
      "Epoch 10/100\n",
      "\u001b[1m14/14\u001b[0m \u001b[32m━━━━━━━━━━━━━━━━━━━━\u001b[0m\u001b[37m\u001b[0m \u001b[1m1s\u001b[0m 64ms/step - loss: 0.0011 - val_loss: 0.0037\n",
      "Epoch 11/100\n",
      "\u001b[1m14/14\u001b[0m \u001b[32m━━━━━━━━━━━━━━━━━━━━\u001b[0m\u001b[37m\u001b[0m \u001b[1m1s\u001b[0m 64ms/step - loss: 0.0012 - val_loss: 0.0040\n",
      "Epoch 12/100\n",
      "\u001b[1m14/14\u001b[0m \u001b[32m━━━━━━━━━━━━━━━━━━━━\u001b[0m\u001b[37m\u001b[0m \u001b[1m1s\u001b[0m 64ms/step - loss: 0.0013 - val_loss: 0.0026\n",
      "Epoch 13/100\n",
      "\u001b[1m14/14\u001b[0m \u001b[32m━━━━━━━━━━━━━━━━━━━━\u001b[0m\u001b[37m\u001b[0m \u001b[1m1s\u001b[0m 63ms/step - loss: 0.0013 - val_loss: 0.0018\n",
      "Epoch 14/100\n",
      "\u001b[1m14/14\u001b[0m \u001b[32m━━━━━━━━━━━━━━━━━━━━\u001b[0m\u001b[37m\u001b[0m \u001b[1m1s\u001b[0m 64ms/step - loss: 0.0013 - val_loss: 0.0025\n",
      "Epoch 15/100\n",
      "\u001b[1m14/14\u001b[0m \u001b[32m━━━━━━━━━━━━━━━━━━━━\u001b[0m\u001b[37m\u001b[0m \u001b[1m1s\u001b[0m 64ms/step - loss: 0.0013 - val_loss: 0.0025\n",
      "Epoch 16/100\n",
      "\u001b[1m14/14\u001b[0m \u001b[32m━━━━━━━━━━━━━━━━━━━━\u001b[0m\u001b[37m\u001b[0m \u001b[1m1s\u001b[0m 66ms/step - loss: 0.0011 - val_loss: 0.0019\n",
      "Epoch 17/100\n",
      "\u001b[1m14/14\u001b[0m \u001b[32m━━━━━━━━━━━━━━━━━━━━\u001b[0m\u001b[37m\u001b[0m \u001b[1m1s\u001b[0m 64ms/step - loss: 0.0012 - val_loss: 0.0027\n",
      "Epoch 18/100\n",
      "\u001b[1m14/14\u001b[0m \u001b[32m━━━━━━━━━━━━━━━━━━━━\u001b[0m\u001b[37m\u001b[0m \u001b[1m1s\u001b[0m 67ms/step - loss: 0.0011 - val_loss: 0.0016\n",
      "Epoch 19/100\n",
      "\u001b[1m14/14\u001b[0m \u001b[32m━━━━━━━━━━━━━━━━━━━━\u001b[0m\u001b[37m\u001b[0m \u001b[1m1s\u001b[0m 63ms/step - loss: 0.0010 - val_loss: 7.0292e-04\n",
      "Epoch 20/100\n",
      "\u001b[1m14/14\u001b[0m \u001b[32m━━━━━━━━━━━━━━━━━━━━\u001b[0m\u001b[37m\u001b[0m \u001b[1m1s\u001b[0m 65ms/step - loss: 0.0012 - val_loss: 0.0011\n",
      "Epoch 21/100\n",
      "\u001b[1m14/14\u001b[0m \u001b[32m━━━━━━━━━━━━━━━━━━━━\u001b[0m\u001b[37m\u001b[0m \u001b[1m1s\u001b[0m 64ms/step - loss: 0.0010 - val_loss: 0.0018\n",
      "Epoch 22/100\n",
      "\u001b[1m14/14\u001b[0m \u001b[32m━━━━━━━━━━━━━━━━━━━━\u001b[0m\u001b[37m\u001b[0m \u001b[1m1s\u001b[0m 65ms/step - loss: 0.0010 - val_loss: 0.0022\n",
      "Epoch 23/100\n",
      "\u001b[1m14/14\u001b[0m \u001b[32m━━━━━━━━━━━━━━━━━━━━\u001b[0m\u001b[37m\u001b[0m \u001b[1m1s\u001b[0m 65ms/step - loss: 0.0010 - val_loss: 0.0018\n",
      "Epoch 24/100\n",
      "\u001b[1m14/14\u001b[0m \u001b[32m━━━━━━━━━━━━━━━━━━━━\u001b[0m\u001b[37m\u001b[0m \u001b[1m1s\u001b[0m 65ms/step - loss: 0.0010 - val_loss: 0.0013\n",
      "Epoch 25/100\n",
      "\u001b[1m14/14\u001b[0m \u001b[32m━━━━━━━━━━━━━━━━━━━━\u001b[0m\u001b[37m\u001b[0m \u001b[1m1s\u001b[0m 64ms/step - loss: 9.1185e-04 - val_loss: 0.0018\n",
      "Epoch 26/100\n",
      "\u001b[1m14/14\u001b[0m \u001b[32m━━━━━━━━━━━━━━━━━━━━\u001b[0m\u001b[37m\u001b[0m \u001b[1m1s\u001b[0m 64ms/step - loss: 8.8585e-04 - val_loss: 7.0332e-04\n",
      "Epoch 27/100\n",
      "\u001b[1m14/14\u001b[0m \u001b[32m━━━━━━━━━━━━━━━━━━━━\u001b[0m\u001b[37m\u001b[0m \u001b[1m1s\u001b[0m 65ms/step - loss: 7.9506e-04 - val_loss: 0.0012\n",
      "Epoch 28/100\n",
      "\u001b[1m14/14\u001b[0m \u001b[32m━━━━━━━━━━━━━━━━━━━━\u001b[0m\u001b[37m\u001b[0m \u001b[1m1s\u001b[0m 64ms/step - loss: 8.6395e-04 - val_loss: 0.0018\n",
      "Epoch 29/100\n",
      "\u001b[1m14/14\u001b[0m \u001b[32m━━━━━━━━━━━━━━━━━━━━\u001b[0m\u001b[37m\u001b[0m \u001b[1m1s\u001b[0m 64ms/step - loss: 8.5058e-04 - val_loss: 0.0014\n",
      "Epoch 30/100\n",
      "\u001b[1m14/14\u001b[0m \u001b[32m━━━━━━━━━━━━━━━━━━━━\u001b[0m\u001b[37m\u001b[0m \u001b[1m1s\u001b[0m 64ms/step - loss: 9.1967e-04 - val_loss: 0.0039\n",
      "Epoch 31/100\n",
      "\u001b[1m14/14\u001b[0m \u001b[32m━━━━━━━━━━━━━━━━━━━━\u001b[0m\u001b[37m\u001b[0m \u001b[1m1s\u001b[0m 63ms/step - loss: 9.5829e-04 - val_loss: 0.0018\n",
      "Epoch 32/100\n",
      "\u001b[1m14/14\u001b[0m \u001b[32m━━━━━━━━━━━━━━━━━━━━\u001b[0m\u001b[37m\u001b[0m \u001b[1m1s\u001b[0m 65ms/step - loss: 8.1390e-04 - val_loss: 0.0020\n",
      "Epoch 33/100\n",
      "\u001b[1m14/14\u001b[0m \u001b[32m━━━━━━━━━━━━━━━━━━━━\u001b[0m\u001b[37m\u001b[0m \u001b[1m1s\u001b[0m 64ms/step - loss: 7.8060e-04 - val_loss: 9.3481e-04\n",
      "Epoch 34/100\n",
      "\u001b[1m14/14\u001b[0m \u001b[32m━━━━━━━━━━━━━━━━━━━━\u001b[0m\u001b[37m\u001b[0m \u001b[1m1s\u001b[0m 63ms/step - loss: 7.1524e-04 - val_loss: 0.0017\n",
      "Epoch 35/100\n",
      "\u001b[1m14/14\u001b[0m \u001b[32m━━━━━━━━━━━━━━━━━━━━\u001b[0m\u001b[37m\u001b[0m \u001b[1m1s\u001b[0m 64ms/step - loss: 7.2070e-04 - val_loss: 4.3726e-04\n",
      "Epoch 36/100\n",
      "\u001b[1m14/14\u001b[0m \u001b[32m━━━━━━━━━━━━━━━━━━━━\u001b[0m\u001b[37m\u001b[0m \u001b[1m1s\u001b[0m 66ms/step - loss: 8.9486e-04 - val_loss: 0.0020\n",
      "Epoch 37/100\n",
      "\u001b[1m14/14\u001b[0m \u001b[32m━━━━━━━━━━━━━━━━━━━━\u001b[0m\u001b[37m\u001b[0m \u001b[1m1s\u001b[0m 64ms/step - loss: 8.2039e-04 - val_loss: 0.0017\n",
      "Epoch 38/100\n",
      "\u001b[1m14/14\u001b[0m \u001b[32m━━━━━━━━━━━━━━━━━━━━\u001b[0m\u001b[37m\u001b[0m \u001b[1m1s\u001b[0m 63ms/step - loss: 5.9989e-04 - val_loss: 0.0015\n",
      "Epoch 39/100\n",
      "\u001b[1m14/14\u001b[0m \u001b[32m━━━━━━━━━━━━━━━━━━━━\u001b[0m\u001b[37m\u001b[0m \u001b[1m1s\u001b[0m 65ms/step - loss: 7.4184e-04 - val_loss: 0.0021\n",
      "Epoch 40/100\n",
      "\u001b[1m14/14\u001b[0m \u001b[32m━━━━━━━━━━━━━━━━━━━━\u001b[0m\u001b[37m\u001b[0m \u001b[1m1s\u001b[0m 63ms/step - loss: 7.4297e-04 - val_loss: 0.0023\n",
      "Epoch 41/100\n",
      "\u001b[1m14/14\u001b[0m \u001b[32m━━━━━━━━━━━━━━━━━━━━\u001b[0m\u001b[37m\u001b[0m \u001b[1m1s\u001b[0m 64ms/step - loss: 6.1189e-04 - val_loss: 0.0028\n",
      "Epoch 42/100\n",
      "\u001b[1m14/14\u001b[0m \u001b[32m━━━━━━━━━━━━━━━━━━━━\u001b[0m\u001b[37m\u001b[0m \u001b[1m1s\u001b[0m 63ms/step - loss: 7.3707e-04 - val_loss: 8.6366e-04\n",
      "Epoch 43/100\n",
      "\u001b[1m14/14\u001b[0m \u001b[32m━━━━━━━━━━━━━━━━━━━━\u001b[0m\u001b[37m\u001b[0m \u001b[1m1s\u001b[0m 64ms/step - loss: 6.6112e-04 - val_loss: 6.6128e-04\n",
      "Epoch 44/100\n",
      "\u001b[1m14/14\u001b[0m \u001b[32m━━━━━━━━━━━━━━━━━━━━\u001b[0m\u001b[37m\u001b[0m \u001b[1m1s\u001b[0m 65ms/step - loss: 6.1382e-04 - val_loss: 0.0028\n",
      "Epoch 45/100\n",
      "\u001b[1m14/14\u001b[0m \u001b[32m━━━━━━━━━━━━━━━━━━━━\u001b[0m\u001b[37m\u001b[0m \u001b[1m1s\u001b[0m 65ms/step - loss: 7.1389e-04 - val_loss: 7.7579e-04\n",
      "Epoch 46/100\n",
      "\u001b[1m14/14\u001b[0m \u001b[32m━━━━━━━━━━━━━━━━━━━━\u001b[0m\u001b[37m\u001b[0m \u001b[1m1s\u001b[0m 63ms/step - loss: 6.9959e-04 - val_loss: 4.6750e-04\n",
      "Epoch 47/100\n",
      "\u001b[1m14/14\u001b[0m \u001b[32m━━━━━━━━━━━━━━━━━━━━\u001b[0m\u001b[37m\u001b[0m \u001b[1m1s\u001b[0m 64ms/step - loss: 6.2742e-04 - val_loss: 0.0028\n",
      "Epoch 48/100\n",
      "\u001b[1m14/14\u001b[0m \u001b[32m━━━━━━━━━━━━━━━━━━━━\u001b[0m\u001b[37m\u001b[0m \u001b[1m1s\u001b[0m 64ms/step - loss: 6.5846e-04 - val_loss: 6.8386e-04\n",
      "Epoch 49/100\n",
      "\u001b[1m14/14\u001b[0m \u001b[32m━━━━━━━━━━━━━━━━━━━━\u001b[0m\u001b[37m\u001b[0m \u001b[1m1s\u001b[0m 64ms/step - loss: 5.5210e-04 - val_loss: 5.9762e-04\n",
      "Epoch 50/100\n",
      "\u001b[1m14/14\u001b[0m \u001b[32m━━━━━━━━━━━━━━━━━━━━\u001b[0m\u001b[37m\u001b[0m \u001b[1m1s\u001b[0m 64ms/step - loss: 7.0481e-04 - val_loss: 0.0011\n",
      "Epoch 51/100\n",
      "\u001b[1m14/14\u001b[0m \u001b[32m━━━━━━━━━━━━━━━━━━━━\u001b[0m\u001b[37m\u001b[0m \u001b[1m1s\u001b[0m 64ms/step - loss: 6.2927e-04 - val_loss: 0.0024\n",
      "Epoch 52/100\n",
      "\u001b[1m14/14\u001b[0m \u001b[32m━━━━━━━━━━━━━━━━━━━━\u001b[0m\u001b[37m\u001b[0m \u001b[1m1s\u001b[0m 64ms/step - loss: 6.4531e-04 - val_loss: 0.0010\n",
      "Epoch 53/100\n",
      "\u001b[1m14/14\u001b[0m \u001b[32m━━━━━━━━━━━━━━━━━━━━\u001b[0m\u001b[37m\u001b[0m \u001b[1m1s\u001b[0m 65ms/step - loss: 5.9932e-04 - val_loss: 5.7557e-04\n",
      "Epoch 54/100\n",
      "\u001b[1m14/14\u001b[0m \u001b[32m━━━━━━━━━━━━━━━━━━━━\u001b[0m\u001b[37m\u001b[0m \u001b[1m1s\u001b[0m 64ms/step - loss: 6.1650e-04 - val_loss: 8.1900e-04\n",
      "Epoch 55/100\n",
      "\u001b[1m14/14\u001b[0m \u001b[32m━━━━━━━━━━━━━━━━━━━━\u001b[0m\u001b[37m\u001b[0m \u001b[1m1s\u001b[0m 64ms/step - loss: 5.3235e-04 - val_loss: 0.0012\n",
      "Epoch 56/100\n",
      "\u001b[1m14/14\u001b[0m \u001b[32m━━━━━━━━━━━━━━━━━━━━\u001b[0m\u001b[37m\u001b[0m \u001b[1m1s\u001b[0m 65ms/step - loss: 5.6084e-04 - val_loss: 5.8678e-04\n",
      "Epoch 57/100\n",
      "\u001b[1m14/14\u001b[0m \u001b[32m━━━━━━━━━━━━━━━━━━━━\u001b[0m\u001b[37m\u001b[0m \u001b[1m1s\u001b[0m 64ms/step - loss: 5.6652e-04 - val_loss: 0.0015\n",
      "Epoch 58/100\n",
      "\u001b[1m14/14\u001b[0m \u001b[32m━━━━━━━━━━━━━━━━━━━━\u001b[0m\u001b[37m\u001b[0m \u001b[1m1s\u001b[0m 65ms/step - loss: 5.7809e-04 - val_loss: 8.1278e-04\n",
      "Epoch 59/100\n",
      "\u001b[1m14/14\u001b[0m \u001b[32m━━━━━━━━━━━━━━━━━━━━\u001b[0m\u001b[37m\u001b[0m \u001b[1m1s\u001b[0m 65ms/step - loss: 5.9141e-04 - val_loss: 0.0012\n",
      "Epoch 60/100\n",
      "\u001b[1m14/14\u001b[0m \u001b[32m━━━━━━━━━━━━━━━━━━━━\u001b[0m\u001b[37m\u001b[0m \u001b[1m1s\u001b[0m 64ms/step - loss: 6.8639e-04 - val_loss: 0.0017\n",
      "Epoch 61/100\n",
      "\u001b[1m14/14\u001b[0m \u001b[32m━━━━━━━━━━━━━━━━━━━━\u001b[0m\u001b[37m\u001b[0m \u001b[1m1s\u001b[0m 65ms/step - loss: 6.4330e-04 - val_loss: 3.8431e-04\n",
      "Epoch 62/100\n",
      "\u001b[1m14/14\u001b[0m \u001b[32m━━━━━━━━━━━━━━━━━━━━\u001b[0m\u001b[37m\u001b[0m \u001b[1m1s\u001b[0m 64ms/step - loss: 5.8410e-04 - val_loss: 0.0023\n",
      "Epoch 63/100\n",
      "\u001b[1m14/14\u001b[0m \u001b[32m━━━━━━━━━━━━━━━━━━━━\u001b[0m\u001b[37m\u001b[0m \u001b[1m1s\u001b[0m 65ms/step - loss: 5.7896e-04 - val_loss: 9.1165e-04\n",
      "Epoch 64/100\n",
      "\u001b[1m14/14\u001b[0m \u001b[32m━━━━━━━━━━━━━━━━━━━━\u001b[0m\u001b[37m\u001b[0m \u001b[1m1s\u001b[0m 65ms/step - loss: 5.6758e-04 - val_loss: 9.2416e-04\n",
      "Epoch 65/100\n",
      "\u001b[1m14/14\u001b[0m \u001b[32m━━━━━━━━━━━━━━━━━━━━\u001b[0m\u001b[37m\u001b[0m \u001b[1m1s\u001b[0m 65ms/step - loss: 4.8465e-04 - val_loss: 6.6803e-04\n",
      "Epoch 66/100\n",
      "\u001b[1m14/14\u001b[0m \u001b[32m━━━━━━━━━━━━━━━━━━━━\u001b[0m\u001b[37m\u001b[0m \u001b[1m1s\u001b[0m 65ms/step - loss: 4.7716e-04 - val_loss: 7.8005e-04\n",
      "Epoch 67/100\n",
      "\u001b[1m14/14\u001b[0m \u001b[32m━━━━━━━━━━━━━━━━━━━━\u001b[0m\u001b[37m\u001b[0m \u001b[1m1s\u001b[0m 64ms/step - loss: 5.0928e-04 - val_loss: 8.9057e-04\n",
      "Epoch 68/100\n",
      "\u001b[1m14/14\u001b[0m \u001b[32m━━━━━━━━━━━━━━━━━━━━\u001b[0m\u001b[37m\u001b[0m \u001b[1m1s\u001b[0m 65ms/step - loss: 4.5325e-04 - val_loss: 5.7111e-04\n",
      "Epoch 69/100\n",
      "\u001b[1m14/14\u001b[0m \u001b[32m━━━━━━━━━━━━━━━━━━━━\u001b[0m\u001b[37m\u001b[0m \u001b[1m1s\u001b[0m 65ms/step - loss: 4.9497e-04 - val_loss: 8.9300e-04\n",
      "Epoch 70/100\n",
      "\u001b[1m14/14\u001b[0m \u001b[32m━━━━━━━━━━━━━━━━━━━━\u001b[0m\u001b[37m\u001b[0m \u001b[1m1s\u001b[0m 65ms/step - loss: 4.2765e-04 - val_loss: 6.2277e-04\n",
      "Epoch 71/100\n",
      "\u001b[1m14/14\u001b[0m \u001b[32m━━━━━━━━━━━━━━━━━━━━\u001b[0m\u001b[37m\u001b[0m \u001b[1m1s\u001b[0m 66ms/step - loss: 4.1307e-04 - val_loss: 0.0015\n",
      "Epoch 72/100\n",
      "\u001b[1m14/14\u001b[0m \u001b[32m━━━━━━━━━━━━━━━━━━━━\u001b[0m\u001b[37m\u001b[0m \u001b[1m1s\u001b[0m 65ms/step - loss: 4.7679e-04 - val_loss: 4.9384e-04\n",
      "Epoch 73/100\n",
      "\u001b[1m14/14\u001b[0m \u001b[32m━━━━━━━━━━━━━━━━━━━━\u001b[0m\u001b[37m\u001b[0m \u001b[1m1s\u001b[0m 65ms/step - loss: 4.4276e-04 - val_loss: 6.3644e-04\n",
      "Epoch 74/100\n",
      "\u001b[1m14/14\u001b[0m \u001b[32m━━━━━━━━━━━━━━━━━━━━\u001b[0m\u001b[37m\u001b[0m \u001b[1m1s\u001b[0m 66ms/step - loss: 5.0529e-04 - val_loss: 4.8210e-04\n",
      "Epoch 75/100\n",
      "\u001b[1m14/14\u001b[0m \u001b[32m━━━━━━━━━━━━━━━━━━━━\u001b[0m\u001b[37m\u001b[0m \u001b[1m1s\u001b[0m 65ms/step - loss: 4.7390e-04 - val_loss: 0.0016\n",
      "Epoch 76/100\n",
      "\u001b[1m14/14\u001b[0m \u001b[32m━━━━━━━━━━━━━━━━━━━━\u001b[0m\u001b[37m\u001b[0m \u001b[1m1s\u001b[0m 64ms/step - loss: 4.5101e-04 - val_loss: 8.3388e-04\n",
      "Epoch 77/100\n",
      "\u001b[1m14/14\u001b[0m \u001b[32m━━━━━━━━━━━━━━━━━━━━\u001b[0m\u001b[37m\u001b[0m \u001b[1m1s\u001b[0m 65ms/step - loss: 4.3869e-04 - val_loss: 2.6699e-04\n",
      "Epoch 78/100\n",
      "\u001b[1m14/14\u001b[0m \u001b[32m━━━━━━━━━━━━━━━━━━━━\u001b[0m\u001b[37m\u001b[0m \u001b[1m1s\u001b[0m 65ms/step - loss: 4.7170e-04 - val_loss: 0.0016\n",
      "Epoch 79/100\n",
      "\u001b[1m14/14\u001b[0m \u001b[32m━━━━━━━━━━━━━━━━━━━━\u001b[0m\u001b[37m\u001b[0m \u001b[1m1s\u001b[0m 65ms/step - loss: 4.8407e-04 - val_loss: 0.0010\n",
      "Epoch 80/100\n",
      "\u001b[1m14/14\u001b[0m \u001b[32m━━━━━━━━━━━━━━━━━━━━\u001b[0m\u001b[37m\u001b[0m \u001b[1m1s\u001b[0m 64ms/step - loss: 4.7090e-04 - val_loss: 2.5295e-04\n",
      "Epoch 81/100\n",
      "\u001b[1m14/14\u001b[0m \u001b[32m━━━━━━━━━━━━━━━━━━━━\u001b[0m\u001b[37m\u001b[0m \u001b[1m1s\u001b[0m 65ms/step - loss: 5.2517e-04 - val_loss: 0.0017\n",
      "Epoch 82/100\n",
      "\u001b[1m14/14\u001b[0m \u001b[32m━━━━━━━━━━━━━━━━━━━━\u001b[0m\u001b[37m\u001b[0m \u001b[1m1s\u001b[0m 64ms/step - loss: 3.9874e-04 - val_loss: 8.4449e-04\n",
      "Epoch 83/100\n",
      "\u001b[1m14/14\u001b[0m \u001b[32m━━━━━━━━━━━━━━━━━━━━\u001b[0m\u001b[37m\u001b[0m \u001b[1m1s\u001b[0m 64ms/step - loss: 4.1392e-04 - val_loss: 2.7327e-04\n",
      "Epoch 84/100\n",
      "\u001b[1m14/14\u001b[0m \u001b[32m━━━━━━━━━━━━━━━━━━━━\u001b[0m\u001b[37m\u001b[0m \u001b[1m1s\u001b[0m 65ms/step - loss: 4.9430e-04 - val_loss: 0.0012\n",
      "Epoch 85/100\n",
      "\u001b[1m14/14\u001b[0m \u001b[32m━━━━━━━━━━━━━━━━━━━━\u001b[0m\u001b[37m\u001b[0m \u001b[1m1s\u001b[0m 64ms/step - loss: 3.9735e-04 - val_loss: 3.2028e-04\n",
      "Epoch 86/100\n",
      "\u001b[1m14/14\u001b[0m \u001b[32m━━━━━━━━━━━━━━━━━━━━\u001b[0m\u001b[37m\u001b[0m \u001b[1m1s\u001b[0m 65ms/step - loss: 3.7573e-04 - val_loss: 8.1260e-04\n",
      "Epoch 87/100\n",
      "\u001b[1m14/14\u001b[0m \u001b[32m━━━━━━━━━━━━━━━━━━━━\u001b[0m\u001b[37m\u001b[0m \u001b[1m1s\u001b[0m 64ms/step - loss: 3.4551e-04 - val_loss: 5.7923e-04\n",
      "Epoch 88/100\n",
      "\u001b[1m14/14\u001b[0m \u001b[32m━━━━━━━━━━━━━━━━━━━━\u001b[0m\u001b[37m\u001b[0m \u001b[1m1s\u001b[0m 65ms/step - loss: 3.3495e-04 - val_loss: 3.7424e-04\n",
      "Epoch 89/100\n",
      "\u001b[1m14/14\u001b[0m \u001b[32m━━━━━━━━━━━━━━━━━━━━\u001b[0m\u001b[37m\u001b[0m \u001b[1m1s\u001b[0m 66ms/step - loss: 3.1843e-04 - val_loss: 3.9408e-04\n",
      "Epoch 90/100\n",
      "\u001b[1m14/14\u001b[0m \u001b[32m━━━━━━━━━━━━━━━━━━━━\u001b[0m\u001b[37m\u001b[0m \u001b[1m1s\u001b[0m 65ms/step - loss: 3.6589e-04 - val_loss: 2.2402e-04\n",
      "Epoch 91/100\n",
      "\u001b[1m14/14\u001b[0m \u001b[32m━━━━━━━━━━━━━━━━━━━━\u001b[0m\u001b[37m\u001b[0m \u001b[1m1s\u001b[0m 66ms/step - loss: 4.5524e-04 - val_loss: 5.1642e-04\n",
      "Epoch 92/100\n",
      "\u001b[1m14/14\u001b[0m \u001b[32m━━━━━━━━━━━━━━━━━━━━\u001b[0m\u001b[37m\u001b[0m \u001b[1m1s\u001b[0m 64ms/step - loss: 4.1261e-04 - val_loss: 0.0016\n",
      "Epoch 93/100\n",
      "\u001b[1m14/14\u001b[0m \u001b[32m━━━━━━━━━━━━━━━━━━━━\u001b[0m\u001b[37m\u001b[0m \u001b[1m1s\u001b[0m 67ms/step - loss: 4.1263e-04 - val_loss: 2.6004e-04\n",
      "Epoch 94/100\n",
      "\u001b[1m14/14\u001b[0m \u001b[32m━━━━━━━━━━━━━━━━━━━━\u001b[0m\u001b[37m\u001b[0m \u001b[1m1s\u001b[0m 66ms/step - loss: 4.1880e-04 - val_loss: 2.2418e-04\n",
      "Epoch 95/100\n",
      "\u001b[1m14/14\u001b[0m \u001b[32m━━━━━━━━━━━━━━━━━━━━\u001b[0m\u001b[37m\u001b[0m \u001b[1m1s\u001b[0m 65ms/step - loss: 4.4939e-04 - val_loss: 0.0013\n",
      "Epoch 96/100\n",
      "\u001b[1m14/14\u001b[0m \u001b[32m━━━━━━━━━━━━━━━━━━━━\u001b[0m\u001b[37m\u001b[0m \u001b[1m1s\u001b[0m 64ms/step - loss: 3.4400e-04 - val_loss: 3.3918e-04\n",
      "Epoch 97/100\n",
      "\u001b[1m14/14\u001b[0m \u001b[32m━━━━━━━━━━━━━━━━━━━━\u001b[0m\u001b[37m\u001b[0m \u001b[1m1s\u001b[0m 66ms/step - loss: 3.9485e-04 - val_loss: 2.3683e-04\n",
      "Epoch 98/100\n",
      "\u001b[1m14/14\u001b[0m \u001b[32m━━━━━━━━━━━━━━━━━━━━\u001b[0m\u001b[37m\u001b[0m \u001b[1m1s\u001b[0m 64ms/step - loss: 3.0096e-04 - val_loss: 8.9581e-04\n",
      "Epoch 99/100\n",
      "\u001b[1m14/14\u001b[0m \u001b[32m━━━━━━━━━━━━━━━━━━━━\u001b[0m\u001b[37m\u001b[0m \u001b[1m1s\u001b[0m 65ms/step - loss: 3.7809e-04 - val_loss: 2.3176e-04\n",
      "Epoch 100/100\n",
      "\u001b[1m14/14\u001b[0m \u001b[32m━━━━━━━━━━━━━━━━━━━━\u001b[0m\u001b[37m\u001b[0m \u001b[1m1s\u001b[0m 65ms/step - loss: 4.6115e-04 - val_loss: 0.0015\n"
     ]
    },
    {
     "data": {
      "text/plain": [
       "<keras.src.callbacks.history.History at 0x30367a7d0>"
      ]
     },
     "execution_count": 33,
     "metadata": {},
     "output_type": "execute_result"
    }
   ],
   "source": [
    "model.fit(X_train,y_train,validation_data=(X_test,ytest),epochs=100,batch_size=64,verbose=1)"
   ]
  },
  {
   "cell_type": "code",
   "execution_count": 34,
   "id": "220abc49",
   "metadata": {},
   "outputs": [
    {
     "data": {
      "text/plain": [
       "'2.16.1'"
      ]
     },
     "execution_count": 34,
     "metadata": {},
     "output_type": "execute_result"
    }
   ],
   "source": [
    "import tensorflow as tf\n",
    "tf.__version__"
   ]
  },
  {
   "cell_type": "code",
   "execution_count": 35,
   "id": "1648407d",
   "metadata": {},
   "outputs": [
    {
     "name": "stdout",
     "output_type": "stream",
     "text": [
      "\u001b[1m28/28\u001b[0m \u001b[32m━━━━━━━━━━━━━━━━━━━━\u001b[0m\u001b[37m\u001b[0m \u001b[1m0s\u001b[0m 14ms/step\n",
      "\u001b[1m5/5\u001b[0m \u001b[32m━━━━━━━━━━━━━━━━━━━━\u001b[0m\u001b[37m\u001b[0m \u001b[1m0s\u001b[0m 9ms/step \n"
     ]
    }
   ],
   "source": [
    "train_predict=model.predict(X_train)\n",
    "test_predict=model.predict(X_test)"
   ]
  },
  {
   "cell_type": "code",
   "execution_count": 36,
   "id": "c3bc90a1",
   "metadata": {},
   "outputs": [],
   "source": [
    "##Transformback to original form\n",
    "train_predict=scaler.inverse_transform(train_predict)\n",
    "test_predict=scaler.inverse_transform(test_predict)"
   ]
  },
  {
   "cell_type": "code",
   "execution_count": 37,
   "id": "f1f4cbeb",
   "metadata": {},
   "outputs": [
    {
     "data": {
      "text/plain": [
       "array([[64238.5  ],\n",
       "       [63719.78 ],\n",
       "       [63086.77 ],\n",
       "       [62660.727],\n",
       "       [62571.285],\n",
       "       [62682.375],\n",
       "       [62820.39 ],\n",
       "       [63024.684],\n",
       "       [63290.734],\n",
       "       [63656.758],\n",
       "       [64000.805],\n",
       "       [64238.773],\n",
       "       [64310.51 ],\n",
       "       [64263.812],\n",
       "       [64225.676],\n",
       "       [64143.266],\n",
       "       [64189.16 ],\n",
       "       [64380.7  ],\n",
       "       [64576.508],\n",
       "       [64680.35 ],\n",
       "       [64748.254],\n",
       "       [64806.277],\n",
       "       [64848.594],\n",
       "       [64861.766],\n",
       "       [64895.266],\n",
       "       [65090.445],\n",
       "       [65374.746],\n",
       "       [65739.53 ],\n",
       "       [66352.09 ],\n",
       "       [67078.39 ],\n",
       "       [67754.945],\n",
       "       [68188.19 ],\n",
       "       [68409.02 ],\n",
       "       [68471.89 ],\n",
       "       [68348.516],\n",
       "       [68143.66 ],\n",
       "       [68146.22 ],\n",
       "       [68509.7  ],\n",
       "       [68979.58 ],\n",
       "       [69394.69 ],\n",
       "       [69464.04 ],\n",
       "       [69365.266],\n",
       "       [69272.38 ],\n",
       "       [69281.055],\n",
       "       [69511.03 ],\n",
       "       [69908.18 ],\n",
       "       [70262.86 ],\n",
       "       [70489.914],\n",
       "       [70498.625],\n",
       "       [70256.68 ],\n",
       "       [70034.66 ],\n",
       "       [69950.695],\n",
       "       [69837.53 ],\n",
       "       [69725.27 ],\n",
       "       [69708.06 ],\n",
       "       [69780.91 ],\n",
       "       [70075.65 ],\n",
       "       [70607.11 ],\n",
       "       [71100.8  ],\n",
       "       [71065.23 ],\n",
       "       [70610.05 ],\n",
       "       [70146.42 ],\n",
       "       [69783.86 ],\n",
       "       [69352.234],\n",
       "       [69117.72 ],\n",
       "       [69012.06 ],\n",
       "       [69275.24 ],\n",
       "       [69546.9  ],\n",
       "       [69851.74 ],\n",
       "       [70082.625],\n",
       "       [70297.555],\n",
       "       [70377.65 ],\n",
       "       [70439.375],\n",
       "       [70474.164],\n",
       "       [70320.805],\n",
       "       [70108.61 ],\n",
       "       [69813.17 ],\n",
       "       [69643.82 ],\n",
       "       [69671.54 ],\n",
       "       [69865.21 ],\n",
       "       [70185.74 ],\n",
       "       [70557.44 ],\n",
       "       [70933.47 ],\n",
       "       [71118.195],\n",
       "       [71238.13 ],\n",
       "       [71297.984],\n",
       "       [71228.   ],\n",
       "       [71154.34 ],\n",
       "       [70936.01 ],\n",
       "       [70715.28 ],\n",
       "       [70836.51 ],\n",
       "       [71177.02 ],\n",
       "       [71558.48 ],\n",
       "       [71805.125],\n",
       "       [71984.15 ],\n",
       "       [72095.586],\n",
       "       [72005.766],\n",
       "       [71843.664],\n",
       "       [71496.57 ],\n",
       "       [71193.59 ],\n",
       "       [70920.586],\n",
       "       [70759.94 ],\n",
       "       [70557.8  ],\n",
       "       [70393.2  ],\n",
       "       [70426.82 ],\n",
       "       [70633.14 ],\n",
       "       [70809.51 ],\n",
       "       [71018.164],\n",
       "       [71342.53 ],\n",
       "       [71736.86 ],\n",
       "       [72035.586],\n",
       "       [72171.3  ],\n",
       "       [72239.89 ],\n",
       "       [72259.46 ],\n",
       "       [72347.37 ],\n",
       "       [72443.6  ],\n",
       "       [72584.586],\n",
       "       [72541.47 ],\n",
       "       [72194.59 ],\n",
       "       [71653.1  ],\n",
       "       [71056.586],\n",
       "       [70735.58 ],\n",
       "       [70821.96 ],\n",
       "       [71161.734],\n",
       "       [71574.734],\n",
       "       [72017.195],\n",
       "       [72230.75 ],\n",
       "       [72438.13 ],\n",
       "       [72569.17 ],\n",
       "       [72637.38 ],\n",
       "       [72484.89 ],\n",
       "       [72225.29 ],\n",
       "       [71894.19 ],\n",
       "       [71598.734],\n",
       "       [71177.45 ],\n",
       "       [70834.75 ],\n",
       "       [70677.71 ],\n",
       "       [70759.22 ],\n",
       "       [70943.79 ],\n",
       "       [71279.37 ],\n",
       "       [71680.45 ],\n",
       "       [72027.75 ],\n",
       "       [72228.555],\n",
       "       [72337.68 ],\n",
       "       [72625.94 ],\n",
       "       [72959.63 ],\n",
       "       [73202.64 ],\n",
       "       [73258.18 ]], dtype=float32)"
      ]
     },
     "execution_count": 37,
     "metadata": {},
     "output_type": "execute_result"
    }
   ],
   "source": [
    "test_predict"
   ]
  },
  {
   "cell_type": "code",
   "execution_count": 38,
   "id": "9d187a6a",
   "metadata": {},
   "outputs": [
    {
     "data": {
      "text/plain": [
       "50936.25380528763"
      ]
     },
     "execution_count": 38,
     "metadata": {},
     "output_type": "execute_result"
    }
   ],
   "source": [
    "### Calculate RMSE performance metrics\n",
    "import math\n",
    "from sklearn.metrics import mean_squared_error\n",
    "math.sqrt(mean_squared_error(y_train,train_predict))"
   ]
  },
  {
   "cell_type": "code",
   "execution_count": 40,
   "id": "eb63df34",
   "metadata": {},
   "outputs": [
    {
     "data": {
      "image/png": "[encoded data removed]",
      "text/plain": [
       "<Figure size 640x480 with 1 Axes>"
      ]
     },
     "metadata": {},
     "output_type": "display_data"
    }
   ],
   "source": [
    "### Plotting \n",
    "# shift train predictions for plotting\n",
    "look_back=100\n",
    "trainPredictPlot = np.empty_like(df1)\n",
    "trainPredictPlot[:, :] = np.nan\n",
    "trainPredictPlot[look_back:len(train_predict)+look_back, :] = train_predict\n",
    "# shift test predictions for plotting\n",
    "testPredictPlot = np.empty_like(df1)\n",
    "testPredictPlot[:, :] = np.nan\n",
    "testPredictPlot[len(train_predict)+(look_back*2)+1:len(df1)-1, :] = test_predict\n",
    "# plot baseline and predictions\n",
    "plt.plot(scaler.inverse_transform(df1))\n",
    "plt.plot(trainPredictPlot)\n",
    "plt.plot(testPredictPlot)\n",
    "plt.show()"
   ]
  },
  {
   "cell_type": "code",
   "execution_count": 41,
   "id": "d2f2a951",
   "metadata": {},
   "outputs": [
    {
     "data": {
      "text/plain": [
       "249"
      ]
     },
     "execution_count": 41,
     "metadata": {},
     "output_type": "execute_result"
    }
   ],
   "source": [
    "len(test_data)"
   ]
  },
  {
   "cell_type": "code",
   "execution_count": 43,
   "id": "fde059f5",
   "metadata": {},
   "outputs": [
    {
     "data": {
      "text/plain": [
       "(1, 100)"
      ]
     },
     "execution_count": 43,
     "metadata": {},
     "output_type": "execute_result"
    }
   ],
   "source": [
    "x_input=test_data[149:].reshape(1,-1)\n",
    "x_input.shape"
   ]
  },
  {
   "cell_type": "code",
   "execution_count": 44,
   "id": "ba4a0505",
   "metadata": {},
   "outputs": [],
   "source": [
    "temp_input=list(x_input)\n",
    "temp_input=temp_input[0].tolist()"
   ]
  },
  {
   "cell_type": "code",
   "execution_count": 45,
   "id": "650c9dad",
   "metadata": {},
   "outputs": [
    {
     "data": {
      "text/plain": [
       "[0.9277770810408443,\n",
       " 0.931389369862127,\n",
       " 0.9178179008350058,\n",
       " 0.9184447617968803,\n",
       " 0.9239366221114638,\n",
       " 0.9252204835264419,\n",
       " 0.9423589309987703,\n",
       " 0.9577217781086156,\n",
       " 0.9536929979286688,\n",
       " 0.9207618616091657,\n",
       " 0.9144123406045701,\n",
       " 0.9244528367531879,\n",
       " 0.9192020923684381,\n",
       " 0.8979001472587225,\n",
       " 0.9118525066347338,\n",
       " 0.9045777639329409,\n",
       " 0.9296784986083244,\n",
       " 0.9134624409346883,\n",
       " 0.9258461308175288,\n",
       " 0.9236855945368634,\n",
       " 0.93259252216972,\n",
       " 0.9254276166742186,\n",
       " 0.934624611625348,\n",
       " 0.9339350443394396,\n",
       " 0.919298781474529,\n",
       " 0.9226780455045638,\n",
       " 0.9120988818046478,\n",
       " 0.9218628632921226,\n",
       " 0.9272766441193607,\n",
       " 0.931879490581915,\n",
       " 0.9394904200919154,\n",
       " 0.9451849634280538,\n",
       " 0.952249336526636,\n",
       " 0.9434641805294841,\n",
       " 0.9542891125639203,\n",
       " 0.9539767946145383,\n",
       " 0.9468430400025893,\n",
       " 0.9530143536798501,\n",
       " 0.937027477506635,\n",
       " 0.9409804032623472,\n",
       " 0.9661650835005504,\n",
       " 0.9673949365654735,\n",
       " 0.968732806330507,\n",
       " 0.964785139814875,\n",
       " 0.9730554971195549,\n",
       " 0.9737311071914041,\n",
       " 0.9612555828856237,\n",
       " 0.9645996504628134,\n",
       " 0.9462718056184869,\n",
       " 0.9530560230435627,\n",
       " 0.9438756149265326,\n",
       " 0.9459993365266361,\n",
       " 0.9311041572270051,\n",
       " 0.9329173813839087,\n",
       " 0.9438303045504566,\n",
       " 0.9476887662631888,\n",
       " 0.9403735678684706,\n",
       " 0.9510136173862387,\n",
       " 0.9642636659330703,\n",
       " 0.97161041976827,\n",
       " 0.969372410835653,\n",
       " 0.9688244384749825,\n",
       " 0.975920569292511,\n",
       " 0.976337060651175,\n",
       " 0.9863352806006864,\n",
       " 0.9851458832286881,\n",
       " 0.9923156434073404,\n",
       " 0.9762699042009193,\n",
       " 0.9591749465984856,\n",
       " 0.9499490258269143,\n",
       " 0.9407516263188558,\n",
       " 0.9528749838177231,\n",
       " 0.9642084439122274,\n",
       " 0.9660255113599587,\n",
       " 0.9683413975014565,\n",
       " 0.9781822448054893,\n",
       " 0.9658578225127843,\n",
       " 0.9848946533756231,\n",
       " 0.9810817043174318,\n",
       " 0.9836775438539713,\n",
       " 0.9688513415107776,\n",
       " 0.9692031037607614,\n",
       " 0.9614418813515442,\n",
       " 0.9605223234513562,\n",
       " 0.939035900381902,\n",
       " 0.9443012088161049,\n",
       " 0.9465598501521137,\n",
       " 0.9532042931581335,\n",
       " 0.9508259029710662,\n",
       " 0.9645138843938121,\n",
       " 0.9696378001812416,\n",
       " 0.9714362580102274,\n",
       " 0.970371666450903,\n",
       " 0.975787672341252,\n",
       " 1.0,\n",
       " 0.9998452569745617,\n",
       " 0.9994429251084214,\n",
       " 0.9949917874943364,\n",
       " 0.9814886885882581,\n",
       " 0.9690020389669238]"
      ]
     },
     "execution_count": 45,
     "metadata": {},
     "output_type": "execute_result"
    }
   ],
   "source": [
    "temp_input"
   ]
  },
  {
   "cell_type": "code",
   "execution_count": 47,
   "id": "4c3a47cd",
   "metadata": {},
   "outputs": [
    {
     "name": "stdout",
     "output_type": "stream",
     "text": [
      "[0.94198185]\n",
      "101\n",
      "1 day input [0.93138937 0.9178179  0.91844476 0.92393662 0.92522048 0.94235893\n",
      " 0.95772178 0.953693   0.92076186 0.91441234 0.92445284 0.91920209\n",
      " 0.89790015 0.91185251 0.90457776 0.9296785  0.91346244 0.92584613\n",
      " 0.92368559 0.93259252 0.92542762 0.93462461 0.93393504 0.91929878\n",
      " 0.92267805 0.91209888 0.92186286 0.92727664 0.93187949 0.93949042\n",
      " 0.94518496 0.95224934 0.94346418 0.95428911 0.95397679 0.94684304\n",
      " 0.95301435 0.93702748 0.9409804  0.96616508 0.96739494 0.96873281\n",
      " 0.96478514 0.9730555  0.97373111 0.96125558 0.96459965 0.94627181\n",
      " 0.95305602 0.94387561 0.94599934 0.93110416 0.93291738 0.9438303\n",
      " 0.94768877 0.94037357 0.95101362 0.96426367 0.97161042 0.96937241\n",
      " 0.96882444 0.97592057 0.97633706 0.98633528 0.98514588 0.99231564\n",
      " 0.9762699  0.95917495 0.94994903 0.94075163 0.95287498 0.96420844\n",
      " 0.96602551 0.9683414  0.97818224 0.96585782 0.98489465 0.9810817\n",
      " 0.98367754 0.96885134 0.9692031  0.96144188 0.96052232 0.9390359\n",
      " 0.94430121 0.94655985 0.95320429 0.9508259  0.96451388 0.9696378\n",
      " 0.97143626 0.97037167 0.97578767 1.         0.99984526 0.99944293\n",
      " 0.99499179 0.98148869 0.96900204 0.94198185]\n",
      "1 day output [[0.92597616]]\n",
      "2 day input [0.9178179  0.91844476 0.92393662 0.92522048 0.94235893 0.95772178\n",
      " 0.953693   0.92076186 0.91441234 0.92445284 0.91920209 0.89790015\n",
      " 0.91185251 0.90457776 0.9296785  0.91346244 0.92584613 0.92368559\n",
      " 0.93259252 0.92542762 0.93462461 0.93393504 0.91929878 0.92267805\n",
      " 0.91209888 0.92186286 0.92727664 0.93187949 0.93949042 0.94518496\n",
      " 0.95224934 0.94346418 0.95428911 0.95397679 0.94684304 0.95301435\n",
      " 0.93702748 0.9409804  0.96616508 0.96739494 0.96873281 0.96478514\n",
      " 0.9730555  0.97373111 0.96125558 0.96459965 0.94627181 0.95305602\n",
      " 0.94387561 0.94599934 0.93110416 0.93291738 0.9438303  0.94768877\n",
      " 0.94037357 0.95101362 0.96426367 0.97161042 0.96937241 0.96882444\n",
      " 0.97592057 0.97633706 0.98633528 0.98514588 0.99231564 0.9762699\n",
      " 0.95917495 0.94994903 0.94075163 0.95287498 0.96420844 0.96602551\n",
      " 0.9683414  0.97818224 0.96585782 0.98489465 0.9810817  0.98367754\n",
      " 0.96885134 0.9692031  0.96144188 0.96052232 0.9390359  0.94430121\n",
      " 0.94655985 0.95320429 0.9508259  0.96451388 0.9696378  0.97143626\n",
      " 0.97037167 0.97578767 1.         0.99984526 0.99944293 0.99499179\n",
      " 0.98148869 0.96900204 0.94198185 0.92597616]\n",
      "2 day output [[0.90687704]]\n",
      "3 day input [0.91844476 0.92393662 0.92522048 0.94235893 0.95772178 0.953693\n",
      " 0.92076186 0.91441234 0.92445284 0.91920209 0.89790015 0.91185251\n",
      " 0.90457776 0.9296785  0.91346244 0.92584613 0.92368559 0.93259252\n",
      " 0.92542762 0.93462461 0.93393504 0.91929878 0.92267805 0.91209888\n",
      " 0.92186286 0.92727664 0.93187949 0.93949042 0.94518496 0.95224934\n",
      " 0.94346418 0.95428911 0.95397679 0.94684304 0.95301435 0.93702748\n",
      " 0.9409804  0.96616508 0.96739494 0.96873281 0.96478514 0.9730555\n",
      " 0.97373111 0.96125558 0.96459965 0.94627181 0.95305602 0.94387561\n",
      " 0.94599934 0.93110416 0.93291738 0.9438303  0.94768877 0.94037357\n",
      " 0.95101362 0.96426367 0.97161042 0.96937241 0.96882444 0.97592057\n",
      " 0.97633706 0.98633528 0.98514588 0.99231564 0.9762699  0.95917495\n",
      " 0.94994903 0.94075163 0.95287498 0.96420844 0.96602551 0.9683414\n",
      " 0.97818224 0.96585782 0.98489465 0.9810817  0.98367754 0.96885134\n",
      " 0.9692031  0.96144188 0.96052232 0.9390359  0.94430121 0.94655985\n",
      " 0.95320429 0.9508259  0.96451388 0.9696378  0.97143626 0.97037167\n",
      " 0.97578767 1.         0.99984526 0.99944293 0.99499179 0.98148869\n",
      " 0.96900204 0.94198185 0.92597616 0.90687704]\n",
      "3 day output [[0.88715965]]\n",
      "4 day input [0.92393662 0.92522048 0.94235893 0.95772178 0.953693   0.92076186\n",
      " 0.91441234 0.92445284 0.91920209 0.89790015 0.91185251 0.90457776\n",
      " 0.9296785  0.91346244 0.92584613 0.92368559 0.93259252 0.92542762\n",
      " 0.93462461 0.93393504 0.91929878 0.92267805 0.91209888 0.92186286\n",
      " 0.92727664 0.93187949 0.93949042 0.94518496 0.95224934 0.94346418\n",
      " 0.95428911 0.95397679 0.94684304 0.95301435 0.93702748 0.9409804\n",
      " 0.96616508 0.96739494 0.96873281 0.96478514 0.9730555  0.97373111\n",
      " 0.96125558 0.96459965 0.94627181 0.95305602 0.94387561 0.94599934\n",
      " 0.93110416 0.93291738 0.9438303  0.94768877 0.94037357 0.95101362\n",
      " 0.96426367 0.97161042 0.96937241 0.96882444 0.97592057 0.97633706\n",
      " 0.98633528 0.98514588 0.99231564 0.9762699  0.95917495 0.94994903\n",
      " 0.94075163 0.95287498 0.96420844 0.96602551 0.9683414  0.97818224\n",
      " 0.96585782 0.98489465 0.9810817  0.98367754 0.96885134 0.9692031\n",
      " 0.96144188 0.96052232 0.9390359  0.94430121 0.94655985 0.95320429\n",
      " 0.9508259  0.96451388 0.9696378  0.97143626 0.97037167 0.97578767\n",
      " 1.         0.99984526 0.99944293 0.99499179 0.98148869 0.96900204\n",
      " 0.94198185 0.92597616 0.90687704 0.88715965]\n",
      "4 day output [[0.8682704]]\n",
      "5 day input [0.92522048 0.94235893 0.95772178 0.953693   0.92076186 0.91441234\n",
      " 0.92445284 0.91920209 0.89790015 0.91185251 0.90457776 0.9296785\n",
      " 0.91346244 0.92584613 0.92368559 0.93259252 0.92542762 0.93462461\n",
      " 0.93393504 0.91929878 0.92267805 0.91209888 0.92186286 0.92727664\n",
      " 0.93187949 0.93949042 0.94518496 0.95224934 0.94346418 0.95428911\n",
      " 0.95397679 0.94684304 0.95301435 0.93702748 0.9409804  0.96616508\n",
      " 0.96739494 0.96873281 0.96478514 0.9730555  0.97373111 0.96125558\n",
      " 0.96459965 0.94627181 0.95305602 0.94387561 0.94599934 0.93110416\n",
      " 0.93291738 0.9438303  0.94768877 0.94037357 0.95101362 0.96426367\n",
      " 0.97161042 0.96937241 0.96882444 0.97592057 0.97633706 0.98633528\n",
      " 0.98514588 0.99231564 0.9762699  0.95917495 0.94994903 0.94075163\n",
      " 0.95287498 0.96420844 0.96602551 0.9683414  0.97818224 0.96585782\n",
      " 0.98489465 0.9810817  0.98367754 0.96885134 0.9692031  0.96144188\n",
      " 0.96052232 0.9390359  0.94430121 0.94655985 0.95320429 0.9508259\n",
      " 0.96451388 0.9696378  0.97143626 0.97037167 0.97578767 1.\n",
      " 0.99984526 0.99944293 0.99499179 0.98148869 0.96900204 0.94198185\n",
      " 0.92597616 0.90687704 0.88715965 0.8682704 ]\n",
      "5 day output [[0.85096836]]\n",
      "6 day input [0.94235893 0.95772178 0.953693   0.92076186 0.91441234 0.92445284\n",
      " 0.91920209 0.89790015 0.91185251 0.90457776 0.9296785  0.91346244\n",
      " 0.92584613 0.92368559 0.93259252 0.92542762 0.93462461 0.93393504\n",
      " 0.91929878 0.92267805 0.91209888 0.92186286 0.92727664 0.93187949\n",
      " 0.93949042 0.94518496 0.95224934 0.94346418 0.95428911 0.95397679\n",
      " 0.94684304 0.95301435 0.93702748 0.9409804  0.96616508 0.96739494\n",
      " 0.96873281 0.96478514 0.9730555  0.97373111 0.96125558 0.96459965\n",
      " 0.94627181 0.95305602 0.94387561 0.94599934 0.93110416 0.93291738\n",
      " 0.9438303  0.94768877 0.94037357 0.95101362 0.96426367 0.97161042\n",
      " 0.96937241 0.96882444 0.97592057 0.97633706 0.98633528 0.98514588\n",
      " 0.99231564 0.9762699  0.95917495 0.94994903 0.94075163 0.95287498\n",
      " 0.96420844 0.96602551 0.9683414  0.97818224 0.96585782 0.98489465\n",
      " 0.9810817  0.98367754 0.96885134 0.9692031  0.96144188 0.96052232\n",
      " 0.9390359  0.94430121 0.94655985 0.95320429 0.9508259  0.96451388\n",
      " 0.9696378  0.97143626 0.97037167 0.97578767 1.         0.99984526\n",
      " 0.99944293 0.99499179 0.98148869 0.96900204 0.94198185 0.92597616\n",
      " 0.90687704 0.88715965 0.8682704  0.85096836]\n",
      "6 day output [[0.83562464]]\n",
      "7 day input [0.95772178 0.953693   0.92076186 0.91441234 0.92445284 0.91920209\n",
      " 0.89790015 0.91185251 0.90457776 0.9296785  0.91346244 0.92584613\n",
      " 0.92368559 0.93259252 0.92542762 0.93462461 0.93393504 0.91929878\n",
      " 0.92267805 0.91209888 0.92186286 0.92727664 0.93187949 0.93949042\n",
      " 0.94518496 0.95224934 0.94346418 0.95428911 0.95397679 0.94684304\n",
      " 0.95301435 0.93702748 0.9409804  0.96616508 0.96739494 0.96873281\n",
      " 0.96478514 0.9730555  0.97373111 0.96125558 0.96459965 0.94627181\n",
      " 0.95305602 0.94387561 0.94599934 0.93110416 0.93291738 0.9438303\n",
      " 0.94768877 0.94037357 0.95101362 0.96426367 0.97161042 0.96937241\n",
      " 0.96882444 0.97592057 0.97633706 0.98633528 0.98514588 0.99231564\n",
      " 0.9762699  0.95917495 0.94994903 0.94075163 0.95287498 0.96420844\n",
      " 0.96602551 0.9683414  0.97818224 0.96585782 0.98489465 0.9810817\n",
      " 0.98367754 0.96885134 0.9692031  0.96144188 0.96052232 0.9390359\n",
      " 0.94430121 0.94655985 0.95320429 0.9508259  0.96451388 0.9696378\n",
      " 0.97143626 0.97037167 0.97578767 1.         0.99984526 0.99944293\n",
      " 0.99499179 0.98148869 0.96900204 0.94198185 0.92597616 0.90687704\n",
      " 0.88715965 0.8682704  0.85096836 0.83562464]\n",
      "7 day output [[0.82238144]]\n",
      "8 day input [0.953693   0.92076186 0.91441234 0.92445284 0.91920209 0.89790015\n",
      " 0.91185251 0.90457776 0.9296785  0.91346244 0.92584613 0.92368559\n",
      " 0.93259252 0.92542762 0.93462461 0.93393504 0.91929878 0.92267805\n",
      " 0.91209888 0.92186286 0.92727664 0.93187949 0.93949042 0.94518496\n",
      " 0.95224934 0.94346418 0.95428911 0.95397679 0.94684304 0.95301435\n",
      " 0.93702748 0.9409804  0.96616508 0.96739494 0.96873281 0.96478514\n",
      " 0.9730555  0.97373111 0.96125558 0.96459965 0.94627181 0.95305602\n",
      " 0.94387561 0.94599934 0.93110416 0.93291738 0.9438303  0.94768877\n",
      " 0.94037357 0.95101362 0.96426367 0.97161042 0.96937241 0.96882444\n",
      " 0.97592057 0.97633706 0.98633528 0.98514588 0.99231564 0.9762699\n",
      " 0.95917495 0.94994903 0.94075163 0.95287498 0.96420844 0.96602551\n",
      " 0.9683414  0.97818224 0.96585782 0.98489465 0.9810817  0.98367754\n",
      " 0.96885134 0.9692031  0.96144188 0.96052232 0.9390359  0.94430121\n",
      " 0.94655985 0.95320429 0.9508259  0.96451388 0.9696378  0.97143626\n",
      " 0.97037167 0.97578767 1.         0.99984526 0.99944293 0.99499179\n",
      " 0.98148869 0.96900204 0.94198185 0.92597616 0.90687704 0.88715965\n",
      " 0.8682704  0.85096836 0.83562464 0.82238144]\n",
      "8 day output [[0.8112215]]\n",
      "9 day input [0.92076186 0.91441234 0.92445284 0.91920209 0.89790015 0.91185251\n",
      " 0.90457776 0.9296785  0.91346244 0.92584613 0.92368559 0.93259252\n",
      " 0.92542762 0.93462461 0.93393504 0.91929878 0.92267805 0.91209888\n",
      " 0.92186286 0.92727664 0.93187949 0.93949042 0.94518496 0.95224934\n",
      " 0.94346418 0.95428911 0.95397679 0.94684304 0.95301435 0.93702748\n",
      " 0.9409804  0.96616508 0.96739494 0.96873281 0.96478514 0.9730555\n",
      " 0.97373111 0.96125558 0.96459965 0.94627181 0.95305602 0.94387561\n",
      " 0.94599934 0.93110416 0.93291738 0.9438303  0.94768877 0.94037357\n",
      " 0.95101362 0.96426367 0.97161042 0.96937241 0.96882444 0.97592057\n",
      " 0.97633706 0.98633528 0.98514588 0.99231564 0.9762699  0.95917495\n",
      " 0.94994903 0.94075163 0.95287498 0.96420844 0.96602551 0.9683414\n",
      " 0.97818224 0.96585782 0.98489465 0.9810817  0.98367754 0.96885134\n",
      " 0.9692031  0.96144188 0.96052232 0.9390359  0.94430121 0.94655985\n",
      " 0.95320429 0.9508259  0.96451388 0.9696378  0.97143626 0.97037167\n",
      " 0.97578767 1.         0.99984526 0.99944293 0.99499179 0.98148869\n",
      " 0.96900204 0.94198185 0.92597616 0.90687704 0.88715965 0.8682704\n",
      " 0.85096836 0.83562464 0.82238144 0.81122148]\n",
      "9 day output [[0.80200607]]\n",
      "10 day input [0.91441234 0.92445284 0.91920209 0.89790015 0.91185251 0.90457776\n",
      " 0.9296785  0.91346244 0.92584613 0.92368559 0.93259252 0.92542762\n",
      " 0.93462461 0.93393504 0.91929878 0.92267805 0.91209888 0.92186286\n",
      " 0.92727664 0.93187949 0.93949042 0.94518496 0.95224934 0.94346418\n",
      " 0.95428911 0.95397679 0.94684304 0.95301435 0.93702748 0.9409804\n",
      " 0.96616508 0.96739494 0.96873281 0.96478514 0.9730555  0.97373111\n",
      " 0.96125558 0.96459965 0.94627181 0.95305602 0.94387561 0.94599934\n",
      " 0.93110416 0.93291738 0.9438303  0.94768877 0.94037357 0.95101362\n",
      " 0.96426367 0.97161042 0.96937241 0.96882444 0.97592057 0.97633706\n",
      " 0.98633528 0.98514588 0.99231564 0.9762699  0.95917495 0.94994903\n",
      " 0.94075163 0.95287498 0.96420844 0.96602551 0.9683414  0.97818224\n",
      " 0.96585782 0.98489465 0.9810817  0.98367754 0.96885134 0.9692031\n",
      " 0.96144188 0.96052232 0.9390359  0.94430121 0.94655985 0.95320429\n",
      " 0.9508259  0.96451388 0.9696378  0.97143626 0.97037167 0.97578767\n",
      " 1.         0.99984526 0.99944293 0.99499179 0.98148869 0.96900204\n",
      " 0.94198185 0.92597616 0.90687704 0.88715965 0.8682704  0.85096836\n",
      " 0.83562464 0.82238144 0.81122148 0.80200607]\n",
      "10 day output [[0.794507]]\n",
      "11 day input [0.92445284 0.91920209 0.89790015 0.91185251 0.90457776 0.9296785\n",
      " 0.91346244 0.92584613 0.92368559 0.93259252 0.92542762 0.93462461\n",
      " 0.93393504 0.91929878 0.92267805 0.91209888 0.92186286 0.92727664\n",
      " 0.93187949 0.93949042 0.94518496 0.95224934 0.94346418 0.95428911\n",
      " 0.95397679 0.94684304 0.95301435 0.93702748 0.9409804  0.96616508\n",
      " 0.96739494 0.96873281 0.96478514 0.9730555  0.97373111 0.96125558\n",
      " 0.96459965 0.94627181 0.95305602 0.94387561 0.94599934 0.93110416\n",
      " 0.93291738 0.9438303  0.94768877 0.94037357 0.95101362 0.96426367\n",
      " 0.97161042 0.96937241 0.96882444 0.97592057 0.97633706 0.98633528\n",
      " 0.98514588 0.99231564 0.9762699  0.95917495 0.94994903 0.94075163\n",
      " 0.95287498 0.96420844 0.96602551 0.9683414  0.97818224 0.96585782\n",
      " 0.98489465 0.9810817  0.98367754 0.96885134 0.9692031  0.96144188\n",
      " 0.96052232 0.9390359  0.94430121 0.94655985 0.95320429 0.9508259\n",
      " 0.96451388 0.9696378  0.97143626 0.97037167 0.97578767 1.\n",
      " 0.99984526 0.99944293 0.99499179 0.98148869 0.96900204 0.94198185\n",
      " 0.92597616 0.90687704 0.88715965 0.8682704  0.85096836 0.83562464\n",
      " 0.82238144 0.81122148 0.80200607 0.79450703]\n",
      "11 day output [[0.7884365]]\n",
      "12 day input [0.91920209 0.89790015 0.91185251 0.90457776 0.9296785  0.91346244\n",
      " 0.92584613 0.92368559 0.93259252 0.92542762 0.93462461 0.93393504\n",
      " 0.91929878 0.92267805 0.91209888 0.92186286 0.92727664 0.93187949\n",
      " 0.93949042 0.94518496 0.95224934 0.94346418 0.95428911 0.95397679\n",
      " 0.94684304 0.95301435 0.93702748 0.9409804  0.96616508 0.96739494\n",
      " 0.96873281 0.96478514 0.9730555  0.97373111 0.96125558 0.96459965\n",
      " 0.94627181 0.95305602 0.94387561 0.94599934 0.93110416 0.93291738\n",
      " 0.9438303  0.94768877 0.94037357 0.95101362 0.96426367 0.97161042\n",
      " 0.96937241 0.96882444 0.97592057 0.97633706 0.98633528 0.98514588\n",
      " 0.99231564 0.9762699  0.95917495 0.94994903 0.94075163 0.95287498\n",
      " 0.96420844 0.96602551 0.9683414  0.97818224 0.96585782 0.98489465\n",
      " 0.9810817  0.98367754 0.96885134 0.9692031  0.96144188 0.96052232\n",
      " 0.9390359  0.94430121 0.94655985 0.95320429 0.9508259  0.96451388\n",
      " 0.9696378  0.97143626 0.97037167 0.97578767 1.         0.99984526\n",
      " 0.99944293 0.99499179 0.98148869 0.96900204 0.94198185 0.92597616\n",
      " 0.90687704 0.88715965 0.8682704  0.85096836 0.83562464 0.82238144\n",
      " 0.81122148 0.80200607 0.79450703 0.78843647]\n",
      "12 day output [[0.7834772]]\n",
      "13 day input [0.89790015 0.91185251 0.90457776 0.9296785  0.91346244 0.92584613\n",
      " 0.92368559 0.93259252 0.92542762 0.93462461 0.93393504 0.91929878\n",
      " 0.92267805 0.91209888 0.92186286 0.92727664 0.93187949 0.93949042\n",
      " 0.94518496 0.95224934 0.94346418 0.95428911 0.95397679 0.94684304\n",
      " 0.95301435 0.93702748 0.9409804  0.96616508 0.96739494 0.96873281\n",
      " 0.96478514 0.9730555  0.97373111 0.96125558 0.96459965 0.94627181\n",
      " 0.95305602 0.94387561 0.94599934 0.93110416 0.93291738 0.9438303\n",
      " 0.94768877 0.94037357 0.95101362 0.96426367 0.97161042 0.96937241\n",
      " 0.96882444 0.97592057 0.97633706 0.98633528 0.98514588 0.99231564\n",
      " 0.9762699  0.95917495 0.94994903 0.94075163 0.95287498 0.96420844\n",
      " 0.96602551 0.9683414  0.97818224 0.96585782 0.98489465 0.9810817\n",
      " 0.98367754 0.96885134 0.9692031  0.96144188 0.96052232 0.9390359\n",
      " 0.94430121 0.94655985 0.95320429 0.9508259  0.96451388 0.9696378\n",
      " 0.97143626 0.97037167 0.97578767 1.         0.99984526 0.99944293\n",
      " 0.99499179 0.98148869 0.96900204 0.94198185 0.92597616 0.90687704\n",
      " 0.88715965 0.8682704  0.85096836 0.83562464 0.82238144 0.81122148\n",
      " 0.80200607 0.79450703 0.78843647 0.78347719]\n",
      "13 day output [[0.7793088]]\n",
      "14 day input [0.91185251 0.90457776 0.9296785  0.91346244 0.92584613 0.92368559\n",
      " 0.93259252 0.92542762 0.93462461 0.93393504 0.91929878 0.92267805\n",
      " 0.91209888 0.92186286 0.92727664 0.93187949 0.93949042 0.94518496\n",
      " 0.95224934 0.94346418 0.95428911 0.95397679 0.94684304 0.95301435\n",
      " 0.93702748 0.9409804  0.96616508 0.96739494 0.96873281 0.96478514\n",
      " 0.9730555  0.97373111 0.96125558 0.96459965 0.94627181 0.95305602\n",
      " 0.94387561 0.94599934 0.93110416 0.93291738 0.9438303  0.94768877\n",
      " 0.94037357 0.95101362 0.96426367 0.97161042 0.96937241 0.96882444\n",
      " 0.97592057 0.97633706 0.98633528 0.98514588 0.99231564 0.9762699\n",
      " 0.95917495 0.94994903 0.94075163 0.95287498 0.96420844 0.96602551\n",
      " 0.9683414  0.97818224 0.96585782 0.98489465 0.9810817  0.98367754\n",
      " 0.96885134 0.9692031  0.96144188 0.96052232 0.9390359  0.94430121\n",
      " 0.94655985 0.95320429 0.9508259  0.96451388 0.9696378  0.97143626\n",
      " 0.97037167 0.97578767 1.         0.99984526 0.99944293 0.99499179\n",
      " 0.98148869 0.96900204 0.94198185 0.92597616 0.90687704 0.88715965\n",
      " 0.8682704  0.85096836 0.83562464 0.82238144 0.81122148 0.80200607\n",
      " 0.79450703 0.78843647 0.78347719 0.7793088 ]\n",
      "14 day output [[0.7756287]]\n",
      "15 day input [0.90457776 0.9296785  0.91346244 0.92584613 0.92368559 0.93259252\n",
      " 0.92542762 0.93462461 0.93393504 0.91929878 0.92267805 0.91209888\n",
      " 0.92186286 0.92727664 0.93187949 0.93949042 0.94518496 0.95224934\n",
      " 0.94346418 0.95428911 0.95397679 0.94684304 0.95301435 0.93702748\n",
      " 0.9409804  0.96616508 0.96739494 0.96873281 0.96478514 0.9730555\n",
      " 0.97373111 0.96125558 0.96459965 0.94627181 0.95305602 0.94387561\n",
      " 0.94599934 0.93110416 0.93291738 0.9438303  0.94768877 0.94037357\n",
      " 0.95101362 0.96426367 0.97161042 0.96937241 0.96882444 0.97592057\n",
      " 0.97633706 0.98633528 0.98514588 0.99231564 0.9762699  0.95917495\n",
      " 0.94994903 0.94075163 0.95287498 0.96420844 0.96602551 0.9683414\n",
      " 0.97818224 0.96585782 0.98489465 0.9810817  0.98367754 0.96885134\n",
      " 0.9692031  0.96144188 0.96052232 0.9390359  0.94430121 0.94655985\n",
      " 0.95320429 0.9508259  0.96451388 0.9696378  0.97143626 0.97037167\n",
      " 0.97578767 1.         0.99984526 0.99944293 0.99499179 0.98148869\n",
      " 0.96900204 0.94198185 0.92597616 0.90687704 0.88715965 0.8682704\n",
      " 0.85096836 0.83562464 0.82238144 0.81122148 0.80200607 0.79450703\n",
      " 0.78843647 0.78347719 0.7793088  0.77562869]\n",
      "15 day output [[0.7721689]]\n",
      "16 day input [0.9296785  0.91346244 0.92584613 0.92368559 0.93259252 0.92542762\n",
      " 0.93462461 0.93393504 0.91929878 0.92267805 0.91209888 0.92186286\n",
      " 0.92727664 0.93187949 0.93949042 0.94518496 0.95224934 0.94346418\n",
      " 0.95428911 0.95397679 0.94684304 0.95301435 0.93702748 0.9409804\n",
      " 0.96616508 0.96739494 0.96873281 0.96478514 0.9730555  0.97373111\n",
      " 0.96125558 0.96459965 0.94627181 0.95305602 0.94387561 0.94599934\n",
      " 0.93110416 0.93291738 0.9438303  0.94768877 0.94037357 0.95101362\n",
      " 0.96426367 0.97161042 0.96937241 0.96882444 0.97592057 0.97633706\n",
      " 0.98633528 0.98514588 0.99231564 0.9762699  0.95917495 0.94994903\n",
      " 0.94075163 0.95287498 0.96420844 0.96602551 0.9683414  0.97818224\n",
      " 0.96585782 0.98489465 0.9810817  0.98367754 0.96885134 0.9692031\n",
      " 0.96144188 0.96052232 0.9390359  0.94430121 0.94655985 0.95320429\n",
      " 0.9508259  0.96451388 0.9696378  0.97143626 0.97037167 0.97578767\n",
      " 1.         0.99984526 0.99944293 0.99499179 0.98148869 0.96900204\n",
      " 0.94198185 0.92597616 0.90687704 0.88715965 0.8682704  0.85096836\n",
      " 0.83562464 0.82238144 0.81122148 0.80200607 0.79450703 0.78843647\n",
      " 0.78347719 0.7793088  0.77562869 0.77216887]\n",
      "16 day output [[0.7687063]]\n",
      "17 day input [0.91346244 0.92584613 0.92368559 0.93259252 0.92542762 0.93462461\n",
      " 0.93393504 0.91929878 0.92267805 0.91209888 0.92186286 0.92727664\n",
      " 0.93187949 0.93949042 0.94518496 0.95224934 0.94346418 0.95428911\n",
      " 0.95397679 0.94684304 0.95301435 0.93702748 0.9409804  0.96616508\n",
      " 0.96739494 0.96873281 0.96478514 0.9730555  0.97373111 0.96125558\n",
      " 0.96459965 0.94627181 0.95305602 0.94387561 0.94599934 0.93110416\n",
      " 0.93291738 0.9438303  0.94768877 0.94037357 0.95101362 0.96426367\n",
      " 0.97161042 0.96937241 0.96882444 0.97592057 0.97633706 0.98633528\n",
      " 0.98514588 0.99231564 0.9762699  0.95917495 0.94994903 0.94075163\n",
      " 0.95287498 0.96420844 0.96602551 0.9683414  0.97818224 0.96585782\n",
      " 0.98489465 0.9810817  0.98367754 0.96885134 0.9692031  0.96144188\n",
      " 0.96052232 0.9390359  0.94430121 0.94655985 0.95320429 0.9508259\n",
      " 0.96451388 0.9696378  0.97143626 0.97037167 0.97578767 1.\n",
      " 0.99984526 0.99944293 0.99499179 0.98148869 0.96900204 0.94198185\n",
      " 0.92597616 0.90687704 0.88715965 0.8682704  0.85096836 0.83562464\n",
      " 0.82238144 0.81122148 0.80200607 0.79450703 0.78843647 0.78347719\n",
      " 0.7793088  0.77562869 0.77216887 0.76870632]\n",
      "17 day output [[0.76506937]]\n",
      "18 day input [0.92584613 0.92368559 0.93259252 0.92542762 0.93462461 0.93393504\n",
      " 0.91929878 0.92267805 0.91209888 0.92186286 0.92727664 0.93187949\n",
      " 0.93949042 0.94518496 0.95224934 0.94346418 0.95428911 0.95397679\n",
      " 0.94684304 0.95301435 0.93702748 0.9409804  0.96616508 0.96739494\n",
      " 0.96873281 0.96478514 0.9730555  0.97373111 0.96125558 0.96459965\n",
      " 0.94627181 0.95305602 0.94387561 0.94599934 0.93110416 0.93291738\n",
      " 0.9438303  0.94768877 0.94037357 0.95101362 0.96426367 0.97161042\n",
      " 0.96937241 0.96882444 0.97592057 0.97633706 0.98633528 0.98514588\n",
      " 0.99231564 0.9762699  0.95917495 0.94994903 0.94075163 0.95287498\n",
      " 0.96420844 0.96602551 0.9683414  0.97818224 0.96585782 0.98489465\n",
      " 0.9810817  0.98367754 0.96885134 0.9692031  0.96144188 0.96052232\n",
      " 0.9390359  0.94430121 0.94655985 0.95320429 0.9508259  0.96451388\n",
      " 0.9696378  0.97143626 0.97037167 0.97578767 1.         0.99984526\n",
      " 0.99944293 0.99499179 0.98148869 0.96900204 0.94198185 0.92597616\n",
      " 0.90687704 0.88715965 0.8682704  0.85096836 0.83562464 0.82238144\n",
      " 0.81122148 0.80200607 0.79450703 0.78843647 0.78347719 0.7793088\n",
      " 0.77562869 0.77216887 0.76870632 0.76506937]\n",
      "18 day output [[0.7611385]]\n",
      "19 day input [0.92368559 0.93259252 0.92542762 0.93462461 0.93393504 0.91929878\n",
      " 0.92267805 0.91209888 0.92186286 0.92727664 0.93187949 0.93949042\n",
      " 0.94518496 0.95224934 0.94346418 0.95428911 0.95397679 0.94684304\n",
      " 0.95301435 0.93702748 0.9409804  0.96616508 0.96739494 0.96873281\n",
      " 0.96478514 0.9730555  0.97373111 0.96125558 0.96459965 0.94627181\n",
      " 0.95305602 0.94387561 0.94599934 0.93110416 0.93291738 0.9438303\n",
      " 0.94768877 0.94037357 0.95101362 0.96426367 0.97161042 0.96937241\n",
      " 0.96882444 0.97592057 0.97633706 0.98633528 0.98514588 0.99231564\n",
      " 0.9762699  0.95917495 0.94994903 0.94075163 0.95287498 0.96420844\n",
      " 0.96602551 0.9683414  0.97818224 0.96585782 0.98489465 0.9810817\n",
      " 0.98367754 0.96885134 0.9692031  0.96144188 0.96052232 0.9390359\n",
      " 0.94430121 0.94655985 0.95320429 0.9508259  0.96451388 0.9696378\n",
      " 0.97143626 0.97037167 0.97578767 1.         0.99984526 0.99944293\n",
      " 0.99499179 0.98148869 0.96900204 0.94198185 0.92597616 0.90687704\n",
      " 0.88715965 0.8682704  0.85096836 0.83562464 0.82238144 0.81122148\n",
      " 0.80200607 0.79450703 0.78843647 0.78347719 0.7793088  0.77562869\n",
      " 0.77216887 0.76870632 0.76506937 0.7611385 ]\n",
      "19 day output [[0.7568449]]\n",
      "20 day input [0.93259252 0.92542762 0.93462461 0.93393504 0.91929878 0.92267805\n",
      " 0.91209888 0.92186286 0.92727664 0.93187949 0.93949042 0.94518496\n",
      " 0.95224934 0.94346418 0.95428911 0.95397679 0.94684304 0.95301435\n",
      " 0.93702748 0.9409804  0.96616508 0.96739494 0.96873281 0.96478514\n",
      " 0.9730555  0.97373111 0.96125558 0.96459965 0.94627181 0.95305602\n",
      " 0.94387561 0.94599934 0.93110416 0.93291738 0.9438303  0.94768877\n",
      " 0.94037357 0.95101362 0.96426367 0.97161042 0.96937241 0.96882444\n",
      " 0.97592057 0.97633706 0.98633528 0.98514588 0.99231564 0.9762699\n",
      " 0.95917495 0.94994903 0.94075163 0.95287498 0.96420844 0.96602551\n",
      " 0.9683414  0.97818224 0.96585782 0.98489465 0.9810817  0.98367754\n",
      " 0.96885134 0.9692031  0.96144188 0.96052232 0.9390359  0.94430121\n",
      " 0.94655985 0.95320429 0.9508259  0.96451388 0.9696378  0.97143626\n",
      " 0.97037167 0.97578767 1.         0.99984526 0.99944293 0.99499179\n",
      " 0.98148869 0.96900204 0.94198185 0.92597616 0.90687704 0.88715965\n",
      " 0.8682704  0.85096836 0.83562464 0.82238144 0.81122148 0.80200607\n",
      " 0.79450703 0.78843647 0.78347719 0.7793088  0.77562869 0.77216887\n",
      " 0.76870632 0.76506937 0.7611385  0.75684488]\n",
      "20 day output [[0.75216556]]\n",
      "21 day input [0.92542762 0.93462461 0.93393504 0.91929878 0.92267805 0.91209888\n",
      " 0.92186286 0.92727664 0.93187949 0.93949042 0.94518496 0.95224934\n",
      " 0.94346418 0.95428911 0.95397679 0.94684304 0.95301435 0.93702748\n",
      " 0.9409804  0.96616508 0.96739494 0.96873281 0.96478514 0.9730555\n",
      " 0.97373111 0.96125558 0.96459965 0.94627181 0.95305602 0.94387561\n",
      " 0.94599934 0.93110416 0.93291738 0.9438303  0.94768877 0.94037357\n",
      " 0.95101362 0.96426367 0.97161042 0.96937241 0.96882444 0.97592057\n",
      " 0.97633706 0.98633528 0.98514588 0.99231564 0.9762699  0.95917495\n",
      " 0.94994903 0.94075163 0.95287498 0.96420844 0.96602551 0.9683414\n",
      " 0.97818224 0.96585782 0.98489465 0.9810817  0.98367754 0.96885134\n",
      " 0.9692031  0.96144188 0.96052232 0.9390359  0.94430121 0.94655985\n",
      " 0.95320429 0.9508259  0.96451388 0.9696378  0.97143626 0.97037167\n",
      " 0.97578767 1.         0.99984526 0.99944293 0.99499179 0.98148869\n",
      " 0.96900204 0.94198185 0.92597616 0.90687704 0.88715965 0.8682704\n",
      " 0.85096836 0.83562464 0.82238144 0.81122148 0.80200607 0.79450703\n",
      " 0.78843647 0.78347719 0.7793088  0.77562869 0.77216887 0.76870632\n",
      " 0.76506937 0.7611385  0.75684488 0.75216556]\n",
      "21 day output [[0.747115]]\n",
      "22 day input [0.93462461 0.93393504 0.91929878 0.92267805 0.91209888 0.92186286\n",
      " 0.92727664 0.93187949 0.93949042 0.94518496 0.95224934 0.94346418\n",
      " 0.95428911 0.95397679 0.94684304 0.95301435 0.93702748 0.9409804\n",
      " 0.96616508 0.96739494 0.96873281 0.96478514 0.9730555  0.97373111\n",
      " 0.96125558 0.96459965 0.94627181 0.95305602 0.94387561 0.94599934\n",
      " 0.93110416 0.93291738 0.9438303  0.94768877 0.94037357 0.95101362\n",
      " 0.96426367 0.97161042 0.96937241 0.96882444 0.97592057 0.97633706\n",
      " 0.98633528 0.98514588 0.99231564 0.9762699  0.95917495 0.94994903\n",
      " 0.94075163 0.95287498 0.96420844 0.96602551 0.9683414  0.97818224\n",
      " 0.96585782 0.98489465 0.9810817  0.98367754 0.96885134 0.9692031\n",
      " 0.96144188 0.96052232 0.9390359  0.94430121 0.94655985 0.95320429\n",
      " 0.9508259  0.96451388 0.9696378  0.97143626 0.97037167 0.97578767\n",
      " 1.         0.99984526 0.99944293 0.99499179 0.98148869 0.96900204\n",
      " 0.94198185 0.92597616 0.90687704 0.88715965 0.8682704  0.85096836\n",
      " 0.83562464 0.82238144 0.81122148 0.80200607 0.79450703 0.78843647\n",
      " 0.78347719 0.7793088  0.77562869 0.77216887 0.76870632 0.76506937\n",
      " 0.7611385  0.75684488 0.75216556 0.74711502]\n",
      "22 day output [[0.7417385]]\n",
      "23 day input [0.93393504 0.91929878 0.92267805 0.91209888 0.92186286 0.92727664\n",
      " 0.93187949 0.93949042 0.94518496 0.95224934 0.94346418 0.95428911\n",
      " 0.95397679 0.94684304 0.95301435 0.93702748 0.9409804  0.96616508\n",
      " 0.96739494 0.96873281 0.96478514 0.9730555  0.97373111 0.96125558\n",
      " 0.96459965 0.94627181 0.95305602 0.94387561 0.94599934 0.93110416\n",
      " 0.93291738 0.9438303  0.94768877 0.94037357 0.95101362 0.96426367\n",
      " 0.97161042 0.96937241 0.96882444 0.97592057 0.97633706 0.98633528\n",
      " 0.98514588 0.99231564 0.9762699  0.95917495 0.94994903 0.94075163\n",
      " 0.95287498 0.96420844 0.96602551 0.9683414  0.97818224 0.96585782\n",
      " 0.98489465 0.9810817  0.98367754 0.96885134 0.9692031  0.96144188\n",
      " 0.96052232 0.9390359  0.94430121 0.94655985 0.95320429 0.9508259\n",
      " 0.96451388 0.9696378  0.97143626 0.97037167 0.97578767 1.\n",
      " 0.99984526 0.99944293 0.99499179 0.98148869 0.96900204 0.94198185\n",
      " 0.92597616 0.90687704 0.88715965 0.8682704  0.85096836 0.83562464\n",
      " 0.82238144 0.81122148 0.80200607 0.79450703 0.78843647 0.78347719\n",
      " 0.7793088  0.77562869 0.77216887 0.76870632 0.76506937 0.7611385\n",
      " 0.75684488 0.75216556 0.74711502 0.7417385 ]\n",
      "23 day output [[0.7361023]]\n",
      "24 day input [0.91929878 0.92267805 0.91209888 0.92186286 0.92727664 0.93187949\n",
      " 0.93949042 0.94518496 0.95224934 0.94346418 0.95428911 0.95397679\n",
      " 0.94684304 0.95301435 0.93702748 0.9409804  0.96616508 0.96739494\n",
      " 0.96873281 0.96478514 0.9730555  0.97373111 0.96125558 0.96459965\n",
      " 0.94627181 0.95305602 0.94387561 0.94599934 0.93110416 0.93291738\n",
      " 0.9438303  0.94768877 0.94037357 0.95101362 0.96426367 0.97161042\n",
      " 0.96937241 0.96882444 0.97592057 0.97633706 0.98633528 0.98514588\n",
      " 0.99231564 0.9762699  0.95917495 0.94994903 0.94075163 0.95287498\n",
      " 0.96420844 0.96602551 0.9683414  0.97818224 0.96585782 0.98489465\n",
      " 0.9810817  0.98367754 0.96885134 0.9692031  0.96144188 0.96052232\n",
      " 0.9390359  0.94430121 0.94655985 0.95320429 0.9508259  0.96451388\n",
      " 0.9696378  0.97143626 0.97037167 0.97578767 1.         0.99984526\n",
      " 0.99944293 0.99499179 0.98148869 0.96900204 0.94198185 0.92597616\n",
      " 0.90687704 0.88715965 0.8682704  0.85096836 0.83562464 0.82238144\n",
      " 0.81122148 0.80200607 0.79450703 0.78843647 0.78347719 0.7793088\n",
      " 0.77562869 0.77216887 0.76870632 0.76506937 0.7611385  0.75684488\n",
      " 0.75216556 0.74711502 0.7417385  0.73610228]\n",
      "24 day output [[0.73028547]]\n",
      "25 day input [0.92267805 0.91209888 0.92186286 0.92727664 0.93187949 0.93949042\n",
      " 0.94518496 0.95224934 0.94346418 0.95428911 0.95397679 0.94684304\n",
      " 0.95301435 0.93702748 0.9409804  0.96616508 0.96739494 0.96873281\n",
      " 0.96478514 0.9730555  0.97373111 0.96125558 0.96459965 0.94627181\n",
      " 0.95305602 0.94387561 0.94599934 0.93110416 0.93291738 0.9438303\n",
      " 0.94768877 0.94037357 0.95101362 0.96426367 0.97161042 0.96937241\n",
      " 0.96882444 0.97592057 0.97633706 0.98633528 0.98514588 0.99231564\n",
      " 0.9762699  0.95917495 0.94994903 0.94075163 0.95287498 0.96420844\n",
      " 0.96602551 0.9683414  0.97818224 0.96585782 0.98489465 0.9810817\n",
      " 0.98367754 0.96885134 0.9692031  0.96144188 0.96052232 0.9390359\n",
      " 0.94430121 0.94655985 0.95320429 0.9508259  0.96451388 0.9696378\n",
      " 0.97143626 0.97037167 0.97578767 1.         0.99984526 0.99944293\n",
      " 0.99499179 0.98148869 0.96900204 0.94198185 0.92597616 0.90687704\n",
      " 0.88715965 0.8682704  0.85096836 0.83562464 0.82238144 0.81122148\n",
      " 0.80200607 0.79450703 0.78843647 0.78347719 0.7793088  0.77562869\n",
      " 0.77216887 0.76870632 0.76506937 0.7611385  0.75684488 0.75216556\n",
      " 0.74711502 0.7417385  0.73610228 0.73028547]\n",
      "25 day output [[0.7243719]]\n",
      "26 day input [0.91209888 0.92186286 0.92727664 0.93187949 0.93949042 0.94518496\n",
      " 0.95224934 0.94346418 0.95428911 0.95397679 0.94684304 0.95301435\n",
      " 0.93702748 0.9409804  0.96616508 0.96739494 0.96873281 0.96478514\n",
      " 0.9730555  0.97373111 0.96125558 0.96459965 0.94627181 0.95305602\n",
      " 0.94387561 0.94599934 0.93110416 0.93291738 0.9438303  0.94768877\n",
      " 0.94037357 0.95101362 0.96426367 0.97161042 0.96937241 0.96882444\n",
      " 0.97592057 0.97633706 0.98633528 0.98514588 0.99231564 0.9762699\n",
      " 0.95917495 0.94994903 0.94075163 0.95287498 0.96420844 0.96602551\n",
      " 0.9683414  0.97818224 0.96585782 0.98489465 0.9810817  0.98367754\n",
      " 0.96885134 0.9692031  0.96144188 0.96052232 0.9390359  0.94430121\n",
      " 0.94655985 0.95320429 0.9508259  0.96451388 0.9696378  0.97143626\n",
      " 0.97037167 0.97578767 1.         0.99984526 0.99944293 0.99499179\n",
      " 0.98148869 0.96900204 0.94198185 0.92597616 0.90687704 0.88715965\n",
      " 0.8682704  0.85096836 0.83562464 0.82238144 0.81122148 0.80200607\n",
      " 0.79450703 0.78843647 0.78347719 0.7793088  0.77562869 0.77216887\n",
      " 0.76870632 0.76506937 0.7611385  0.75684488 0.75216556 0.74711502\n",
      " 0.7417385  0.73610228 0.73028547 0.72437191]\n",
      "26 day output [[0.71844316]]\n",
      "27 day input [0.92186286 0.92727664 0.93187949 0.93949042 0.94518496 0.95224934\n",
      " 0.94346418 0.95428911 0.95397679 0.94684304 0.95301435 0.93702748\n",
      " 0.9409804  0.96616508 0.96739494 0.96873281 0.96478514 0.9730555\n",
      " 0.97373111 0.96125558 0.96459965 0.94627181 0.95305602 0.94387561\n",
      " 0.94599934 0.93110416 0.93291738 0.9438303  0.94768877 0.94037357\n",
      " 0.95101362 0.96426367 0.97161042 0.96937241 0.96882444 0.97592057\n",
      " 0.97633706 0.98633528 0.98514588 0.99231564 0.9762699  0.95917495\n",
      " 0.94994903 0.94075163 0.95287498 0.96420844 0.96602551 0.9683414\n",
      " 0.97818224 0.96585782 0.98489465 0.9810817  0.98367754 0.96885134\n",
      " 0.9692031  0.96144188 0.96052232 0.9390359  0.94430121 0.94655985\n",
      " 0.95320429 0.9508259  0.96451388 0.9696378  0.97143626 0.97037167\n",
      " 0.97578767 1.         0.99984526 0.99944293 0.99499179 0.98148869\n",
      " 0.96900204 0.94198185 0.92597616 0.90687704 0.88715965 0.8682704\n",
      " 0.85096836 0.83562464 0.82238144 0.81122148 0.80200607 0.79450703\n",
      " 0.78843647 0.78347719 0.7793088  0.77562869 0.77216887 0.76870632\n",
      " 0.76506937 0.7611385  0.75684488 0.75216556 0.74711502 0.7417385\n",
      " 0.73610228 0.73028547 0.72437191 0.71844316]\n",
      "27 day output [[0.71257377]]\n",
      "28 day input [0.92727664 0.93187949 0.93949042 0.94518496 0.95224934 0.94346418\n",
      " 0.95428911 0.95397679 0.94684304 0.95301435 0.93702748 0.9409804\n",
      " 0.96616508 0.96739494 0.96873281 0.96478514 0.9730555  0.97373111\n",
      " 0.96125558 0.96459965 0.94627181 0.95305602 0.94387561 0.94599934\n",
      " 0.93110416 0.93291738 0.9438303  0.94768877 0.94037357 0.95101362\n",
      " 0.96426367 0.97161042 0.96937241 0.96882444 0.97592057 0.97633706\n",
      " 0.98633528 0.98514588 0.99231564 0.9762699  0.95917495 0.94994903\n",
      " 0.94075163 0.95287498 0.96420844 0.96602551 0.9683414  0.97818224\n",
      " 0.96585782 0.98489465 0.9810817  0.98367754 0.96885134 0.9692031\n",
      " 0.96144188 0.96052232 0.9390359  0.94430121 0.94655985 0.95320429\n",
      " 0.9508259  0.96451388 0.9696378  0.97143626 0.97037167 0.97578767\n",
      " 1.         0.99984526 0.99944293 0.99499179 0.98148869 0.96900204\n",
      " 0.94198185 0.92597616 0.90687704 0.88715965 0.8682704  0.85096836\n",
      " 0.83562464 0.82238144 0.81122148 0.80200607 0.79450703 0.78843647\n",
      " 0.78347719 0.7793088  0.77562869 0.77216887 0.76870632 0.76506937\n",
      " 0.7611385  0.75684488 0.75216556 0.74711502 0.7417385  0.73610228\n",
      " 0.73028547 0.72437191 0.71844316 0.71257377]\n",
      "28 day output [[0.7068273]]\n",
      "29 day input [0.93187949 0.93949042 0.94518496 0.95224934 0.94346418 0.95428911\n",
      " 0.95397679 0.94684304 0.95301435 0.93702748 0.9409804  0.96616508\n",
      " 0.96739494 0.96873281 0.96478514 0.9730555  0.97373111 0.96125558\n",
      " 0.96459965 0.94627181 0.95305602 0.94387561 0.94599934 0.93110416\n",
      " 0.93291738 0.9438303  0.94768877 0.94037357 0.95101362 0.96426367\n",
      " 0.97161042 0.96937241 0.96882444 0.97592057 0.97633706 0.98633528\n",
      " 0.98514588 0.99231564 0.9762699  0.95917495 0.94994903 0.94075163\n",
      " 0.95287498 0.96420844 0.96602551 0.9683414  0.97818224 0.96585782\n",
      " 0.98489465 0.9810817  0.98367754 0.96885134 0.9692031  0.96144188\n",
      " 0.96052232 0.9390359  0.94430121 0.94655985 0.95320429 0.9508259\n",
      " 0.96451388 0.9696378  0.97143626 0.97037167 0.97578767 1.\n",
      " 0.99984526 0.99944293 0.99499179 0.98148869 0.96900204 0.94198185\n",
      " 0.92597616 0.90687704 0.88715965 0.8682704  0.85096836 0.83562464\n",
      " 0.82238144 0.81122148 0.80200607 0.79450703 0.78843647 0.78347719\n",
      " 0.7793088  0.77562869 0.77216887 0.76870632 0.76506937 0.7611385\n",
      " 0.75684488 0.75216556 0.74711502 0.7417385  0.73610228 0.73028547\n",
      " 0.72437191 0.71844316 0.71257377 0.70682728]\n",
      "29 day output [[0.7012531]]\n",
      "[[0.941981852054596], [0.9259761571884155], [0.9068770408630371], [0.8871596455574036], [0.8682703971862793], [0.8509683609008789], [0.835624635219574], [0.8223814368247986], [0.8112214803695679], [0.8020060658454895], [0.7945070266723633], [0.7884364724159241], [0.7834771871566772], [0.7793087959289551], [0.7756286859512329], [0.7721688747406006], [0.7687063217163086], [0.7650693655014038], [0.7611384987831116], [0.7568448781967163], [0.7521655559539795], [0.7471150159835815], [0.741738498210907], [0.736102283000946], [0.7302854657173157], [0.7243719100952148], [0.7184431552886963], [0.712573766708374], [0.7068272829055786], [0.7012531161308289]]\n"
     ]
    }
   ],
   "source": [
    "# demonstrate prediction for next 10 days\n",
    "from numpy import array\n",
    "\n",
    "lst_output=[]\n",
    "n_steps=100\n",
    "i=0\n",
    "while(i<30):\n",
    "    \n",
    "    if(len(temp_input)>100):\n",
    "        #print(temp_input)\n",
    "        x_input=np.array(temp_input[1:])\n",
    "        print(\"{} day input {}\".format(i,x_input))\n",
    "        x_input=x_input.reshape(1,-1)\n",
    "        x_input = x_input.reshape((1, n_steps, 1))\n",
    "        #print(x_input)\n",
    "        yhat = model.predict(x_input, verbose=0)\n",
    "        print(\"{} day output {}\".format(i,yhat))\n",
    "        temp_input.extend(yhat[0].tolist())\n",
    "        temp_input=temp_input[1:]\n",
    "        #print(temp_input)\n",
    "        lst_output.extend(yhat.tolist())\n",
    "        i=i+1\n",
    "    else:\n",
    "        x_input = x_input.reshape((1,100,1))\n",
    "        yhat = model.predict(x_input, verbose=0)\n",
    "        print(yhat[0])\n",
    "        temp_input.extend(yhat[0].tolist())\n",
    "        print(len(temp_input))\n",
    "        lst_output.extend(yhat.tolist())\n",
    "        i=i+1\n",
    "    \n",
    "\n",
    "print(lst_output)"
   ]
  },
  {
   "cell_type": "code",
   "execution_count": 48,
   "id": "eb54c0e8",
   "metadata": {},
   "outputs": [
    {
     "data": {
      "text/plain": [
       "30"
      ]
     },
     "execution_count": 48,
     "metadata": {},
     "output_type": "execute_result"
    }
   ],
   "source": [
    "len(lst_output)"
   ]
  },
  {
   "cell_type": "code",
   "execution_count": 49,
   "id": "04350704",
   "metadata": {},
   "outputs": [],
   "source": [
    "day_new=np.arange(1,101)\n",
    "day_pred=np.arange(101,131)"
   ]
  },
  {
   "cell_type": "code",
   "execution_count": 50,
   "id": "a1c3b927",
   "metadata": {},
   "outputs": [],
   "source": [
    "import matplotlib.pyplot as plt"
   ]
  },
  {
   "cell_type": "code",
   "execution_count": 51,
   "id": "26bffb02",
   "metadata": {},
   "outputs": [
    {
     "data": {
      "text/plain": [
       "1241"
      ]
     },
     "execution_count": 51,
     "metadata": {},
     "output_type": "execute_result"
    }
   ],
   "source": [
    "len(df1)"
   ]
  },
  {
   "cell_type": "code",
   "execution_count": 52,
   "id": "ece5cb68",
   "metadata": {},
   "outputs": [
    {
     "data": {
      "text/plain": [
       "[[0.941981852054596],\n",
       " [0.9259761571884155],\n",
       " [0.9068770408630371],\n",
       " [0.8871596455574036],\n",
       " [0.8682703971862793],\n",
       " [0.8509683609008789],\n",
       " [0.835624635219574],\n",
       " [0.8223814368247986],\n",
       " [0.8112214803695679],\n",
       " [0.8020060658454895],\n",
       " [0.7945070266723633],\n",
       " [0.7884364724159241],\n",
       " [0.7834771871566772],\n",
       " [0.7793087959289551],\n",
       " [0.7756286859512329],\n",
       " [0.7721688747406006],\n",
       " [0.7687063217163086],\n",
       " [0.7650693655014038],\n",
       " [0.7611384987831116],\n",
       " [0.7568448781967163],\n",
       " [0.7521655559539795],\n",
       " [0.7471150159835815],\n",
       " [0.741738498210907],\n",
       " [0.736102283000946],\n",
       " [0.7302854657173157],\n",
       " [0.7243719100952148],\n",
       " [0.7184431552886963],\n",
       " [0.712573766708374],\n",
       " [0.7068272829055786],\n",
       " [0.7012531161308289]]"
      ]
     },
     "execution_count": 52,
     "metadata": {},
     "output_type": "execute_result"
    }
   ],
   "source": [
    "lst_output"
   ]
  },
  {
   "cell_type": "code",
   "execution_count": 53,
   "id": "555c1e33",
   "metadata": {},
   "outputs": [
    {
     "data": {
      "text/plain": [
       "[<matplotlib.lines.Line2D at 0x309156a50>]"
      ]
     },
     "execution_count": 53,
     "metadata": {},
     "output_type": "execute_result"
    },
    {
     "data": {
      "image/png": "[encoded data removed]",
      "text/plain": [
       "<Figure size 640x480 with 1 Axes>"
      ]
     },
     "metadata": {},
     "output_type": "display_data"
    }
   ],
   "source": [
    "plt.plot(day_new,scaler.inverse_transform(df1[1141:]))\n",
    "plt.plot(day_pred,scaler.inverse_transform(lst_output))"
   ]
  },
  {
   "cell_type": "code",
   "execution_count": 54,
   "id": "1b7e60f1",
   "metadata": {},
   "outputs": [
    {
     "data": {
      "text/plain": [
       "[<matplotlib.lines.Line2D at 0x304abecd0>]"
      ]
     },
     "execution_count": 54,
     "metadata": {},
     "output_type": "execute_result"
    },
    {
     "data": {
      "image/png": "[encoded data removed]",
      "text/plain": [
       "<Figure size 640x480 with 1 Axes>"
      ]
     },
     "metadata": {},
     "output_type": "display_data"
    }
   ],
   "source": [
    "df3=df1.tolist()\n",
    "df3.extend(lst_output)\n",
    "plt.plot(df3[1211:])"
   ]
  },
  {
   "cell_type": "code",
   "execution_count": 55,
   "id": "96b1e44e",
   "metadata": {},
   "outputs": [],
   "source": [
    "df3=scaler.inverse_transform(df3)"
   ]
  },
  {
   "cell_type": "code",
   "execution_count": 56,
   "id": "0a0ddfba",
   "metadata": {},
   "outputs": [
    {
     "data": {
      "text/plain": [
       "[<matplotlib.lines.Line2D at 0x30928c190>]"
      ]
     },
     "execution_count": 56,
     "metadata": {},
     "output_type": "execute_result"
    },
    {
     "data": {
      "image/png": "[encoded data removed]",
      "text/plain": [
       "<Figure size 640x480 with 1 Axes>"
      ]
     },
     "metadata": {},
     "output_type": "display_data"
    }
   ],
   "source": [
    "type(df3)\n",
    "plt.plot(df1)"
   ]
  },
  {
   "cell_type": "code",
   "execution_count": 57,
   "id": "6526b50d",
   "metadata": {},
   "outputs": [
    {
     "data": {
      "text/html": [
       "<div>\n",
       "<style scoped>\n",
       "    .dataframe tbody tr th:only-of-type {\n",
       "        vertical-align: middle;\n",
       "    }\n",
       "\n",
       "    .dataframe tbody tr th {\n",
       "        vertical-align: top;\n",
       "    }\n",
       "\n",
       "    .dataframe thead th {\n",
       "        text-align: right;\n",
       "    }\n",
       "</style>\n",
       "<table border=\"1\" class=\"dataframe\">\n",
       "  <thead>\n",
       "    <tr style=\"text-align: right;\">\n",
       "      <th></th>\n",
       "      <th>Date</th>\n",
       "      <th>Open</th>\n",
       "      <th>High</th>\n",
       "      <th>Low</th>\n",
       "      <th>Close</th>\n",
       "    </tr>\n",
       "  </thead>\n",
       "  <tbody>\n",
       "    <tr>\n",
       "      <th>1236</th>\n",
       "      <td>24-May-24</td>\n",
       "      <td>75335.45</td>\n",
       "      <td>75636.50</td>\n",
       "      <td>75244.22</td>\n",
       "      <td>75410.39</td>\n",
       "    </tr>\n",
       "    <tr>\n",
       "      <th>1237</th>\n",
       "      <td>27-May-24</td>\n",
       "      <td>75655.46</td>\n",
       "      <td>76009.68</td>\n",
       "      <td>75175.27</td>\n",
       "      <td>75390.50</td>\n",
       "    </tr>\n",
       "    <tr>\n",
       "      <th>1238</th>\n",
       "      <td>28-May-24</td>\n",
       "      <td>75585.40</td>\n",
       "      <td>75585.40</td>\n",
       "      <td>75083.22</td>\n",
       "      <td>75170.45</td>\n",
       "    </tr>\n",
       "    <tr>\n",
       "      <th>1239</th>\n",
       "      <td>29-May-24</td>\n",
       "      <td>74826.94</td>\n",
       "      <td>74986.22</td>\n",
       "      <td>74454.55</td>\n",
       "      <td>74502.90</td>\n",
       "    </tr>\n",
       "    <tr>\n",
       "      <th>1240</th>\n",
       "      <td>30-May-24</td>\n",
       "      <td>74365.88</td>\n",
       "      <td>74493.55</td>\n",
       "      <td>73668.73</td>\n",
       "      <td>73885.60</td>\n",
       "    </tr>\n",
       "  </tbody>\n",
       "</table>\n",
       "</div>"
      ],
      "text/plain": [
       "           Date      Open      High       Low     Close\n",
       "1236  24-May-24  75335.45  75636.50  75244.22  75410.39\n",
       "1237  27-May-24  75655.46  76009.68  75175.27  75390.50\n",
       "1238  28-May-24  75585.40  75585.40  75083.22  75170.45\n",
       "1239  29-May-24  74826.94  74986.22  74454.55  74502.90\n",
       "1240  30-May-24  74365.88  74493.55  73668.73  73885.60"
      ]
     },
     "execution_count": 57,
     "metadata": {},
     "output_type": "execute_result"
    }
   ],
   "source": [
    "df.tail()"
   ]
  },
  {
   "cell_type": "code",
   "execution_count": 58,
   "id": "e0e9c969",
   "metadata": {},
   "outputs": [
    {
     "data": {
      "text/plain": [
       "1271"
      ]
     },
     "execution_count": 58,
     "metadata": {},
     "output_type": "execute_result"
    }
   ],
   "source": [
    "len(df3)"
   ]
  },
  {
   "cell_type": "markdown",
   "id": "00d4dba3",
   "metadata": {},
   "source": [
    "predicted closed(stock) value of  31 May"
   ]
  },
  {
   "cell_type": "code",
   "execution_count": 59,
   "id": "233141df",
   "metadata": {},
   "outputs": [
    {
     "data": {
      "text/plain": [
       "array([72549.80842365])"
      ]
     },
     "execution_count": 59,
     "metadata": {},
     "output_type": "execute_result"
    }
   ],
   "source": [
    "df3[1241]"
   ]
  },
  {
   "cell_type": "markdown",
   "id": "aae7cd2c",
   "metadata": {},
   "source": [
    "actual closed(stock) value of 31 May is 73961"
   ]
  },
  {
   "cell_type": "markdown",
   "id": "27fda543",
   "metadata": {},
   "source": [
    "percentage error"
   ]
  },
  {
   "cell_type": "code",
   "execution_count": 61,
   "id": "58af4f30",
   "metadata": {},
   "outputs": [
    {
     "data": {
      "text/plain": [
       "-1.908032611781881"
      ]
     },
     "execution_count": 61,
     "metadata": {},
     "output_type": "execute_result"
    }
   ],
   "source": [
    "((72549.80-73961)/73961)*100"
   ]
  },
  {
   "cell_type": "code",
   "execution_count": null,
   "id": "0cd9bda7",
   "metadata": {},
   "outputs": [],
   "source": []
  }
 ],
 "metadata": {
  "kernelspec": {
   "display_name": "Python 3 (ipykernel)",
   "language": "python",
   "name": "python3"
  },
  "language_info": {
   "codemirror_mode": {
    "name": "ipython",
    "version": 3
   },
   "file_extension": ".py",
   "mimetype": "text/x-python",
   "name": "python",
   "nbconvert_exporter": "python",
   "pygments_lexer": "ipython3",
   "version": "3.11.5"
  }
 },
 "nbformat": 4,
 "nbformat_minor": 5
}
