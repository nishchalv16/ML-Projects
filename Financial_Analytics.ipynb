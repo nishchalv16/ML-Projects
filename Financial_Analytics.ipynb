{
 "cells": [
  {
   "cell_type": "code",
   "execution_count": 280,
   "metadata": {},
   "outputs": [],
   "source": [
    "import pandas as pd\n",
    "import numpy as np\n",
    "import matplotlib.pyplot as plt\n",
    "%matplotlib inline"
   ]
  },
  {
   "cell_type": "code",
   "execution_count": 281,
   "metadata": {},
   "outputs": [],
   "source": [
    "data = pd.read_excel(\"manipulator_data.xlsx\")\n",
    "test = pd.read_excel(\"test_data.xlsx\")"
   ]
  },
  {
   "cell_type": "code",
   "execution_count": 282,
   "metadata": {},
   "outputs": [
    {
     "data": {
      "text/html": [
       "<div>\n",
       "<style scoped>\n",
       "    .dataframe tbody tr th:only-of-type {\n",
       "        vertical-align: middle;\n",
       "    }\n",
       "\n",
       "    .dataframe tbody tr th {\n",
       "        vertical-align: top;\n",
       "    }\n",
       "\n",
       "    .dataframe thead th {\n",
       "        text-align: right;\n",
       "    }\n",
       "</style>\n",
       "<table border=\"1\" class=\"dataframe\">\n",
       "  <thead>\n",
       "    <tr style=\"text-align: right;\">\n",
       "      <th></th>\n",
       "      <th>Company ID</th>\n",
       "      <th>DSRI</th>\n",
       "      <th>GMI</th>\n",
       "      <th>AQI</th>\n",
       "      <th>SGI</th>\n",
       "      <th>DEPI</th>\n",
       "      <th>SGAI</th>\n",
       "      <th>ACCR</th>\n",
       "      <th>LEVI</th>\n",
       "      <th>Manipulater</th>\n",
       "      <th>C-MANIPULATOR</th>\n",
       "    </tr>\n",
       "  </thead>\n",
       "  <tbody>\n",
       "    <tr>\n",
       "      <th>0</th>\n",
       "      <td>1</td>\n",
       "      <td>1.624742</td>\n",
       "      <td>1.128927</td>\n",
       "      <td>7.185053</td>\n",
       "      <td>0.366211</td>\n",
       "      <td>1.381519</td>\n",
       "      <td>1.624145</td>\n",
       "      <td>-0.166809</td>\n",
       "      <td>1.161082</td>\n",
       "      <td>Yes</td>\n",
       "      <td>1</td>\n",
       "    </tr>\n",
       "    <tr>\n",
       "      <th>1</th>\n",
       "      <td>2</td>\n",
       "      <td>1.000000</td>\n",
       "      <td>1.606492</td>\n",
       "      <td>1.004988</td>\n",
       "      <td>13.081433</td>\n",
       "      <td>0.400000</td>\n",
       "      <td>5.198207</td>\n",
       "      <td>0.060475</td>\n",
       "      <td>0.986732</td>\n",
       "      <td>Yes</td>\n",
       "      <td>1</td>\n",
       "    </tr>\n",
       "    <tr>\n",
       "      <th>2</th>\n",
       "      <td>3</td>\n",
       "      <td>1.000000</td>\n",
       "      <td>1.015607</td>\n",
       "      <td>1.241389</td>\n",
       "      <td>1.475018</td>\n",
       "      <td>1.169353</td>\n",
       "      <td>0.647671</td>\n",
       "      <td>0.036732</td>\n",
       "      <td>1.264305</td>\n",
       "      <td>Yes</td>\n",
       "      <td>1</td>\n",
       "    </tr>\n",
       "    <tr>\n",
       "      <th>3</th>\n",
       "      <td>4</td>\n",
       "      <td>1.486239</td>\n",
       "      <td>1.000000</td>\n",
       "      <td>0.465535</td>\n",
       "      <td>0.672840</td>\n",
       "      <td>2.000000</td>\n",
       "      <td>0.092890</td>\n",
       "      <td>0.273434</td>\n",
       "      <td>0.680975</td>\n",
       "      <td>Yes</td>\n",
       "      <td>1</td>\n",
       "    </tr>\n",
       "    <tr>\n",
       "      <th>4</th>\n",
       "      <td>5</td>\n",
       "      <td>1.000000</td>\n",
       "      <td>1.369038</td>\n",
       "      <td>0.637112</td>\n",
       "      <td>0.861346</td>\n",
       "      <td>1.454676</td>\n",
       "      <td>1.741460</td>\n",
       "      <td>0.123048</td>\n",
       "      <td>0.939047</td>\n",
       "      <td>Yes</td>\n",
       "      <td>1</td>\n",
       "    </tr>\n",
       "    <tr>\n",
       "      <th>...</th>\n",
       "      <td>...</td>\n",
       "      <td>...</td>\n",
       "      <td>...</td>\n",
       "      <td>...</td>\n",
       "      <td>...</td>\n",
       "      <td>...</td>\n",
       "      <td>...</td>\n",
       "      <td>...</td>\n",
       "      <td>...</td>\n",
       "      <td>...</td>\n",
       "      <td>...</td>\n",
       "    </tr>\n",
       "    <tr>\n",
       "      <th>1234</th>\n",
       "      <td>1235</td>\n",
       "      <td>0.893794</td>\n",
       "      <td>1.009273</td>\n",
       "      <td>1.121404</td>\n",
       "      <td>0.775386</td>\n",
       "      <td>1.035547</td>\n",
       "      <td>1.467146</td>\n",
       "      <td>-0.139215</td>\n",
       "      <td>0.947127</td>\n",
       "      <td>No</td>\n",
       "      <td>0</td>\n",
       "    </tr>\n",
       "    <tr>\n",
       "      <th>1235</th>\n",
       "      <td>1236</td>\n",
       "      <td>1.610841</td>\n",
       "      <td>1.000000</td>\n",
       "      <td>0.672489</td>\n",
       "      <td>3.320315</td>\n",
       "      <td>0.743969</td>\n",
       "      <td>0.968648</td>\n",
       "      <td>-0.028570</td>\n",
       "      <td>2.052802</td>\n",
       "      <td>No</td>\n",
       "      <td>0</td>\n",
       "    </tr>\n",
       "    <tr>\n",
       "      <th>1236</th>\n",
       "      <td>1237</td>\n",
       "      <td>0.711823</td>\n",
       "      <td>0.938368</td>\n",
       "      <td>1.045118</td>\n",
       "      <td>1.057345</td>\n",
       "      <td>1.274005</td>\n",
       "      <td>0.634451</td>\n",
       "      <td>-0.174759</td>\n",
       "      <td>0.782268</td>\n",
       "      <td>No</td>\n",
       "      <td>0</td>\n",
       "    </tr>\n",
       "    <tr>\n",
       "      <th>1237</th>\n",
       "      <td>1238</td>\n",
       "      <td>0.870641</td>\n",
       "      <td>1.035855</td>\n",
       "      <td>1.447722</td>\n",
       "      <td>1.202783</td>\n",
       "      <td>1.101233</td>\n",
       "      <td>1.010935</td>\n",
       "      <td>-0.061474</td>\n",
       "      <td>0.906750</td>\n",
       "      <td>No</td>\n",
       "      <td>0</td>\n",
       "    </tr>\n",
       "    <tr>\n",
       "      <th>1238</th>\n",
       "      <td>1239</td>\n",
       "      <td>1.642376</td>\n",
       "      <td>1.000000</td>\n",
       "      <td>0.884185</td>\n",
       "      <td>0.904431</td>\n",
       "      <td>0.940441</td>\n",
       "      <td>1.019431</td>\n",
       "      <td>-0.011317</td>\n",
       "      <td>0.873445</td>\n",
       "      <td>No</td>\n",
       "      <td>0</td>\n",
       "    </tr>\n",
       "  </tbody>\n",
       "</table>\n",
       "<p>1239 rows × 11 columns</p>\n",
       "</div>"
      ],
      "text/plain": [
       "      Company ID      DSRI       GMI       AQI        SGI      DEPI      SGAI  \\\n",
       "0              1  1.624742  1.128927  7.185053   0.366211  1.381519  1.624145   \n",
       "1              2  1.000000  1.606492  1.004988  13.081433  0.400000  5.198207   \n",
       "2              3  1.000000  1.015607  1.241389   1.475018  1.169353  0.647671   \n",
       "3              4  1.486239  1.000000  0.465535   0.672840  2.000000  0.092890   \n",
       "4              5  1.000000  1.369038  0.637112   0.861346  1.454676  1.741460   \n",
       "...          ...       ...       ...       ...        ...       ...       ...   \n",
       "1234        1235  0.893794  1.009273  1.121404   0.775386  1.035547  1.467146   \n",
       "1235        1236  1.610841  1.000000  0.672489   3.320315  0.743969  0.968648   \n",
       "1236        1237  0.711823  0.938368  1.045118   1.057345  1.274005  0.634451   \n",
       "1237        1238  0.870641  1.035855  1.447722   1.202783  1.101233  1.010935   \n",
       "1238        1239  1.642376  1.000000  0.884185   0.904431  0.940441  1.019431   \n",
       "\n",
       "          ACCR      LEVI Manipulater  C-MANIPULATOR  \n",
       "0    -0.166809  1.161082         Yes              1  \n",
       "1     0.060475  0.986732         Yes              1  \n",
       "2     0.036732  1.264305         Yes              1  \n",
       "3     0.273434  0.680975         Yes              1  \n",
       "4     0.123048  0.939047         Yes              1  \n",
       "...        ...       ...         ...            ...  \n",
       "1234 -0.139215  0.947127          No              0  \n",
       "1235 -0.028570  2.052802          No              0  \n",
       "1236 -0.174759  0.782268          No              0  \n",
       "1237 -0.061474  0.906750          No              0  \n",
       "1238 -0.011317  0.873445          No              0  \n",
       "\n",
       "[1239 rows x 11 columns]"
      ]
     },
     "execution_count": 282,
     "metadata": {},
     "output_type": "execute_result"
    }
   ],
   "source": [
    "data"
   ]
  },
  {
   "cell_type": "code",
   "execution_count": 283,
   "metadata": {},
   "outputs": [],
   "source": [
    "data.drop(labels=[\"Manipulater\",\"Company ID\"],axis=1,inplace=True)"
   ]
  },
  {
   "cell_type": "markdown",
   "metadata": {},
   "source": [
    "#### Importing required libraries"
   ]
  },
  {
   "cell_type": "code",
   "execution_count": 284,
   "metadata": {},
   "outputs": [
    {
     "data": {
      "text/html": [
       "<div>\n",
       "<style scoped>\n",
       "    .dataframe tbody tr th:only-of-type {\n",
       "        vertical-align: middle;\n",
       "    }\n",
       "\n",
       "    .dataframe tbody tr th {\n",
       "        vertical-align: top;\n",
       "    }\n",
       "\n",
       "    .dataframe thead th {\n",
       "        text-align: right;\n",
       "    }\n",
       "</style>\n",
       "<table border=\"1\" class=\"dataframe\">\n",
       "  <thead>\n",
       "    <tr style=\"text-align: right;\">\n",
       "      <th></th>\n",
       "      <th>DSRI</th>\n",
       "      <th>GMI</th>\n",
       "      <th>AQI</th>\n",
       "      <th>SGI</th>\n",
       "      <th>DEPI</th>\n",
       "      <th>SGAI</th>\n",
       "      <th>ACCR</th>\n",
       "      <th>LEVI</th>\n",
       "      <th>C-MANIPULATOR</th>\n",
       "    </tr>\n",
       "  </thead>\n",
       "  <tbody>\n",
       "    <tr>\n",
       "      <th>0</th>\n",
       "      <td>1.624742</td>\n",
       "      <td>1.128927</td>\n",
       "      <td>7.185053</td>\n",
       "      <td>0.366211</td>\n",
       "      <td>1.381519</td>\n",
       "      <td>1.624145</td>\n",
       "      <td>-0.166809</td>\n",
       "      <td>1.161082</td>\n",
       "      <td>1</td>\n",
       "    </tr>\n",
       "    <tr>\n",
       "      <th>1</th>\n",
       "      <td>1.000000</td>\n",
       "      <td>1.606492</td>\n",
       "      <td>1.004988</td>\n",
       "      <td>13.081433</td>\n",
       "      <td>0.400000</td>\n",
       "      <td>5.198207</td>\n",
       "      <td>0.060475</td>\n",
       "      <td>0.986732</td>\n",
       "      <td>1</td>\n",
       "    </tr>\n",
       "    <tr>\n",
       "      <th>2</th>\n",
       "      <td>1.000000</td>\n",
       "      <td>1.015607</td>\n",
       "      <td>1.241389</td>\n",
       "      <td>1.475018</td>\n",
       "      <td>1.169353</td>\n",
       "      <td>0.647671</td>\n",
       "      <td>0.036732</td>\n",
       "      <td>1.264305</td>\n",
       "      <td>1</td>\n",
       "    </tr>\n",
       "    <tr>\n",
       "      <th>3</th>\n",
       "      <td>1.486239</td>\n",
       "      <td>1.000000</td>\n",
       "      <td>0.465535</td>\n",
       "      <td>0.672840</td>\n",
       "      <td>2.000000</td>\n",
       "      <td>0.092890</td>\n",
       "      <td>0.273434</td>\n",
       "      <td>0.680975</td>\n",
       "      <td>1</td>\n",
       "    </tr>\n",
       "    <tr>\n",
       "      <th>4</th>\n",
       "      <td>1.000000</td>\n",
       "      <td>1.369038</td>\n",
       "      <td>0.637112</td>\n",
       "      <td>0.861346</td>\n",
       "      <td>1.454676</td>\n",
       "      <td>1.741460</td>\n",
       "      <td>0.123048</td>\n",
       "      <td>0.939047</td>\n",
       "      <td>1</td>\n",
       "    </tr>\n",
       "    <tr>\n",
       "      <th>...</th>\n",
       "      <td>...</td>\n",
       "      <td>...</td>\n",
       "      <td>...</td>\n",
       "      <td>...</td>\n",
       "      <td>...</td>\n",
       "      <td>...</td>\n",
       "      <td>...</td>\n",
       "      <td>...</td>\n",
       "      <td>...</td>\n",
       "    </tr>\n",
       "    <tr>\n",
       "      <th>1234</th>\n",
       "      <td>0.893794</td>\n",
       "      <td>1.009273</td>\n",
       "      <td>1.121404</td>\n",
       "      <td>0.775386</td>\n",
       "      <td>1.035547</td>\n",
       "      <td>1.467146</td>\n",
       "      <td>-0.139215</td>\n",
       "      <td>0.947127</td>\n",
       "      <td>0</td>\n",
       "    </tr>\n",
       "    <tr>\n",
       "      <th>1235</th>\n",
       "      <td>1.610841</td>\n",
       "      <td>1.000000</td>\n",
       "      <td>0.672489</td>\n",
       "      <td>3.320315</td>\n",
       "      <td>0.743969</td>\n",
       "      <td>0.968648</td>\n",
       "      <td>-0.028570</td>\n",
       "      <td>2.052802</td>\n",
       "      <td>0</td>\n",
       "    </tr>\n",
       "    <tr>\n",
       "      <th>1236</th>\n",
       "      <td>0.711823</td>\n",
       "      <td>0.938368</td>\n",
       "      <td>1.045118</td>\n",
       "      <td>1.057345</td>\n",
       "      <td>1.274005</td>\n",
       "      <td>0.634451</td>\n",
       "      <td>-0.174759</td>\n",
       "      <td>0.782268</td>\n",
       "      <td>0</td>\n",
       "    </tr>\n",
       "    <tr>\n",
       "      <th>1237</th>\n",
       "      <td>0.870641</td>\n",
       "      <td>1.035855</td>\n",
       "      <td>1.447722</td>\n",
       "      <td>1.202783</td>\n",
       "      <td>1.101233</td>\n",
       "      <td>1.010935</td>\n",
       "      <td>-0.061474</td>\n",
       "      <td>0.906750</td>\n",
       "      <td>0</td>\n",
       "    </tr>\n",
       "    <tr>\n",
       "      <th>1238</th>\n",
       "      <td>1.642376</td>\n",
       "      <td>1.000000</td>\n",
       "      <td>0.884185</td>\n",
       "      <td>0.904431</td>\n",
       "      <td>0.940441</td>\n",
       "      <td>1.019431</td>\n",
       "      <td>-0.011317</td>\n",
       "      <td>0.873445</td>\n",
       "      <td>0</td>\n",
       "    </tr>\n",
       "  </tbody>\n",
       "</table>\n",
       "<p>1239 rows × 9 columns</p>\n",
       "</div>"
      ],
      "text/plain": [
       "          DSRI       GMI       AQI        SGI      DEPI      SGAI      ACCR  \\\n",
       "0     1.624742  1.128927  7.185053   0.366211  1.381519  1.624145 -0.166809   \n",
       "1     1.000000  1.606492  1.004988  13.081433  0.400000  5.198207  0.060475   \n",
       "2     1.000000  1.015607  1.241389   1.475018  1.169353  0.647671  0.036732   \n",
       "3     1.486239  1.000000  0.465535   0.672840  2.000000  0.092890  0.273434   \n",
       "4     1.000000  1.369038  0.637112   0.861346  1.454676  1.741460  0.123048   \n",
       "...        ...       ...       ...        ...       ...       ...       ...   \n",
       "1234  0.893794  1.009273  1.121404   0.775386  1.035547  1.467146 -0.139215   \n",
       "1235  1.610841  1.000000  0.672489   3.320315  0.743969  0.968648 -0.028570   \n",
       "1236  0.711823  0.938368  1.045118   1.057345  1.274005  0.634451 -0.174759   \n",
       "1237  0.870641  1.035855  1.447722   1.202783  1.101233  1.010935 -0.061474   \n",
       "1238  1.642376  1.000000  0.884185   0.904431  0.940441  1.019431 -0.011317   \n",
       "\n",
       "          LEVI  C-MANIPULATOR  \n",
       "0     1.161082              1  \n",
       "1     0.986732              1  \n",
       "2     1.264305              1  \n",
       "3     0.680975              1  \n",
       "4     0.939047              1  \n",
       "...        ...            ...  \n",
       "1234  0.947127              0  \n",
       "1235  2.052802              0  \n",
       "1236  0.782268              0  \n",
       "1237  0.906750              0  \n",
       "1238  0.873445              0  \n",
       "\n",
       "[1239 rows x 9 columns]"
      ]
     },
     "execution_count": 284,
     "metadata": {},
     "output_type": "execute_result"
    }
   ],
   "source": [
    "data"
   ]
  },
  {
   "cell_type": "code",
   "execution_count": null,
   "metadata": {},
   "outputs": [],
   "source": []
  },
  {
   "cell_type": "code",
   "execution_count": 285,
   "metadata": {},
   "outputs": [],
   "source": [
    "#Since the data is imbalanced, Up sampling will solve the problem\n",
    "from sklearn.model_selection import train_test_split\n",
    "from sklearn.utils import resample\n"
   ]
  },
  {
   "cell_type": "code",
   "execution_count": 286,
   "metadata": {},
   "outputs": [],
   "source": [
    "# Separate majority and minority classes\n",
    "majorty = data[data[\"C-MANIPULATOR\"]==0]\n",
    "minorty = data[data[\"C-MANIPULATOR\"]==1]\n",
    " \n",
    "# Upsample minority class\n",
    "minorty_upsampled = resample(minorty, \n",
    "                                 replace=True,     # sample with replacement\n",
    "                                 n_samples=1200,    # to match majority class\n",
    "                                 random_state=42) # reproducible results\n",
    " \n",
    "# Combine majority class with upsampled minority class\n",
    "data_upsampled = pd.concat([majorty, minorty_upsampled])\n",
    " "
   ]
  },
  {
   "cell_type": "code",
   "execution_count": 287,
   "metadata": {},
   "outputs": [
    {
     "data": {
      "text/plain": [
       "1    1200\n",
       "0    1200\n",
       "Name: C-MANIPULATOR, dtype: int64"
      ]
     },
     "execution_count": 287,
     "metadata": {},
     "output_type": "execute_result"
    }
   ],
   "source": [
    "# Display new class counts\n",
    "data_upsampled[\"C-MANIPULATOR\"].value_counts()\n",
    "# 1    576\n",
    "# 0    576\n",
    "# Name: balance, dtype: int64"
   ]
  },
  {
   "cell_type": "code",
   "execution_count": 288,
   "metadata": {
    "scrolled": true
   },
   "outputs": [
    {
     "data": {
      "image/png": "[encoded data removed]",
      "text/plain": [
       "<Figure size 432x288 with 1 Axes>"
      ]
     },
     "metadata": {
      "needs_background": "light"
     },
     "output_type": "display_data"
    }
   ],
   "source": [
    "data_upsampled[\"C-MANIPULATOR\"].hist()\n",
    "plt.show()"
   ]
  },
  {
   "cell_type": "code",
   "execution_count": 289,
   "metadata": {
    "scrolled": false
   },
   "outputs": [
    {
     "data": {
      "text/html": [
       "<div>\n",
       "<style scoped>\n",
       "    .dataframe tbody tr th:only-of-type {\n",
       "        vertical-align: middle;\n",
       "    }\n",
       "\n",
       "    .dataframe tbody tr th {\n",
       "        vertical-align: top;\n",
       "    }\n",
       "\n",
       "    .dataframe thead th {\n",
       "        text-align: right;\n",
       "    }\n",
       "</style>\n",
       "<table border=\"1\" class=\"dataframe\">\n",
       "  <thead>\n",
       "    <tr style=\"text-align: right;\">\n",
       "      <th></th>\n",
       "      <th>DSRI</th>\n",
       "      <th>GMI</th>\n",
       "      <th>AQI</th>\n",
       "      <th>SGI</th>\n",
       "      <th>DEPI</th>\n",
       "      <th>SGAI</th>\n",
       "      <th>ACCR</th>\n",
       "      <th>LEVI</th>\n",
       "      <th>C-MANIPULATOR</th>\n",
       "    </tr>\n",
       "  </thead>\n",
       "  <tbody>\n",
       "    <tr>\n",
       "      <th>38</th>\n",
       "      <td>1.000000</td>\n",
       "      <td>0.910133</td>\n",
       "      <td>0.977251</td>\n",
       "      <td>1.578685</td>\n",
       "      <td>1.062822</td>\n",
       "      <td>0.979850</td>\n",
       "      <td>0.156851</td>\n",
       "      <td>0.744895</td>\n",
       "      <td>1</td>\n",
       "    </tr>\n",
       "    <tr>\n",
       "      <th>34</th>\n",
       "      <td>1.000000</td>\n",
       "      <td>1.000000</td>\n",
       "      <td>1.086281</td>\n",
       "      <td>4.527020</td>\n",
       "      <td>0.531541</td>\n",
       "      <td>2.240098</td>\n",
       "      <td>0.087842</td>\n",
       "      <td>8.563866</td>\n",
       "      <td>1</td>\n",
       "    </tr>\n",
       "    <tr>\n",
       "      <th>2</th>\n",
       "      <td>1.000000</td>\n",
       "      <td>1.015607</td>\n",
       "      <td>1.241389</td>\n",
       "      <td>1.475018</td>\n",
       "      <td>1.169353</td>\n",
       "      <td>0.647671</td>\n",
       "      <td>0.036732</td>\n",
       "      <td>1.264305</td>\n",
       "      <td>1</td>\n",
       "    </tr>\n",
       "    <tr>\n",
       "      <th>36</th>\n",
       "      <td>1.427451</td>\n",
       "      <td>1.005147</td>\n",
       "      <td>0.465712</td>\n",
       "      <td>1.569888</td>\n",
       "      <td>0.906374</td>\n",
       "      <td>0.849488</td>\n",
       "      <td>0.197597</td>\n",
       "      <td>0.842004</td>\n",
       "      <td>1</td>\n",
       "    </tr>\n",
       "    <tr>\n",
       "      <th>29</th>\n",
       "      <td>36.291185</td>\n",
       "      <td>-0.515328</td>\n",
       "      <td>1.014408</td>\n",
       "      <td>0.027685</td>\n",
       "      <td>1.142857</td>\n",
       "      <td>11.794286</td>\n",
       "      <td>-0.020011</td>\n",
       "      <td>1.027593</td>\n",
       "      <td>1</td>\n",
       "    </tr>\n",
       "    <tr>\n",
       "      <th>37</th>\n",
       "      <td>3.753597</td>\n",
       "      <td>3.101434</td>\n",
       "      <td>1.163566</td>\n",
       "      <td>0.847958</td>\n",
       "      <td>1.002885</td>\n",
       "      <td>0.276007</td>\n",
       "      <td>-0.592258</td>\n",
       "      <td>1.070585</td>\n",
       "      <td>1</td>\n",
       "    </tr>\n",
       "    <tr>\n",
       "      <th>33</th>\n",
       "      <td>1.000000</td>\n",
       "      <td>1.000000</td>\n",
       "      <td>0.408386</td>\n",
       "      <td>1.000000</td>\n",
       "      <td>1.000000</td>\n",
       "      <td>1.000000</td>\n",
       "      <td>0.387133</td>\n",
       "      <td>0.358269</td>\n",
       "      <td>1</td>\n",
       "    </tr>\n",
       "    <tr>\n",
       "      <th>11</th>\n",
       "      <td>1.448389</td>\n",
       "      <td>0.795671</td>\n",
       "      <td>4.001688</td>\n",
       "      <td>1.067377</td>\n",
       "      <td>1.085547</td>\n",
       "      <td>3.734491</td>\n",
       "      <td>0.090458</td>\n",
       "      <td>0.222090</td>\n",
       "      <td>1</td>\n",
       "    </tr>\n",
       "    <tr>\n",
       "      <th>18</th>\n",
       "      <td>0.615328</td>\n",
       "      <td>0.859324</td>\n",
       "      <td>0.899378</td>\n",
       "      <td>1.716066</td>\n",
       "      <td>0.942606</td>\n",
       "      <td>1.566082</td>\n",
       "      <td>0.132832</td>\n",
       "      <td>0.138589</td>\n",
       "      <td>1</td>\n",
       "    </tr>\n",
       "    <tr>\n",
       "      <th>36</th>\n",
       "      <td>1.427451</td>\n",
       "      <td>1.005147</td>\n",
       "      <td>0.465712</td>\n",
       "      <td>1.569888</td>\n",
       "      <td>0.906374</td>\n",
       "      <td>0.849488</td>\n",
       "      <td>0.197597</td>\n",
       "      <td>0.842004</td>\n",
       "      <td>1</td>\n",
       "    </tr>\n",
       "  </tbody>\n",
       "</table>\n",
       "</div>"
      ],
      "text/plain": [
       "         DSRI       GMI       AQI       SGI      DEPI       SGAI      ACCR  \\\n",
       "38   1.000000  0.910133  0.977251  1.578685  1.062822   0.979850  0.156851   \n",
       "34   1.000000  1.000000  1.086281  4.527020  0.531541   2.240098  0.087842   \n",
       "2    1.000000  1.015607  1.241389  1.475018  1.169353   0.647671  0.036732   \n",
       "36   1.427451  1.005147  0.465712  1.569888  0.906374   0.849488  0.197597   \n",
       "29  36.291185 -0.515328  1.014408  0.027685  1.142857  11.794286 -0.020011   \n",
       "37   3.753597  3.101434  1.163566  0.847958  1.002885   0.276007 -0.592258   \n",
       "33   1.000000  1.000000  0.408386  1.000000  1.000000   1.000000  0.387133   \n",
       "11   1.448389  0.795671  4.001688  1.067377  1.085547   3.734491  0.090458   \n",
       "18   0.615328  0.859324  0.899378  1.716066  0.942606   1.566082  0.132832   \n",
       "36   1.427451  1.005147  0.465712  1.569888  0.906374   0.849488  0.197597   \n",
       "\n",
       "        LEVI  C-MANIPULATOR  \n",
       "38  0.744895              1  \n",
       "34  8.563866              1  \n",
       "2   1.264305              1  \n",
       "36  0.842004              1  \n",
       "29  1.027593              1  \n",
       "37  1.070585              1  \n",
       "33  0.358269              1  \n",
       "11  0.222090              1  \n",
       "18  0.138589              1  \n",
       "36  0.842004              1  "
      ]
     },
     "execution_count": 289,
     "metadata": {},
     "output_type": "execute_result"
    }
   ],
   "source": [
    "data_upsampled.tail(10)"
   ]
  },
  {
   "cell_type": "code",
   "execution_count": 290,
   "metadata": {},
   "outputs": [],
   "source": [
    "x_train,x_test,y_train,y_test = train_test_split(data_upsampled.drop(labels=[\"C-MANIPULATOR\"],axis=1),\n",
    "                                                 data_upsampled[\"C-MANIPULATOR\"],test_size=0.25,random_state=42)"
   ]
  },
  {
   "cell_type": "code",
   "execution_count": 291,
   "metadata": {},
   "outputs": [
    {
     "name": "stdout",
     "output_type": "stream",
     "text": [
      "Length of Train Predictors 1800 and Target 1800\n",
      "Length of Test Predictors 600 and Target 600\n"
     ]
    }
   ],
   "source": [
    "print(\"Length of Train Predictors {} and Target {}\".format(len(x_train),len(y_train)))\n",
    "print(\"Length of Test Predictors {} and Target {}\".format(len(x_test),len(y_test)))"
   ]
  },
  {
   "cell_type": "code",
   "execution_count": 82,
   "metadata": {},
   "outputs": [],
   "source": [
    "#from sklearn.preprocessing import StandardScaler\n",
    "#scaler = StandardScaler()\n",
    "\n",
    "#x_train_scaled = scaler.fit_transform(x_train)\n",
    "#x_test_scaled = scaler.fit_transform(x_test)"
   ]
  },
  {
   "cell_type": "code",
   "execution_count": null,
   "metadata": {
    "scrolled": true
   },
   "outputs": [],
   "source": [
    "#for x in pd.DataFrame(x_train_scaled).columns:\n",
    "    #print(\"Plotting index VS {}\".format(data.columns[x]))\n",
    "    #plotscatter(range(0,len(x_train_scaled)),pd.DataFrame(x_train_scaled).iloc[:,x])"
   ]
  },
  {
   "cell_type": "code",
   "execution_count": null,
   "metadata": {},
   "outputs": [],
   "source": []
  },
  {
   "cell_type": "markdown",
   "metadata": {},
   "source": [
    "## 1. Decision Tree\n",
    "- Decision Trees (DTs) are a non-parametric supervised learning method used for classification and regression. "
   ]
  },
  {
   "cell_type": "code",
   "execution_count": 292,
   "metadata": {},
   "outputs": [],
   "source": [
    "from sklearn.model_selection import GridSearchCV"
   ]
  },
  {
   "cell_type": "code",
   "execution_count": 293,
   "metadata": {},
   "outputs": [],
   "source": [
    "from sklearn.tree import DecisionTreeClassifier"
   ]
  },
  {
   "cell_type": "code",
   "execution_count": 294,
   "metadata": {},
   "outputs": [],
   "source": [
    "hyperparameter_1 = {\"max_depth\":[5,6,7],\n",
    "                   \"criterion\":[\"gini\",\"entropy\"],\n",
    "                   \"max_features\":[\"auto\", \"sqrt\", \"log2\"]}"
   ]
  },
  {
   "cell_type": "code",
   "execution_count": 295,
   "metadata": {},
   "outputs": [],
   "source": [
    "Desclf = DecisionTreeClassifier()"
   ]
  },
  {
   "cell_type": "code",
   "execution_count": 297,
   "metadata": {},
   "outputs": [],
   "source": [
    "clf01 = GridSearchCV(Desclf,hyperparameter_1,cv=10)"
   ]
  },
  {
   "cell_type": "code",
   "execution_count": 298,
   "metadata": {},
   "outputs": [
    {
     "data": {
      "text/plain": [
       "GridSearchCV(cv=10, estimator=DecisionTreeClassifier(),\n",
       "             param_grid={'criterion': ['gini', 'entropy'],\n",
       "                         'max_depth': [5, 6, 7],\n",
       "                         'max_features': ['auto', 'sqrt', 'log2']})"
      ]
     },
     "execution_count": 298,
     "metadata": {},
     "output_type": "execute_result"
    }
   ],
   "source": [
    "clf01.fit(x_train,y_train)"
   ]
  },
  {
   "cell_type": "code",
   "execution_count": 299,
   "metadata": {},
   "outputs": [
    {
     "name": "stdout",
     "output_type": "stream",
     "text": [
      "Best Parameters: {'criterion': 'gini', 'max_depth': 7, 'max_features': 'auto'} \n",
      "Best Score: 93.78 %\n"
     ]
    }
   ],
   "source": [
    "print(\"Best Parameters: {}\".format(clf01.best_params_),\n",
    "     \"\\nBest Score: {}\".format(round(clf01.best_score_,4)*100),\"%\")"
   ]
  },
  {
   "cell_type": "markdown",
   "metadata": {},
   "source": [
    "### Checking confusion matrix and scores"
   ]
  },
  {
   "cell_type": "code",
   "execution_count": 300,
   "metadata": {},
   "outputs": [
    {
     "data": {
      "image/png": "[encoded data removed]",
      "text/plain": [
       "<Figure size 432x288 with 2 Axes>"
      ]
     },
     "metadata": {
      "needs_background": "light"
     },
     "output_type": "display_data"
    }
   ],
   "source": [
    "from sklearn.metrics import plot_confusion_matrix\n",
    "plot_confusion_matrix(clf01,x_test,y_test)\n",
    "plt.grid(False)\n",
    "plt.show()"
   ]
  },
  {
   "cell_type": "markdown",
   "metadata": {},
   "source": [
    "### 2. Random forest"
   ]
  },
  {
   "cell_type": "code",
   "execution_count": 301,
   "metadata": {},
   "outputs": [],
   "source": [
    "from sklearn.ensemble import RandomForestClassifier"
   ]
  },
  {
   "cell_type": "code",
   "execution_count": 302,
   "metadata": {},
   "outputs": [],
   "source": [
    "forest=RandomForestClassifier()"
   ]
  },
  {
   "cell_type": "code",
   "execution_count": 303,
   "metadata": {},
   "outputs": [],
   "source": [
    "hyperparam_2={\"n_estimators\":[50,100,150,200],\n",
    "            'max_features' : ['log2','sqrt'],\n",
    "            'max_depth': [5,6,8,9,10,12]}\n"
   ]
  },
  {
   "cell_type": "code",
   "execution_count": 304,
   "metadata": {},
   "outputs": [],
   "source": [
    "clf02=GridSearchCV(forest,hyperparam_2,cv=10)"
   ]
  },
  {
   "cell_type": "code",
   "execution_count": 305,
   "metadata": {},
   "outputs": [
    {
     "data": {
      "text/plain": [
       "GridSearchCV(cv=10, estimator=RandomForestClassifier(),\n",
       "             param_grid={'max_depth': [5, 6, 8, 9, 10, 12],\n",
       "                         'max_features': ['log2', 'sqrt'],\n",
       "                         'n_estimators': [50, 100, 150, 200]})"
      ]
     },
     "execution_count": 305,
     "metadata": {},
     "output_type": "execute_result"
    }
   ],
   "source": [
    "clf02.fit(x_train,y_train)"
   ]
  },
  {
   "cell_type": "code",
   "execution_count": 306,
   "metadata": {},
   "outputs": [
    {
     "name": "stdout",
     "output_type": "stream",
     "text": [
      "Best Parameters: {'max_depth': 12, 'max_features': 'sqrt', 'n_estimators': 150} \n",
      "Best Score: 99.83 %\n"
     ]
    }
   ],
   "source": [
    "print(\"Best Parameters: {}\".format(clf02.best_params_),\n",
    "     \"\\nBest Score: {}\".format(round(clf02.best_score_,4)*100),\"%\")"
   ]
  },
  {
   "cell_type": "markdown",
   "metadata": {},
   "source": [
    "### 3. Adaboost\n",
    "- AdaBoost (Adaptive Boosting) is a machine learning meta-algorithm developed by Yoav Freund and Robert Schapire, who were awarded the Gödel Prize in 2003 for their work. It can be combined with a variety of other learning algorithms to boost results."
   ]
  },
  {
   "cell_type": "code",
   "execution_count": 307,
   "metadata": {},
   "outputs": [],
   "source": [
    "from sklearn.ensemble import AdaBoostClassifier"
   ]
  },
  {
   "cell_type": "code",
   "execution_count": 308,
   "metadata": {},
   "outputs": [],
   "source": [
    "clf_ada = AdaBoostClassifier(random_state=42)"
   ]
  },
  {
   "cell_type": "code",
   "execution_count": 309,
   "metadata": {},
   "outputs": [],
   "source": [
    "hyperparameter_3 = {\"n_estimators\":[400,500,600,700,800],\n",
    "                   \"algorithm\":[\"SAMME\",\"SAMME.R\"]}"
   ]
  },
  {
   "cell_type": "code",
   "execution_count": 310,
   "metadata": {},
   "outputs": [],
   "source": [
    "clf03 = GridSearchCV(clf_ada,hyperparameter_3,cv=10)"
   ]
  },
  {
   "cell_type": "code",
   "execution_count": 311,
   "metadata": {},
   "outputs": [
    {
     "data": {
      "text/plain": [
       "GridSearchCV(cv=10, estimator=AdaBoostClassifier(random_state=42),\n",
       "             param_grid={'algorithm': ['SAMME', 'SAMME.R'],\n",
       "                         'n_estimators': [400, 500, 600, 700, 800]})"
      ]
     },
     "execution_count": 311,
     "metadata": {},
     "output_type": "execute_result"
    }
   ],
   "source": [
    "clf03.fit(x_train,y_train)"
   ]
  },
  {
   "cell_type": "code",
   "execution_count": 312,
   "metadata": {},
   "outputs": [
    {
     "name": "stdout",
     "output_type": "stream",
     "text": [
      "Best Parameters: {'algorithm': 'SAMME.R', 'n_estimators': 500} \n",
      "Best Score: 99.56 %\n"
     ]
    }
   ],
   "source": [
    "print(\"Best Parameters: {}\".format(clf03.best_params_),\n",
    "     \"\\nBest Score: {}\".format(round(clf03.best_score_,4)*100),\"%\")"
   ]
  },
  {
   "cell_type": "markdown",
   "metadata": {},
   "source": [
    "### 4. SVC"
   ]
  },
  {
   "cell_type": "code",
   "execution_count": 313,
   "metadata": {},
   "outputs": [],
   "source": [
    "from sklearn.svm import SVC\n",
    "#from sklearn.model_selection import RandomizedSearchCV"
   ]
  },
  {
   "cell_type": "code",
   "execution_count": 314,
   "metadata": {},
   "outputs": [],
   "source": [
    "clf_svc = SVC(random_state=42)"
   ]
  },
  {
   "cell_type": "code",
   "execution_count": 315,
   "metadata": {},
   "outputs": [],
   "source": [
    "hyperparameters_4 = {\"kernel\":[\"rbf\",\"poly\",\"sigmoid\",\"linear\"],\n",
    "                    \"degree\":[3,4,8]}"
   ]
  },
  {
   "cell_type": "code",
   "execution_count": 316,
   "metadata": {},
   "outputs": [],
   "source": [
    "clf04 = GridSearchCV(clf_svc,hyperparameters_4,cv=10,n_jobs=-1)"
   ]
  },
  {
   "cell_type": "code",
   "execution_count": 317,
   "metadata": {},
   "outputs": [
    {
     "data": {
      "text/plain": [
       "GridSearchCV(cv=10, estimator=SVC(random_state=42), n_jobs=-1,\n",
       "             param_grid={'degree': [3, 4, 8],\n",
       "                         'kernel': ['rbf', 'poly', 'sigmoid', 'linear']})"
      ]
     },
     "execution_count": 317,
     "metadata": {},
     "output_type": "execute_result"
    }
   ],
   "source": [
    "clf04.fit(x_train,y_train)"
   ]
  },
  {
   "cell_type": "code",
   "execution_count": 318,
   "metadata": {},
   "outputs": [
    {
     "name": "stdout",
     "output_type": "stream",
     "text": [
      "SVC(kernel='linear', random_state=42) 0.8727777777777778\n"
     ]
    }
   ],
   "source": [
    "print(clf04.best_estimator_,\n",
    "     clf04.best_score_)"
   ]
  },
  {
   "cell_type": "markdown",
   "metadata": {},
   "source": [
    "## Neural Network using MLP."
   ]
  },
  {
   "cell_type": "code",
   "execution_count": 319,
   "metadata": {
    "scrolled": false
   },
   "outputs": [],
   "source": [
    "import tensorflow as tf\n",
    "import keras as ks"
   ]
  },
  {
   "cell_type": "code",
   "execution_count": 320,
   "metadata": {},
   "outputs": [],
   "source": [
    "from sklearn.neural_network import MLPClassifier\n",
    "dnn_clf = MLPClassifier()"
   ]
  },
  {
   "cell_type": "code",
   "execution_count": 321,
   "metadata": {},
   "outputs": [],
   "source": [
    "hyperparameter_5 = {\"hidden_layer_sizes\":[[100]*2,[100]*3,[100]*5],\n",
    "                   \"max_iter\":[500]}"
   ]
  },
  {
   "cell_type": "code",
   "execution_count": 322,
   "metadata": {},
   "outputs": [],
   "source": [
    "clf05 = GridSearchCV(dnn_clf,hyperparameter_5,cv=30)"
   ]
  },
  {
   "cell_type": "code",
   "execution_count": 323,
   "metadata": {
    "scrolled": true
   },
   "outputs": [
    {
     "data": {
      "text/plain": [
       "GridSearchCV(cv=30, estimator=MLPClassifier(),\n",
       "             param_grid={'hidden_layer_sizes': [[100, 100], [100, 100, 100],\n",
       "                                                [100, 100, 100, 100, 100]],\n",
       "                         'max_iter': [500]})"
      ]
     },
     "execution_count": 323,
     "metadata": {},
     "output_type": "execute_result"
    }
   ],
   "source": [
    "clf05.fit(x_train,y_train)"
   ]
  },
  {
   "cell_type": "code",
   "execution_count": 324,
   "metadata": {},
   "outputs": [
    {
     "name": "stdout",
     "output_type": "stream",
     "text": [
      "MLPClassifier(hidden_layer_sizes=[100, 100], max_iter=500) 0.986111111111111\n"
     ]
    }
   ],
   "source": [
    "print(clf05.best_estimator_,clf05.best_score_)"
   ]
  },
  {
   "cell_type": "markdown",
   "metadata": {},
   "source": [
    "### Evaluation of model with metrics F1Score, AUC_score and Accuracy"
   ]
  },
  {
   "cell_type": "markdown",
   "metadata": {},
   "source": [
    "##### Evaluating different models on the basis of different metrics like F1 Score, ROC score.\n",
    "- clf01 : Decision Tree\n",
    "- clf02 : Random Forest\n",
    "- clf03 : AdaBoost\n",
    "- clf04 : SVC\n",
    "- clf05 : MLPClassifier"
   ]
  },
  {
   "cell_type": "code",
   "execution_count": 325,
   "metadata": {},
   "outputs": [
    {
     "data": {
      "text/html": [
       "<div>\n",
       "<style scoped>\n",
       "    .dataframe tbody tr th:only-of-type {\n",
       "        vertical-align: middle;\n",
       "    }\n",
       "\n",
       "    .dataframe tbody tr th {\n",
       "        vertical-align: top;\n",
       "    }\n",
       "\n",
       "    .dataframe thead th {\n",
       "        text-align: right;\n",
       "    }\n",
       "</style>\n",
       "<table border=\"1\" class=\"dataframe\">\n",
       "  <thead>\n",
       "    <tr style=\"text-align: right;\">\n",
       "      <th></th>\n",
       "      <th>DSRI</th>\n",
       "      <th>GMI</th>\n",
       "      <th>AQI</th>\n",
       "      <th>SGI</th>\n",
       "      <th>DEPI</th>\n",
       "      <th>SGAI</th>\n",
       "      <th>ACCR</th>\n",
       "      <th>LEVI</th>\n",
       "    </tr>\n",
       "  </thead>\n",
       "  <tbody>\n",
       "    <tr>\n",
       "      <th>10</th>\n",
       "      <td>1.000000</td>\n",
       "      <td>0.863156</td>\n",
       "      <td>1.009767</td>\n",
       "      <td>1.395014</td>\n",
       "      <td>1.001872</td>\n",
       "      <td>0.987882</td>\n",
       "      <td>-0.004574</td>\n",
       "      <td>1.006394</td>\n",
       "    </tr>\n",
       "    <tr>\n",
       "      <th>17</th>\n",
       "      <td>1.778241</td>\n",
       "      <td>0.742246</td>\n",
       "      <td>-2.130100</td>\n",
       "      <td>1.937308</td>\n",
       "      <td>1.000000</td>\n",
       "      <td>1.806630</td>\n",
       "      <td>0.146384</td>\n",
       "      <td>1.079540</td>\n",
       "    </tr>\n",
       "    <tr>\n",
       "      <th>894</th>\n",
       "      <td>0.951871</td>\n",
       "      <td>0.980090</td>\n",
       "      <td>1.356334</td>\n",
       "      <td>1.131217</td>\n",
       "      <td>0.945576</td>\n",
       "      <td>1.026637</td>\n",
       "      <td>-0.145159</td>\n",
       "      <td>1.039188</td>\n",
       "    </tr>\n",
       "    <tr>\n",
       "      <th>4</th>\n",
       "      <td>1.000000</td>\n",
       "      <td>1.369038</td>\n",
       "      <td>0.637112</td>\n",
       "      <td>0.861346</td>\n",
       "      <td>1.454676</td>\n",
       "      <td>1.741460</td>\n",
       "      <td>0.123048</td>\n",
       "      <td>0.939047</td>\n",
       "    </tr>\n",
       "    <tr>\n",
       "      <th>14</th>\n",
       "      <td>1.252242</td>\n",
       "      <td>1.006480</td>\n",
       "      <td>1.174924</td>\n",
       "      <td>1.250304</td>\n",
       "      <td>0.953411</td>\n",
       "      <td>1.111494</td>\n",
       "      <td>-0.013454</td>\n",
       "      <td>1.118081</td>\n",
       "    </tr>\n",
       "    <tr>\n",
       "      <th>...</th>\n",
       "      <td>...</td>\n",
       "      <td>...</td>\n",
       "      <td>...</td>\n",
       "      <td>...</td>\n",
       "      <td>...</td>\n",
       "      <td>...</td>\n",
       "      <td>...</td>\n",
       "      <td>...</td>\n",
       "    </tr>\n",
       "    <tr>\n",
       "      <th>21</th>\n",
       "      <td>1.000000</td>\n",
       "      <td>0.872010</td>\n",
       "      <td>0.652510</td>\n",
       "      <td>13.064653</td>\n",
       "      <td>1.103716</td>\n",
       "      <td>0.096956</td>\n",
       "      <td>0.041028</td>\n",
       "      <td>1.176655</td>\n",
       "    </tr>\n",
       "    <tr>\n",
       "      <th>637</th>\n",
       "      <td>0.460117</td>\n",
       "      <td>1.367296</td>\n",
       "      <td>0.875473</td>\n",
       "      <td>1.606944</td>\n",
       "      <td>0.670820</td>\n",
       "      <td>1.395350</td>\n",
       "      <td>-0.188752</td>\n",
       "      <td>1.000565</td>\n",
       "    </tr>\n",
       "    <tr>\n",
       "      <th>32</th>\n",
       "      <td>1.009934</td>\n",
       "      <td>1.095584</td>\n",
       "      <td>5.702904</td>\n",
       "      <td>0.902743</td>\n",
       "      <td>1.237174</td>\n",
       "      <td>0.624588</td>\n",
       "      <td>0.007920</td>\n",
       "      <td>2.556236</td>\n",
       "    </tr>\n",
       "    <tr>\n",
       "      <th>15</th>\n",
       "      <td>8.347615</td>\n",
       "      <td>0.495240</td>\n",
       "      <td>0.573016</td>\n",
       "      <td>0.672111</td>\n",
       "      <td>0.941860</td>\n",
       "      <td>1.487849</td>\n",
       "      <td>0.060811</td>\n",
       "      <td>13.058559</td>\n",
       "    </tr>\n",
       "    <tr>\n",
       "      <th>302</th>\n",
       "      <td>0.947888</td>\n",
       "      <td>1.000000</td>\n",
       "      <td>1.106549</td>\n",
       "      <td>1.263286</td>\n",
       "      <td>1.086308</td>\n",
       "      <td>1.333995</td>\n",
       "      <td>-0.019669</td>\n",
       "      <td>0.908954</td>\n",
       "    </tr>\n",
       "  </tbody>\n",
       "</table>\n",
       "<p>600 rows × 8 columns</p>\n",
       "</div>"
      ],
      "text/plain": [
       "         DSRI       GMI       AQI        SGI      DEPI      SGAI      ACCR  \\\n",
       "10   1.000000  0.863156  1.009767   1.395014  1.001872  0.987882 -0.004574   \n",
       "17   1.778241  0.742246 -2.130100   1.937308  1.000000  1.806630  0.146384   \n",
       "894  0.951871  0.980090  1.356334   1.131217  0.945576  1.026637 -0.145159   \n",
       "4    1.000000  1.369038  0.637112   0.861346  1.454676  1.741460  0.123048   \n",
       "14   1.252242  1.006480  1.174924   1.250304  0.953411  1.111494 -0.013454   \n",
       "..        ...       ...       ...        ...       ...       ...       ...   \n",
       "21   1.000000  0.872010  0.652510  13.064653  1.103716  0.096956  0.041028   \n",
       "637  0.460117  1.367296  0.875473   1.606944  0.670820  1.395350 -0.188752   \n",
       "32   1.009934  1.095584  5.702904   0.902743  1.237174  0.624588  0.007920   \n",
       "15   8.347615  0.495240  0.573016   0.672111  0.941860  1.487849  0.060811   \n",
       "302  0.947888  1.000000  1.106549   1.263286  1.086308  1.333995 -0.019669   \n",
       "\n",
       "          LEVI  \n",
       "10    1.006394  \n",
       "17    1.079540  \n",
       "894   1.039188  \n",
       "4     0.939047  \n",
       "14    1.118081  \n",
       "..         ...  \n",
       "21    1.176655  \n",
       "637   1.000565  \n",
       "32    2.556236  \n",
       "15   13.058559  \n",
       "302   0.908954  \n",
       "\n",
       "[600 rows x 8 columns]"
      ]
     },
     "execution_count": 325,
     "metadata": {},
     "output_type": "execute_result"
    }
   ],
   "source": [
    "x_test"
   ]
  },
  {
   "cell_type": "code",
   "execution_count": 326,
   "metadata": {},
   "outputs": [
    {
     "data": {
      "text/plain": [
       "10     1\n",
       "17     1\n",
       "894    0\n",
       "4      1\n",
       "14     1\n",
       "      ..\n",
       "21     1\n",
       "637    0\n",
       "32     1\n",
       "15     1\n",
       "302    0\n",
       "Name: C-MANIPULATOR, Length: 600, dtype: int64"
      ]
     },
     "execution_count": 326,
     "metadata": {},
     "output_type": "execute_result"
    }
   ],
   "source": [
    "y_test"
   ]
  },
  {
   "cell_type": "code",
   "execution_count": 327,
   "metadata": {},
   "outputs": [],
   "source": [
    "from sklearn.metrics import f1_score,roc_auc_score,roc_curve,accuracy_score"
   ]
  },
  {
   "cell_type": "code",
   "execution_count": 328,
   "metadata": {},
   "outputs": [
    {
     "name": "stdout",
     "output_type": "stream",
     "text": [
      "F1 score for clf01 0.9138461538461539 \n",
      "Accuracy score for clf01 0.9066666666666666 \n",
      "roc_auc_score for clf01 0.9075907590759076\n"
     ]
    }
   ],
   "source": [
    "y_pred = clf01.predict(x_test)\n",
    "print(\"F1 score for clf01 {}\".format(f1_score(y_test,y_pred)),\n",
    "     \"\\nAccuracy score for clf01 {}\".format(accuracy_score(y_test,y_pred)),\n",
    "     \"\\nroc_auc_score for clf01 {}\".format(roc_auc_score(y_test,y_pred)))\n",
    "\n"
   ]
  },
  {
   "cell_type": "code",
   "execution_count": 329,
   "metadata": {},
   "outputs": [
    {
     "name": "stdout",
     "output_type": "stream",
     "text": [
      "F1 score for clf02 1.0 \n",
      "Accuracy score for clf02 1.0 \n",
      "roc_auc_score for clf02 1.0\n"
     ]
    }
   ],
   "source": [
    "y_pred = clf02.predict(x_test)\n",
    "print(\"F1 score for clf02 {}\".format(f1_score(y_test,y_pred)),\n",
    "     \"\\nAccuracy score for clf02 {}\".format(accuracy_score(y_test,y_pred)),\n",
    "     \"\\nroc_auc_score for clf02 {}\".format(roc_auc_score(y_test,y_pred)))\n",
    "\n"
   ]
  },
  {
   "cell_type": "code",
   "execution_count": 330,
   "metadata": {},
   "outputs": [
    {
     "name": "stdout",
     "output_type": "stream",
     "text": [
      "F1 score for clf03 0.9933110367892978 \n",
      "Accuracy score for clf03 0.9933333333333333 \n",
      "roc_auc_score for clf03 0.9933993399339933\n"
     ]
    }
   ],
   "source": [
    "y_pred = clf03.predict(x_test)\n",
    "print(\"F1 score for clf03 {}\".format(f1_score(y_test,y_pred)),\n",
    "     \"\\nAccuracy score for clf03 {}\".format(accuracy_score(y_test,y_pred)),\n",
    "     \"\\nroc_auc_score for clf03 {}\".format(roc_auc_score(y_test,y_pred)))\n"
   ]
  },
  {
   "cell_type": "code",
   "execution_count": 331,
   "metadata": {},
   "outputs": [
    {
     "name": "stdout",
     "output_type": "stream",
     "text": [
      "F1 score for clf04 0.8605042016806723 \n",
      "Accuracy score for clf04 0.8616666666666667 \n",
      "roc_auc_score for clf04 0.8616695002833616\n"
     ]
    }
   ],
   "source": [
    "y_pred = clf04.predict(x_test)\n",
    "print(\"F1 score for clf04 {}\".format(f1_score(y_test,y_pred)),\n",
    "     \"\\nAccuracy score for clf04 {}\".format(accuracy_score(y_test,y_pred)),\n",
    "     \"\\nroc_auc_score for clf04 {}\".format(roc_auc_score(y_test,y_pred)))\n"
   ]
  },
  {
   "cell_type": "code",
   "execution_count": 332,
   "metadata": {},
   "outputs": [
    {
     "name": "stdout",
     "output_type": "stream",
     "text": [
      "F1 score for clf05 0.9834437086092715 \n",
      "Accuracy score for clf05 0.9833333333333333 \n",
      "roc_auc_score for clf05 0.9834983498349835\n"
     ]
    }
   ],
   "source": [
    "y_pred = clf05.predict(x_test)\n",
    "print(\"F1 score for clf05 {}\".format(f1_score(y_test,y_pred)),\n",
    "     \"\\nAccuracy score for clf05 {}\".format(accuracy_score(y_test,y_pred)),\n",
    "     \"\\nroc_auc_score for clf05 {}\".format(roc_auc_score(y_test,y_pred)))\n"
   ]
  },
  {
   "cell_type": "markdown",
   "metadata": {},
   "source": [
    "##### Evaluate on untouched data"
   ]
  },
  {
   "cell_type": "code",
   "execution_count": 333,
   "metadata": {},
   "outputs": [],
   "source": [
    "from sklearn.metrics import plot_roc_curve"
   ]
  },
  {
   "cell_type": "code",
   "execution_count": 334,
   "metadata": {},
   "outputs": [
    {
     "data": {
      "text/plain": [
       "<sklearn.metrics._plot.roc_curve.RocCurveDisplay at 0x21b681ad0a0>"
      ]
     },
     "execution_count": 334,
     "metadata": {},
     "output_type": "execute_result"
    },
    {
     "data": {
      "image/png": "[encoded data removed]",
      "text/plain": [
       "<Figure size 432x288 with 1 Axes>"
      ]
     },
     "metadata": {
      "needs_background": "light"
     },
     "output_type": "display_data"
    }
   ],
   "source": [
    "plot_roc_curve(clf01,x_test,y_test)"
   ]
  },
  {
   "cell_type": "code",
   "execution_count": 335,
   "metadata": {},
   "outputs": [
    {
     "data": {
      "image/png": "[encoded data removed]",
      "text/plain": [
       "<Figure size 432x288 with 2 Axes>"
      ]
     },
     "metadata": {
      "needs_background": "light"
     },
     "output_type": "display_data"
    }
   ],
   "source": [
    "plot_confusion_matrix(clf01,X_scaled,Y)\n",
    "plt.grid(False)\n",
    "plt.show()"
   ]
  },
  {
   "cell_type": "code",
   "execution_count": 336,
   "metadata": {},
   "outputs": [
    {
     "data": {
      "text/plain": [
       "<sklearn.metrics._plot.roc_curve.RocCurveDisplay at 0x21b66dc9370>"
      ]
     },
     "execution_count": 336,
     "metadata": {},
     "output_type": "execute_result"
    },
    {
     "data": {
      "image/png": "[encoded data removed]",
      "text/plain": [
       "<Figure size 432x288 with 1 Axes>"
      ]
     },
     "metadata": {
      "needs_background": "light"
     },
     "output_type": "display_data"
    }
   ],
   "source": [
    "plot_roc_curve(clf02,x_test,y_test)"
   ]
  },
  {
   "cell_type": "code",
   "execution_count": 337,
   "metadata": {},
   "outputs": [
    {
     "data": {
      "image/png": "[encoded data removed]",
      "text/plain": [
       "<Figure size 432x288 with 2 Axes>"
      ]
     },
     "metadata": {
      "needs_background": "light"
     },
     "output_type": "display_data"
    }
   ],
   "source": [
    "plot_confusion_matrix(clf02,X_scaled,Y)\n",
    "plt.grid(False)\n",
    "plt.show()"
   ]
  },
  {
   "cell_type": "code",
   "execution_count": 338,
   "metadata": {},
   "outputs": [
    {
     "data": {
      "text/plain": [
       "<sklearn.metrics._plot.roc_curve.RocCurveDisplay at 0x21b655981c0>"
      ]
     },
     "execution_count": 338,
     "metadata": {},
     "output_type": "execute_result"
    },
    {
     "data": {
      "image/png": "[encoded data removed]",
      "text/plain": [
       "<Figure size 432x288 with 1 Axes>"
      ]
     },
     "metadata": {
      "needs_background": "light"
     },
     "output_type": "display_data"
    }
   ],
   "source": [
    "plot_roc_curve(clf03,x_test,y_test)"
   ]
  },
  {
   "cell_type": "code",
   "execution_count": 339,
   "metadata": {},
   "outputs": [
    {
     "data": {
      "image/png": "[encoded data removed]",
      "text/plain": [
       "<Figure size 432x288 with 2 Axes>"
      ]
     },
     "metadata": {
      "needs_background": "light"
     },
     "output_type": "display_data"
    }
   ],
   "source": [
    "plot_confusion_matrix(clf03,X_scaled,Y)\n",
    "plt.grid(False)\n",
    "plt.show()"
   ]
  },
  {
   "cell_type": "code",
   "execution_count": 340,
   "metadata": {},
   "outputs": [
    {
     "data": {
      "text/plain": [
       "<sklearn.metrics._plot.roc_curve.RocCurveDisplay at 0x21b66897100>"
      ]
     },
     "execution_count": 340,
     "metadata": {},
     "output_type": "execute_result"
    },
    {
     "data": {
      "image/png": "[encoded data removed]",
      "text/plain": [
       "<Figure size 432x288 with 1 Axes>"
      ]
     },
     "metadata": {
      "needs_background": "light"
     },
     "output_type": "display_data"
    }
   ],
   "source": [
    "plot_roc_curve(clf04,x_test,y_test)"
   ]
  },
  {
   "cell_type": "code",
   "execution_count": 341,
   "metadata": {},
   "outputs": [
    {
     "data": {
      "image/png": "[encoded data removed]",
      "text/plain": [
       "<Figure size 432x288 with 2 Axes>"
      ]
     },
     "metadata": {
      "needs_background": "light"
     },
     "output_type": "display_data"
    }
   ],
   "source": [
    "plot_confusion_matrix(clf04,X_scaled,Y)\n",
    "plt.grid(False)\n",
    "plt.show()"
   ]
  },
  {
   "cell_type": "code",
   "execution_count": 342,
   "metadata": {},
   "outputs": [
    {
     "data": {
      "text/plain": [
       "<sklearn.metrics._plot.roc_curve.RocCurveDisplay at 0x21b6351d1c0>"
      ]
     },
     "execution_count": 342,
     "metadata": {},
     "output_type": "execute_result"
    },
    {
     "data": {
      "image/png": "[encoded data removed]",
      "text/plain": [
       "<Figure size 432x288 with 1 Axes>"
      ]
     },
     "metadata": {
      "needs_background": "light"
     },
     "output_type": "display_data"
    }
   ],
   "source": [
    "plot_roc_curve(clf05,x_test,y_test)"
   ]
  },
  {
   "cell_type": "code",
   "execution_count": 343,
   "metadata": {},
   "outputs": [
    {
     "data": {
      "image/png": "[encoded data removed]",
      "text/plain": [
       "<Figure size 432x288 with 2 Axes>"
      ]
     },
     "metadata": {
      "needs_background": "light"
     },
     "output_type": "display_data"
    }
   ],
   "source": [
    "plot_confusion_matrix(clf05,X_scaled,Y)\n",
    "plt.grid(False)\n",
    "plt.show()"
   ]
  },
  {
   "cell_type": "markdown",
   "metadata": {},
   "source": [
    "##### Out of all 5 models only two models  generalised best. Rest were overfitted."
   ]
  },
  {
   "cell_type": "code",
   "execution_count": 344,
   "metadata": {},
   "outputs": [
    {
     "data": {
      "text/html": [
       "<div>\n",
       "<style scoped>\n",
       "    .dataframe tbody tr th:only-of-type {\n",
       "        vertical-align: middle;\n",
       "    }\n",
       "\n",
       "    .dataframe tbody tr th {\n",
       "        vertical-align: top;\n",
       "    }\n",
       "\n",
       "    .dataframe thead th {\n",
       "        text-align: right;\n",
       "    }\n",
       "</style>\n",
       "<table border=\"1\" class=\"dataframe\">\n",
       "  <thead>\n",
       "    <tr style=\"text-align: right;\">\n",
       "      <th></th>\n",
       "      <th>Company ID</th>\n",
       "      <th>DSRI</th>\n",
       "      <th>GMI</th>\n",
       "      <th>AQI</th>\n",
       "      <th>SGI</th>\n",
       "      <th>DEPI</th>\n",
       "      <th>SGAI</th>\n",
       "      <th>ACCR</th>\n",
       "      <th>LEVI</th>\n",
       "      <th>Manipulator</th>\n",
       "      <th>C-MANIPULATOR</th>\n",
       "    </tr>\n",
       "  </thead>\n",
       "  <tbody>\n",
       "    <tr>\n",
       "      <th>0</th>\n",
       "      <td>1</td>\n",
       "      <td>1.624742</td>\n",
       "      <td>1.128927</td>\n",
       "      <td>7.185053</td>\n",
       "      <td>0.366211</td>\n",
       "      <td>1.381519</td>\n",
       "      <td>1.624145</td>\n",
       "      <td>-0.166809</td>\n",
       "      <td>1.161082</td>\n",
       "      <td>Yes</td>\n",
       "      <td>1</td>\n",
       "    </tr>\n",
       "    <tr>\n",
       "      <th>1</th>\n",
       "      <td>2</td>\n",
       "      <td>1.000000</td>\n",
       "      <td>1.606492</td>\n",
       "      <td>1.004988</td>\n",
       "      <td>13.081433</td>\n",
       "      <td>0.400000</td>\n",
       "      <td>5.198207</td>\n",
       "      <td>0.060475</td>\n",
       "      <td>0.986732</td>\n",
       "      <td>Yes</td>\n",
       "      <td>1</td>\n",
       "    </tr>\n",
       "    <tr>\n",
       "      <th>2</th>\n",
       "      <td>3</td>\n",
       "      <td>1.000000</td>\n",
       "      <td>1.015607</td>\n",
       "      <td>1.241389</td>\n",
       "      <td>1.475018</td>\n",
       "      <td>1.169353</td>\n",
       "      <td>0.647671</td>\n",
       "      <td>0.036732</td>\n",
       "      <td>1.264305</td>\n",
       "      <td>Yes</td>\n",
       "      <td>1</td>\n",
       "    </tr>\n",
       "    <tr>\n",
       "      <th>3</th>\n",
       "      <td>4</td>\n",
       "      <td>1.486239</td>\n",
       "      <td>1.000000</td>\n",
       "      <td>0.465535</td>\n",
       "      <td>0.672840</td>\n",
       "      <td>2.000000</td>\n",
       "      <td>0.092890</td>\n",
       "      <td>0.273434</td>\n",
       "      <td>0.680975</td>\n",
       "      <td>Yes</td>\n",
       "      <td>1</td>\n",
       "    </tr>\n",
       "    <tr>\n",
       "      <th>4</th>\n",
       "      <td>5</td>\n",
       "      <td>1.000000</td>\n",
       "      <td>1.369038</td>\n",
       "      <td>0.637112</td>\n",
       "      <td>0.861346</td>\n",
       "      <td>1.454676</td>\n",
       "      <td>1.741460</td>\n",
       "      <td>0.123048</td>\n",
       "      <td>0.939047</td>\n",
       "      <td>Yes</td>\n",
       "      <td>1</td>\n",
       "    </tr>\n",
       "    <tr>\n",
       "      <th>...</th>\n",
       "      <td>...</td>\n",
       "      <td>...</td>\n",
       "      <td>...</td>\n",
       "      <td>...</td>\n",
       "      <td>...</td>\n",
       "      <td>...</td>\n",
       "      <td>...</td>\n",
       "      <td>...</td>\n",
       "      <td>...</td>\n",
       "      <td>...</td>\n",
       "      <td>...</td>\n",
       "    </tr>\n",
       "    <tr>\n",
       "      <th>215</th>\n",
       "      <td>216</td>\n",
       "      <td>1.002026</td>\n",
       "      <td>0.998118</td>\n",
       "      <td>-0.917605</td>\n",
       "      <td>1.088962</td>\n",
       "      <td>1.030527</td>\n",
       "      <td>1.076770</td>\n",
       "      <td>-0.001079</td>\n",
       "      <td>1.080009</td>\n",
       "      <td>No</td>\n",
       "      <td>0</td>\n",
       "    </tr>\n",
       "    <tr>\n",
       "      <th>216</th>\n",
       "      <td>217</td>\n",
       "      <td>0.909365</td>\n",
       "      <td>1.170298</td>\n",
       "      <td>1.971874</td>\n",
       "      <td>1.279013</td>\n",
       "      <td>0.971605</td>\n",
       "      <td>0.985939</td>\n",
       "      <td>-0.035854</td>\n",
       "      <td>1.025102</td>\n",
       "      <td>No</td>\n",
       "      <td>0</td>\n",
       "    </tr>\n",
       "    <tr>\n",
       "      <th>217</th>\n",
       "      <td>218</td>\n",
       "      <td>0.937403</td>\n",
       "      <td>0.973292</td>\n",
       "      <td>1.131131</td>\n",
       "      <td>1.083577</td>\n",
       "      <td>1.050011</td>\n",
       "      <td>0.959512</td>\n",
       "      <td>-0.095279</td>\n",
       "      <td>0.976332</td>\n",
       "      <td>No</td>\n",
       "      <td>0</td>\n",
       "    </tr>\n",
       "    <tr>\n",
       "      <th>218</th>\n",
       "      <td>219</td>\n",
       "      <td>1.044944</td>\n",
       "      <td>1.021424</td>\n",
       "      <td>4.437887</td>\n",
       "      <td>0.870790</td>\n",
       "      <td>1.026489</td>\n",
       "      <td>1.060493</td>\n",
       "      <td>-0.157146</td>\n",
       "      <td>0.916070</td>\n",
       "      <td>No</td>\n",
       "      <td>0</td>\n",
       "    </tr>\n",
       "    <tr>\n",
       "      <th>219</th>\n",
       "      <td>220</td>\n",
       "      <td>0.958664</td>\n",
       "      <td>0.916985</td>\n",
       "      <td>0.999652</td>\n",
       "      <td>1.121524</td>\n",
       "      <td>1.096174</td>\n",
       "      <td>0.927539</td>\n",
       "      <td>-0.145247</td>\n",
       "      <td>0.935351</td>\n",
       "      <td>No</td>\n",
       "      <td>0</td>\n",
       "    </tr>\n",
       "  </tbody>\n",
       "</table>\n",
       "<p>220 rows × 11 columns</p>\n",
       "</div>"
      ],
      "text/plain": [
       "     Company ID      DSRI       GMI       AQI        SGI      DEPI      SGAI  \\\n",
       "0             1  1.624742  1.128927  7.185053   0.366211  1.381519  1.624145   \n",
       "1             2  1.000000  1.606492  1.004988  13.081433  0.400000  5.198207   \n",
       "2             3  1.000000  1.015607  1.241389   1.475018  1.169353  0.647671   \n",
       "3             4  1.486239  1.000000  0.465535   0.672840  2.000000  0.092890   \n",
       "4             5  1.000000  1.369038  0.637112   0.861346  1.454676  1.741460   \n",
       "..          ...       ...       ...       ...        ...       ...       ...   \n",
       "215         216  1.002026  0.998118 -0.917605   1.088962  1.030527  1.076770   \n",
       "216         217  0.909365  1.170298  1.971874   1.279013  0.971605  0.985939   \n",
       "217         218  0.937403  0.973292  1.131131   1.083577  1.050011  0.959512   \n",
       "218         219  1.044944  1.021424  4.437887   0.870790  1.026489  1.060493   \n",
       "219         220  0.958664  0.916985  0.999652   1.121524  1.096174  0.927539   \n",
       "\n",
       "         ACCR      LEVI Manipulator  C-MANIPULATOR  \n",
       "0   -0.166809  1.161082         Yes              1  \n",
       "1    0.060475  0.986732         Yes              1  \n",
       "2    0.036732  1.264305         Yes              1  \n",
       "3    0.273434  0.680975         Yes              1  \n",
       "4    0.123048  0.939047         Yes              1  \n",
       "..        ...       ...         ...            ...  \n",
       "215 -0.001079  1.080009          No              0  \n",
       "216 -0.035854  1.025102          No              0  \n",
       "217 -0.095279  0.976332          No              0  \n",
       "218 -0.157146  0.916070          No              0  \n",
       "219 -0.145247  0.935351          No              0  \n",
       "\n",
       "[220 rows x 11 columns]"
      ]
     },
     "execution_count": 344,
     "metadata": {},
     "output_type": "execute_result"
    }
   ],
   "source": [
    "test"
   ]
  },
  {
   "cell_type": "code",
   "execution_count": 345,
   "metadata": {},
   "outputs": [],
   "source": [
    "test.drop(labels=[\"Manipulator\",\"Company ID\"],axis=1,inplace=True)"
   ]
  },
  {
   "cell_type": "code",
   "execution_count": 346,
   "metadata": {},
   "outputs": [
    {
     "data": {
      "text/html": [
       "<div>\n",
       "<style scoped>\n",
       "    .dataframe tbody tr th:only-of-type {\n",
       "        vertical-align: middle;\n",
       "    }\n",
       "\n",
       "    .dataframe tbody tr th {\n",
       "        vertical-align: top;\n",
       "    }\n",
       "\n",
       "    .dataframe thead th {\n",
       "        text-align: right;\n",
       "    }\n",
       "</style>\n",
       "<table border=\"1\" class=\"dataframe\">\n",
       "  <thead>\n",
       "    <tr style=\"text-align: right;\">\n",
       "      <th></th>\n",
       "      <th>DSRI</th>\n",
       "      <th>GMI</th>\n",
       "      <th>AQI</th>\n",
       "      <th>SGI</th>\n",
       "      <th>DEPI</th>\n",
       "      <th>SGAI</th>\n",
       "      <th>ACCR</th>\n",
       "      <th>LEVI</th>\n",
       "      <th>C-MANIPULATOR</th>\n",
       "    </tr>\n",
       "  </thead>\n",
       "  <tbody>\n",
       "    <tr>\n",
       "      <th>0</th>\n",
       "      <td>1.624742</td>\n",
       "      <td>1.128927</td>\n",
       "      <td>7.185053</td>\n",
       "      <td>0.366211</td>\n",
       "      <td>1.381519</td>\n",
       "      <td>1.624145</td>\n",
       "      <td>-0.166809</td>\n",
       "      <td>1.161082</td>\n",
       "      <td>1</td>\n",
       "    </tr>\n",
       "    <tr>\n",
       "      <th>1</th>\n",
       "      <td>1.000000</td>\n",
       "      <td>1.606492</td>\n",
       "      <td>1.004988</td>\n",
       "      <td>13.081433</td>\n",
       "      <td>0.400000</td>\n",
       "      <td>5.198207</td>\n",
       "      <td>0.060475</td>\n",
       "      <td>0.986732</td>\n",
       "      <td>1</td>\n",
       "    </tr>\n",
       "    <tr>\n",
       "      <th>2</th>\n",
       "      <td>1.000000</td>\n",
       "      <td>1.015607</td>\n",
       "      <td>1.241389</td>\n",
       "      <td>1.475018</td>\n",
       "      <td>1.169353</td>\n",
       "      <td>0.647671</td>\n",
       "      <td>0.036732</td>\n",
       "      <td>1.264305</td>\n",
       "      <td>1</td>\n",
       "    </tr>\n",
       "    <tr>\n",
       "      <th>3</th>\n",
       "      <td>1.486239</td>\n",
       "      <td>1.000000</td>\n",
       "      <td>0.465535</td>\n",
       "      <td>0.672840</td>\n",
       "      <td>2.000000</td>\n",
       "      <td>0.092890</td>\n",
       "      <td>0.273434</td>\n",
       "      <td>0.680975</td>\n",
       "      <td>1</td>\n",
       "    </tr>\n",
       "    <tr>\n",
       "      <th>4</th>\n",
       "      <td>1.000000</td>\n",
       "      <td>1.369038</td>\n",
       "      <td>0.637112</td>\n",
       "      <td>0.861346</td>\n",
       "      <td>1.454676</td>\n",
       "      <td>1.741460</td>\n",
       "      <td>0.123048</td>\n",
       "      <td>0.939047</td>\n",
       "      <td>1</td>\n",
       "    </tr>\n",
       "    <tr>\n",
       "      <th>...</th>\n",
       "      <td>...</td>\n",
       "      <td>...</td>\n",
       "      <td>...</td>\n",
       "      <td>...</td>\n",
       "      <td>...</td>\n",
       "      <td>...</td>\n",
       "      <td>...</td>\n",
       "      <td>...</td>\n",
       "      <td>...</td>\n",
       "    </tr>\n",
       "    <tr>\n",
       "      <th>215</th>\n",
       "      <td>1.002026</td>\n",
       "      <td>0.998118</td>\n",
       "      <td>-0.917605</td>\n",
       "      <td>1.088962</td>\n",
       "      <td>1.030527</td>\n",
       "      <td>1.076770</td>\n",
       "      <td>-0.001079</td>\n",
       "      <td>1.080009</td>\n",
       "      <td>0</td>\n",
       "    </tr>\n",
       "    <tr>\n",
       "      <th>216</th>\n",
       "      <td>0.909365</td>\n",
       "      <td>1.170298</td>\n",
       "      <td>1.971874</td>\n",
       "      <td>1.279013</td>\n",
       "      <td>0.971605</td>\n",
       "      <td>0.985939</td>\n",
       "      <td>-0.035854</td>\n",
       "      <td>1.025102</td>\n",
       "      <td>0</td>\n",
       "    </tr>\n",
       "    <tr>\n",
       "      <th>217</th>\n",
       "      <td>0.937403</td>\n",
       "      <td>0.973292</td>\n",
       "      <td>1.131131</td>\n",
       "      <td>1.083577</td>\n",
       "      <td>1.050011</td>\n",
       "      <td>0.959512</td>\n",
       "      <td>-0.095279</td>\n",
       "      <td>0.976332</td>\n",
       "      <td>0</td>\n",
       "    </tr>\n",
       "    <tr>\n",
       "      <th>218</th>\n",
       "      <td>1.044944</td>\n",
       "      <td>1.021424</td>\n",
       "      <td>4.437887</td>\n",
       "      <td>0.870790</td>\n",
       "      <td>1.026489</td>\n",
       "      <td>1.060493</td>\n",
       "      <td>-0.157146</td>\n",
       "      <td>0.916070</td>\n",
       "      <td>0</td>\n",
       "    </tr>\n",
       "    <tr>\n",
       "      <th>219</th>\n",
       "      <td>0.958664</td>\n",
       "      <td>0.916985</td>\n",
       "      <td>0.999652</td>\n",
       "      <td>1.121524</td>\n",
       "      <td>1.096174</td>\n",
       "      <td>0.927539</td>\n",
       "      <td>-0.145247</td>\n",
       "      <td>0.935351</td>\n",
       "      <td>0</td>\n",
       "    </tr>\n",
       "  </tbody>\n",
       "</table>\n",
       "<p>220 rows × 9 columns</p>\n",
       "</div>"
      ],
      "text/plain": [
       "         DSRI       GMI       AQI        SGI      DEPI      SGAI      ACCR  \\\n",
       "0    1.624742  1.128927  7.185053   0.366211  1.381519  1.624145 -0.166809   \n",
       "1    1.000000  1.606492  1.004988  13.081433  0.400000  5.198207  0.060475   \n",
       "2    1.000000  1.015607  1.241389   1.475018  1.169353  0.647671  0.036732   \n",
       "3    1.486239  1.000000  0.465535   0.672840  2.000000  0.092890  0.273434   \n",
       "4    1.000000  1.369038  0.637112   0.861346  1.454676  1.741460  0.123048   \n",
       "..        ...       ...       ...        ...       ...       ...       ...   \n",
       "215  1.002026  0.998118 -0.917605   1.088962  1.030527  1.076770 -0.001079   \n",
       "216  0.909365  1.170298  1.971874   1.279013  0.971605  0.985939 -0.035854   \n",
       "217  0.937403  0.973292  1.131131   1.083577  1.050011  0.959512 -0.095279   \n",
       "218  1.044944  1.021424  4.437887   0.870790  1.026489  1.060493 -0.157146   \n",
       "219  0.958664  0.916985  0.999652   1.121524  1.096174  0.927539 -0.145247   \n",
       "\n",
       "         LEVI  C-MANIPULATOR  \n",
       "0    1.161082              1  \n",
       "1    0.986732              1  \n",
       "2    1.264305              1  \n",
       "3    0.680975              1  \n",
       "4    0.939047              1  \n",
       "..        ...            ...  \n",
       "215  1.080009              0  \n",
       "216  1.025102              0  \n",
       "217  0.976332              0  \n",
       "218  0.916070              0  \n",
       "219  0.935351              0  \n",
       "\n",
       "[220 rows x 9 columns]"
      ]
     },
     "execution_count": 346,
     "metadata": {},
     "output_type": "execute_result"
    }
   ],
   "source": [
    "test"
   ]
  },
  {
   "cell_type": "code",
   "execution_count": 347,
   "metadata": {},
   "outputs": [],
   "source": [
    "X = test.drop(labels=[\"C-MANIPULATOR\"],axis=1)\n",
    "Y = test[\"C-MANIPULATOR\"]"
   ]
  },
  {
   "cell_type": "code",
   "execution_count": 348,
   "metadata": {},
   "outputs": [
    {
     "data": {
      "text/html": [
       "<div>\n",
       "<style scoped>\n",
       "    .dataframe tbody tr th:only-of-type {\n",
       "        vertical-align: middle;\n",
       "    }\n",
       "\n",
       "    .dataframe tbody tr th {\n",
       "        vertical-align: top;\n",
       "    }\n",
       "\n",
       "    .dataframe thead th {\n",
       "        text-align: right;\n",
       "    }\n",
       "</style>\n",
       "<table border=\"1\" class=\"dataframe\">\n",
       "  <thead>\n",
       "    <tr style=\"text-align: right;\">\n",
       "      <th></th>\n",
       "      <th>DSRI</th>\n",
       "      <th>GMI</th>\n",
       "      <th>AQI</th>\n",
       "      <th>SGI</th>\n",
       "      <th>DEPI</th>\n",
       "      <th>SGAI</th>\n",
       "      <th>ACCR</th>\n",
       "      <th>LEVI</th>\n",
       "    </tr>\n",
       "  </thead>\n",
       "  <tbody>\n",
       "    <tr>\n",
       "      <th>0</th>\n",
       "      <td>1.624742</td>\n",
       "      <td>1.128927</td>\n",
       "      <td>7.185053</td>\n",
       "      <td>0.366211</td>\n",
       "      <td>1.381519</td>\n",
       "      <td>1.624145</td>\n",
       "      <td>-0.166809</td>\n",
       "      <td>1.161082</td>\n",
       "    </tr>\n",
       "    <tr>\n",
       "      <th>1</th>\n",
       "      <td>1.000000</td>\n",
       "      <td>1.606492</td>\n",
       "      <td>1.004988</td>\n",
       "      <td>13.081433</td>\n",
       "      <td>0.400000</td>\n",
       "      <td>5.198207</td>\n",
       "      <td>0.060475</td>\n",
       "      <td>0.986732</td>\n",
       "    </tr>\n",
       "    <tr>\n",
       "      <th>2</th>\n",
       "      <td>1.000000</td>\n",
       "      <td>1.015607</td>\n",
       "      <td>1.241389</td>\n",
       "      <td>1.475018</td>\n",
       "      <td>1.169353</td>\n",
       "      <td>0.647671</td>\n",
       "      <td>0.036732</td>\n",
       "      <td>1.264305</td>\n",
       "    </tr>\n",
       "    <tr>\n",
       "      <th>3</th>\n",
       "      <td>1.486239</td>\n",
       "      <td>1.000000</td>\n",
       "      <td>0.465535</td>\n",
       "      <td>0.672840</td>\n",
       "      <td>2.000000</td>\n",
       "      <td>0.092890</td>\n",
       "      <td>0.273434</td>\n",
       "      <td>0.680975</td>\n",
       "    </tr>\n",
       "    <tr>\n",
       "      <th>4</th>\n",
       "      <td>1.000000</td>\n",
       "      <td>1.369038</td>\n",
       "      <td>0.637112</td>\n",
       "      <td>0.861346</td>\n",
       "      <td>1.454676</td>\n",
       "      <td>1.741460</td>\n",
       "      <td>0.123048</td>\n",
       "      <td>0.939047</td>\n",
       "    </tr>\n",
       "    <tr>\n",
       "      <th>...</th>\n",
       "      <td>...</td>\n",
       "      <td>...</td>\n",
       "      <td>...</td>\n",
       "      <td>...</td>\n",
       "      <td>...</td>\n",
       "      <td>...</td>\n",
       "      <td>...</td>\n",
       "      <td>...</td>\n",
       "    </tr>\n",
       "    <tr>\n",
       "      <th>215</th>\n",
       "      <td>1.002026</td>\n",
       "      <td>0.998118</td>\n",
       "      <td>-0.917605</td>\n",
       "      <td>1.088962</td>\n",
       "      <td>1.030527</td>\n",
       "      <td>1.076770</td>\n",
       "      <td>-0.001079</td>\n",
       "      <td>1.080009</td>\n",
       "    </tr>\n",
       "    <tr>\n",
       "      <th>216</th>\n",
       "      <td>0.909365</td>\n",
       "      <td>1.170298</td>\n",
       "      <td>1.971874</td>\n",
       "      <td>1.279013</td>\n",
       "      <td>0.971605</td>\n",
       "      <td>0.985939</td>\n",
       "      <td>-0.035854</td>\n",
       "      <td>1.025102</td>\n",
       "    </tr>\n",
       "    <tr>\n",
       "      <th>217</th>\n",
       "      <td>0.937403</td>\n",
       "      <td>0.973292</td>\n",
       "      <td>1.131131</td>\n",
       "      <td>1.083577</td>\n",
       "      <td>1.050011</td>\n",
       "      <td>0.959512</td>\n",
       "      <td>-0.095279</td>\n",
       "      <td>0.976332</td>\n",
       "    </tr>\n",
       "    <tr>\n",
       "      <th>218</th>\n",
       "      <td>1.044944</td>\n",
       "      <td>1.021424</td>\n",
       "      <td>4.437887</td>\n",
       "      <td>0.870790</td>\n",
       "      <td>1.026489</td>\n",
       "      <td>1.060493</td>\n",
       "      <td>-0.157146</td>\n",
       "      <td>0.916070</td>\n",
       "    </tr>\n",
       "    <tr>\n",
       "      <th>219</th>\n",
       "      <td>0.958664</td>\n",
       "      <td>0.916985</td>\n",
       "      <td>0.999652</td>\n",
       "      <td>1.121524</td>\n",
       "      <td>1.096174</td>\n",
       "      <td>0.927539</td>\n",
       "      <td>-0.145247</td>\n",
       "      <td>0.935351</td>\n",
       "    </tr>\n",
       "  </tbody>\n",
       "</table>\n",
       "<p>220 rows × 8 columns</p>\n",
       "</div>"
      ],
      "text/plain": [
       "         DSRI       GMI       AQI        SGI      DEPI      SGAI      ACCR  \\\n",
       "0    1.624742  1.128927  7.185053   0.366211  1.381519  1.624145 -0.166809   \n",
       "1    1.000000  1.606492  1.004988  13.081433  0.400000  5.198207  0.060475   \n",
       "2    1.000000  1.015607  1.241389   1.475018  1.169353  0.647671  0.036732   \n",
       "3    1.486239  1.000000  0.465535   0.672840  2.000000  0.092890  0.273434   \n",
       "4    1.000000  1.369038  0.637112   0.861346  1.454676  1.741460  0.123048   \n",
       "..        ...       ...       ...        ...       ...       ...       ...   \n",
       "215  1.002026  0.998118 -0.917605   1.088962  1.030527  1.076770 -0.001079   \n",
       "216  0.909365  1.170298  1.971874   1.279013  0.971605  0.985939 -0.035854   \n",
       "217  0.937403  0.973292  1.131131   1.083577  1.050011  0.959512 -0.095279   \n",
       "218  1.044944  1.021424  4.437887   0.870790  1.026489  1.060493 -0.157146   \n",
       "219  0.958664  0.916985  0.999652   1.121524  1.096174  0.927539 -0.145247   \n",
       "\n",
       "         LEVI  \n",
       "0    1.161082  \n",
       "1    0.986732  \n",
       "2    1.264305  \n",
       "3    0.680975  \n",
       "4    0.939047  \n",
       "..        ...  \n",
       "215  1.080009  \n",
       "216  1.025102  \n",
       "217  0.976332  \n",
       "218  0.916070  \n",
       "219  0.935351  \n",
       "\n",
       "[220 rows x 8 columns]"
      ]
     },
     "execution_count": 348,
     "metadata": {},
     "output_type": "execute_result"
    }
   ],
   "source": [
    "X"
   ]
  },
  {
   "cell_type": "code",
   "execution_count": 349,
   "metadata": {},
   "outputs": [],
   "source": [
    "X_scaled = scaler.fit_transform(X)"
   ]
  },
  {
   "cell_type": "code",
   "execution_count": 350,
   "metadata": {},
   "outputs": [
    {
     "data": {
      "text/plain": [
       "array([[ 0.03594639,  0.00751741,  1.49736601, ...,  0.06243316,\n",
       "        -1.16613437,  0.05163808],\n",
       "       [-0.18541126,  0.14610903, -0.0895797 , ...,  1.12122753,\n",
       "         0.60178325, -0.1199098 ],\n",
       "       [-0.18541126, -0.02536868, -0.02887542, ..., -0.22684134,\n",
       "         0.41709525,  0.15320289],\n",
       "       ...,\n",
       "       [-0.20759067, -0.03764849, -0.05718818, ..., -0.13446019,\n",
       "        -0.60974314, -0.13014333],\n",
       "       [-0.16948672, -0.02368035,  0.79193603, ..., -0.10454544,\n",
       "        -1.09097569, -0.18943717],\n",
       "       [-0.20005741, -0.05398916, -0.09094994, ..., -0.14393226,\n",
       "        -0.99841847, -0.17046535]])"
      ]
     },
     "execution_count": 350,
     "metadata": {},
     "output_type": "execute_result"
    }
   ],
   "source": [
    "X_scaled"
   ]
  },
  {
   "cell_type": "markdown",
   "metadata": {},
   "source": [
    "### Final result on Deciscion Tree"
   ]
  },
  {
   "cell_type": "code",
   "execution_count": 351,
   "metadata": {},
   "outputs": [
    {
     "name": "stdout",
     "output_type": "stream",
     "text": [
      "0.8136363636363636\n",
      "0.196078431372549\n"
     ]
    }
   ],
   "source": [
    "predicts = clf01.predict(X_scaled)\n",
    "\n",
    "print(accuracy_score(Y,predicts))\n",
    "\n",
    "print(f1_score(Y,predicts))"
   ]
  },
  {
   "cell_type": "markdown",
   "metadata": {},
   "source": [
    "### Final result on Randomforest"
   ]
  },
  {
   "cell_type": "code",
   "execution_count": 352,
   "metadata": {},
   "outputs": [
    {
     "name": "stdout",
     "output_type": "stream",
     "text": [
      "0.8227272727272728\n",
      "0.0\n"
     ]
    }
   ],
   "source": [
    "predicts = clf02.predict(X_scaled)\n",
    "\n",
    "print(accuracy_score(Y,predicts))\n",
    "\n",
    "print(f1_score(Y,predicts))"
   ]
  },
  {
   "cell_type": "markdown",
   "metadata": {},
   "source": [
    "### Final result on Adaboost"
   ]
  },
  {
   "cell_type": "code",
   "execution_count": 353,
   "metadata": {
    "scrolled": true
   },
   "outputs": [
    {
     "name": "stdout",
     "output_type": "stream",
     "text": [
      "0.7818181818181819\n",
      "0.4418604651162791\n"
     ]
    }
   ],
   "source": [
    "predicts = clf03.predict(X_scaled)\n",
    "\n",
    "print(accuracy_score(Y,predicts))\n",
    "\n",
    "print(f1_score(Y,predicts))"
   ]
  },
  {
   "cell_type": "markdown",
   "metadata": {},
   "source": [
    "### Final result on SVC"
   ]
  },
  {
   "cell_type": "code",
   "execution_count": 354,
   "metadata": {},
   "outputs": [],
   "source": [
    "predicts = clf04.predict(X_scaled)"
   ]
  },
  {
   "cell_type": "code",
   "execution_count": 355,
   "metadata": {},
   "outputs": [
    {
     "data": {
      "text/plain": [
       "0.8545454545454545"
      ]
     },
     "execution_count": 355,
     "metadata": {},
     "output_type": "execute_result"
    }
   ],
   "source": [
    "accuracy_score(Y,predicts)"
   ]
  },
  {
   "cell_type": "code",
   "execution_count": 356,
   "metadata": {},
   "outputs": [
    {
     "data": {
      "text/plain": [
       "0.4666666666666667"
      ]
     },
     "execution_count": 356,
     "metadata": {},
     "output_type": "execute_result"
    }
   ],
   "source": [
    "f1_score(Y,predicts)"
   ]
  },
  {
   "cell_type": "markdown",
   "metadata": {},
   "source": [
    "### Final result on MLPClassifier"
   ]
  },
  {
   "cell_type": "code",
   "execution_count": 357,
   "metadata": {},
   "outputs": [
    {
     "name": "stdout",
     "output_type": "stream",
     "text": [
      "0.8545454545454545\n",
      "0.5294117647058824\n"
     ]
    }
   ],
   "source": [
    "predicts = clf05.predict(X_scaled)\n",
    "\n",
    "print(accuracy_score(Y,predicts))\n",
    "\n",
    "print(f1_score(Y,predicts))"
   ]
  },
  {
   "cell_type": "code",
   "execution_count": null,
   "metadata": {},
   "outputs": [],
   "source": []
  },
  {
   "cell_type": "code",
   "execution_count": null,
   "metadata": {},
   "outputs": [],
   "source": []
  }
 ],
 "metadata": {
  "kernelspec": {
   "display_name": "Python 3",
   "language": "python",
   "name": "python3"
  },
  "language_info": {
   "codemirror_mode": {
    "name": "ipython",
    "version": 3
   },
   "file_extension": ".py",
   "mimetype": "text/x-python",
   "name": "python",
   "nbconvert_exporter": "python",
   "pygments_lexer": "ipython3",
   "version": "3.8.5"
  }
 },
 "nbformat": 4,
 "nbformat_minor": 4
}
