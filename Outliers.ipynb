{
 "cells": [
  {
   "cell_type": "markdown",
   "metadata": {},
   "source": [
    "# Detecting Outliers"
   ]
  },
  {
   "cell_type": "markdown",
   "metadata": {},
   "source": [
    "### Import Libraries"
   ]
  },
  {
   "cell_type": "code",
   "execution_count": 1,
   "metadata": {},
   "outputs": [],
   "source": [
    "import pandas as pd\n",
    "import matplotlib as mp\n",
    "%matplotlib inline\n",
    "import numpy as np"
   ]
  },
  {
   "cell_type": "markdown",
   "metadata": {},
   "source": [
    "### Import Dataset and Check Format"
   ]
  },
  {
   "cell_type": "code",
   "execution_count": 10,
   "metadata": {},
   "outputs": [],
   "source": [
    "cars = pd.read_csv(\"cars.csv\", delimiter=\";\")"
   ]
  },
  {
   "cell_type": "code",
   "execution_count": 11,
   "metadata": {},
   "outputs": [
    {
     "data": {
      "text/html": [
       "<div>\n",
       "<style scoped>\n",
       "    .dataframe tbody tr th:only-of-type {\n",
       "        vertical-align: middle;\n",
       "    }\n",
       "\n",
       "    .dataframe tbody tr th {\n",
       "        vertical-align: top;\n",
       "    }\n",
       "\n",
       "    .dataframe thead th {\n",
       "        text-align: right;\n",
       "    }\n",
       "</style>\n",
       "<table border=\"1\" class=\"dataframe\">\n",
       "  <thead>\n",
       "    <tr style=\"text-align: right;\">\n",
       "      <th></th>\n",
       "      <th>Car</th>\n",
       "      <th>MPG</th>\n",
       "      <th>Cylinders</th>\n",
       "      <th>Displacement</th>\n",
       "      <th>Horsepower</th>\n",
       "      <th>Weight</th>\n",
       "      <th>Acceleration</th>\n",
       "      <th>Model</th>\n",
       "      <th>Origin</th>\n",
       "    </tr>\n",
       "  </thead>\n",
       "  <tbody>\n",
       "    <tr>\n",
       "      <th>0</th>\n",
       "      <td>STRING</td>\n",
       "      <td>DOUBLE</td>\n",
       "      <td>INT</td>\n",
       "      <td>DOUBLE</td>\n",
       "      <td>DOUBLE</td>\n",
       "      <td>DOUBLE</td>\n",
       "      <td>DOUBLE</td>\n",
       "      <td>INT</td>\n",
       "      <td>CAT</td>\n",
       "    </tr>\n",
       "    <tr>\n",
       "      <th>1</th>\n",
       "      <td>Chevrolet Chevelle Malibu</td>\n",
       "      <td>18.0</td>\n",
       "      <td>8</td>\n",
       "      <td>307.0</td>\n",
       "      <td>130.0</td>\n",
       "      <td>3504.</td>\n",
       "      <td>12.0</td>\n",
       "      <td>70</td>\n",
       "      <td>US</td>\n",
       "    </tr>\n",
       "    <tr>\n",
       "      <th>2</th>\n",
       "      <td>Buick Skylark 320</td>\n",
       "      <td>15.0</td>\n",
       "      <td>8</td>\n",
       "      <td>350.0</td>\n",
       "      <td>165.0</td>\n",
       "      <td>3693.</td>\n",
       "      <td>11.5</td>\n",
       "      <td>70</td>\n",
       "      <td>US</td>\n",
       "    </tr>\n",
       "    <tr>\n",
       "      <th>3</th>\n",
       "      <td>Plymouth Satellite</td>\n",
       "      <td>18.0</td>\n",
       "      <td>8</td>\n",
       "      <td>318.0</td>\n",
       "      <td>150.0</td>\n",
       "      <td>3436.</td>\n",
       "      <td>11.0</td>\n",
       "      <td>70</td>\n",
       "      <td>US</td>\n",
       "    </tr>\n",
       "    <tr>\n",
       "      <th>4</th>\n",
       "      <td>AMC Rebel SST</td>\n",
       "      <td>16.0</td>\n",
       "      <td>8</td>\n",
       "      <td>304.0</td>\n",
       "      <td>150.0</td>\n",
       "      <td>3433.</td>\n",
       "      <td>12.0</td>\n",
       "      <td>70</td>\n",
       "      <td>US</td>\n",
       "    </tr>\n",
       "  </tbody>\n",
       "</table>\n",
       "</div>"
      ],
      "text/plain": [
       "                         Car     MPG Cylinders Displacement Horsepower  \\\n",
       "0                     STRING  DOUBLE       INT       DOUBLE     DOUBLE   \n",
       "1  Chevrolet Chevelle Malibu    18.0         8        307.0      130.0   \n",
       "2          Buick Skylark 320    15.0         8        350.0      165.0   \n",
       "3         Plymouth Satellite    18.0         8        318.0      150.0   \n",
       "4              AMC Rebel SST    16.0         8        304.0      150.0   \n",
       "\n",
       "   Weight Acceleration Model Origin  \n",
       "0  DOUBLE       DOUBLE   INT    CAT  \n",
       "1   3504.         12.0    70     US  \n",
       "2   3693.         11.5    70     US  \n",
       "3   3436.         11.0    70     US  \n",
       "4   3433.         12.0    70     US  "
      ]
     },
     "execution_count": 11,
     "metadata": {},
     "output_type": "execute_result"
    }
   ],
   "source": [
    "cars.head()"
   ]
  },
  {
   "cell_type": "code",
   "execution_count": 16,
   "metadata": {},
   "outputs": [],
   "source": [
    "cars.drop(0, inplace=True)"
   ]
  },
  {
   "cell_type": "code",
   "execution_count": 17,
   "metadata": {},
   "outputs": [
    {
     "data": {
      "text/html": [
       "<div>\n",
       "<style scoped>\n",
       "    .dataframe tbody tr th:only-of-type {\n",
       "        vertical-align: middle;\n",
       "    }\n",
       "\n",
       "    .dataframe tbody tr th {\n",
       "        vertical-align: top;\n",
       "    }\n",
       "\n",
       "    .dataframe thead th {\n",
       "        text-align: right;\n",
       "    }\n",
       "</style>\n",
       "<table border=\"1\" class=\"dataframe\">\n",
       "  <thead>\n",
       "    <tr style=\"text-align: right;\">\n",
       "      <th></th>\n",
       "      <th>Car</th>\n",
       "      <th>MPG</th>\n",
       "      <th>Cylinders</th>\n",
       "      <th>Displacement</th>\n",
       "      <th>Horsepower</th>\n",
       "      <th>Weight</th>\n",
       "      <th>Acceleration</th>\n",
       "      <th>Model</th>\n",
       "      <th>Origin</th>\n",
       "    </tr>\n",
       "  </thead>\n",
       "  <tbody>\n",
       "    <tr>\n",
       "      <th>1</th>\n",
       "      <td>Chevrolet Chevelle Malibu</td>\n",
       "      <td>18.0</td>\n",
       "      <td>8</td>\n",
       "      <td>307.0</td>\n",
       "      <td>130.0</td>\n",
       "      <td>3504.</td>\n",
       "      <td>12.0</td>\n",
       "      <td>70</td>\n",
       "      <td>US</td>\n",
       "    </tr>\n",
       "    <tr>\n",
       "      <th>2</th>\n",
       "      <td>Buick Skylark 320</td>\n",
       "      <td>15.0</td>\n",
       "      <td>8</td>\n",
       "      <td>350.0</td>\n",
       "      <td>165.0</td>\n",
       "      <td>3693.</td>\n",
       "      <td>11.5</td>\n",
       "      <td>70</td>\n",
       "      <td>US</td>\n",
       "    </tr>\n",
       "    <tr>\n",
       "      <th>3</th>\n",
       "      <td>Plymouth Satellite</td>\n",
       "      <td>18.0</td>\n",
       "      <td>8</td>\n",
       "      <td>318.0</td>\n",
       "      <td>150.0</td>\n",
       "      <td>3436.</td>\n",
       "      <td>11.0</td>\n",
       "      <td>70</td>\n",
       "      <td>US</td>\n",
       "    </tr>\n",
       "    <tr>\n",
       "      <th>4</th>\n",
       "      <td>AMC Rebel SST</td>\n",
       "      <td>16.0</td>\n",
       "      <td>8</td>\n",
       "      <td>304.0</td>\n",
       "      <td>150.0</td>\n",
       "      <td>3433.</td>\n",
       "      <td>12.0</td>\n",
       "      <td>70</td>\n",
       "      <td>US</td>\n",
       "    </tr>\n",
       "    <tr>\n",
       "      <th>5</th>\n",
       "      <td>Ford Torino</td>\n",
       "      <td>17.0</td>\n",
       "      <td>8</td>\n",
       "      <td>302.0</td>\n",
       "      <td>140.0</td>\n",
       "      <td>3449.</td>\n",
       "      <td>10.5</td>\n",
       "      <td>70</td>\n",
       "      <td>US</td>\n",
       "    </tr>\n",
       "  </tbody>\n",
       "</table>\n",
       "</div>"
      ],
      "text/plain": [
       "                         Car   MPG Cylinders Displacement Horsepower Weight  \\\n",
       "1  Chevrolet Chevelle Malibu  18.0         8        307.0      130.0  3504.   \n",
       "2          Buick Skylark 320  15.0         8        350.0      165.0  3693.   \n",
       "3         Plymouth Satellite  18.0         8        318.0      150.0  3436.   \n",
       "4              AMC Rebel SST  16.0         8        304.0      150.0  3433.   \n",
       "5                Ford Torino  17.0         8        302.0      140.0  3449.   \n",
       "\n",
       "  Acceleration Model Origin  \n",
       "1         12.0    70     US  \n",
       "2         11.5    70     US  \n",
       "3         11.0    70     US  \n",
       "4         12.0    70     US  \n",
       "5         10.5    70     US  "
      ]
     },
     "execution_count": 17,
     "metadata": {},
     "output_type": "execute_result"
    }
   ],
   "source": [
    "cars.head()"
   ]
  },
  {
   "cell_type": "markdown",
   "metadata": {},
   "source": [
    "### Check for Null Values and Other Discripancies "
   ]
  },
  {
   "cell_type": "code",
   "execution_count": 22,
   "metadata": {},
   "outputs": [
    {
     "data": {
      "text/plain": [
       "False"
      ]
     },
     "execution_count": 22,
     "metadata": {},
     "output_type": "execute_result"
    }
   ],
   "source": [
    "cars[\"Car\"].is_unique"
   ]
  },
  {
   "cell_type": "code",
   "execution_count": 20,
   "metadata": {},
   "outputs": [
    {
     "data": {
      "text/plain": [
       "308"
      ]
     },
     "execution_count": 20,
     "metadata": {},
     "output_type": "execute_result"
    }
   ],
   "source": [
    "cars[\"Car\"].nunique()"
   ]
  },
  {
   "cell_type": "code",
   "execution_count": 23,
   "metadata": {},
   "outputs": [
    {
     "data": {
      "text/plain": [
       "406"
      ]
     },
     "execution_count": 23,
     "metadata": {},
     "output_type": "execute_result"
    }
   ],
   "source": [
    "len(cars)"
   ]
  },
  {
   "cell_type": "code",
   "execution_count": 29,
   "metadata": {},
   "outputs": [
    {
     "name": "stdout",
     "output_type": "stream",
     "text": [
      "<class 'pandas.core.frame.DataFrame'>\n",
      "Int64Index: 406 entries, 1 to 406\n",
      "Data columns (total 9 columns):\n",
      " #   Column        Non-Null Count  Dtype \n",
      "---  ------        --------------  ----- \n",
      " 0   Car           406 non-null    object\n",
      " 1   MPG           406 non-null    object\n",
      " 2   Cylinders     406 non-null    object\n",
      " 3   Displacement  406 non-null    object\n",
      " 4   Horsepower    406 non-null    object\n",
      " 5   Weight        406 non-null    object\n",
      " 6   Acceleration  406 non-null    object\n",
      " 7   Model         406 non-null    object\n",
      " 8   Origin        406 non-null    object\n",
      "dtypes: object(9)\n",
      "memory usage: 31.7+ KB\n"
     ]
    }
   ],
   "source": [
    "cars.info()"
   ]
  },
  {
   "cell_type": "code",
   "execution_count": 38,
   "metadata": {},
   "outputs": [],
   "source": [
    "dupli = cars[\"Car\"].value_counts()"
   ]
  },
  {
   "cell_type": "code",
   "execution_count": 72,
   "metadata": {},
   "outputs": [
    {
     "name": "stdout",
     "output_type": "stream",
     "text": [
      "Toyota Corolla                9\n",
      "Ford Pinto                    6\n",
      "Ford Maverick                 5\n",
      "Volkswagen Rabbit             5\n",
      "AMC Matador                   5\n",
      "                             ..\n",
      "AMC Hornet Sportabout (sw)    1\n",
      "Datsun B-210                  1\n",
      "Volvo 244DL                   1\n",
      "Buick Skyhawk                 1\n",
      "Pontiac Ventura SJ            1\n",
      "Name: Car, Length: 308, dtype: int64\n"
     ]
    }
   ],
   "source": [
    "print(dupli)"
   ]
  },
  {
   "cell_type": "code",
   "execution_count": 75,
   "metadata": {},
   "outputs": [
    {
     "name": "stdout",
     "output_type": "stream",
     "text": [
      "['Toyota Corolla', 'Ford Pinto', 'Ford Maverick', 'Volkswagen Rabbit', 'AMC Matador', 'Chevrolet Impala', 'AMC Hornet', 'Chevrolet Chevette', 'Peugeot 504', 'AMC Gremlin', 'Chevrolet Vega', 'Chevrolet Citation', 'Ford Gran Torino', 'Ford Galaxie 500', 'Chevrolet Caprice Classic', 'Chevrolet Nova', 'Plymouth Duster', 'Pontiac Catalina', 'Honda Civic', 'Volkswagen Dasher', 'Dodge Colt', 'Subaru', 'Dodge Aspen', 'Plymouth Fury iii', 'Opel 1900', 'AMC Matador (sw)', 'Chevrolet Chevelle Malibu Classic', 'Chevrolet Chevelle Concours (sw)', 'Ford Country Squire (sw)', 'Opel Manta', 'Pontiac Phoenix', 'Plymouth Valiant', 'Honda Civic CVCC', 'Toyota Mark II', 'Chevrolet Malibu', 'Chevrolet Chevelle Malibu', 'Ford LTD', 'Chevrolet Monte Carlo Landau', 'Oldsmobile Cutlass Salon Brougham', 'Ford Gran Torino (sw)', 'Buick Century', 'Buick Estate Wagon (sw)', 'Toyota Corolla Liftback', 'Mazda 626', 'Volkswagen Rabbit Custom', 'Honda Accord', 'Toyota Corolla 1200', 'Datsun 210', 'AMC Concord', 'Datsun PL510', 'Audi 100LS', 'Datsun 710', 'Subaru DL', 'Buick Skylark', 'Plymouth Reliant', 'Mazda GLC Deluxe', 'Fiat 128'] \n",
      "\n",
      "57\n"
     ]
    }
   ],
   "source": [
    "lst = []\n",
    "for i in dupli.index:\n",
    "    if dupli[i] > 1 and i not in lst:\n",
    "        lst.append(i)\n",
    "print(lst,\"\\n\")\n",
    "print(len(lst))"
   ]
  },
  {
   "cell_type": "code",
   "execution_count": 76,
   "metadata": {},
   "outputs": [
    {
     "data": {
      "text/plain": [
       "155"
      ]
     },
     "execution_count": 76,
     "metadata": {},
     "output_type": "execute_result"
    }
   ],
   "source": [
    "sum(dupli.head(57))"
   ]
  },
  {
   "cell_type": "markdown",
   "metadata": {},
   "source": [
    "# Visualise"
   ]
  },
  {
   "cell_type": "code",
   "execution_count": 79,
   "metadata": {},
   "outputs": [],
   "source": [
    "from matplotlib import pyplot as plt"
   ]
  },
  {
   "cell_type": "code",
   "execution_count": 80,
   "metadata": {},
   "outputs": [
    {
     "data": {
      "text/html": [
       "<div>\n",
       "<style scoped>\n",
       "    .dataframe tbody tr th:only-of-type {\n",
       "        vertical-align: middle;\n",
       "    }\n",
       "\n",
       "    .dataframe tbody tr th {\n",
       "        vertical-align: top;\n",
       "    }\n",
       "\n",
       "    .dataframe thead th {\n",
       "        text-align: right;\n",
       "    }\n",
       "</style>\n",
       "<table border=\"1\" class=\"dataframe\">\n",
       "  <thead>\n",
       "    <tr style=\"text-align: right;\">\n",
       "      <th></th>\n",
       "      <th>Car</th>\n",
       "      <th>MPG</th>\n",
       "      <th>Cylinders</th>\n",
       "      <th>Displacement</th>\n",
       "      <th>Horsepower</th>\n",
       "      <th>Weight</th>\n",
       "      <th>Acceleration</th>\n",
       "      <th>Model</th>\n",
       "      <th>Origin</th>\n",
       "    </tr>\n",
       "  </thead>\n",
       "  <tbody>\n",
       "    <tr>\n",
       "      <th>1</th>\n",
       "      <td>Chevrolet Chevelle Malibu</td>\n",
       "      <td>18.0</td>\n",
       "      <td>8</td>\n",
       "      <td>307.0</td>\n",
       "      <td>130.0</td>\n",
       "      <td>3504.</td>\n",
       "      <td>12.0</td>\n",
       "      <td>70</td>\n",
       "      <td>US</td>\n",
       "    </tr>\n",
       "    <tr>\n",
       "      <th>2</th>\n",
       "      <td>Buick Skylark 320</td>\n",
       "      <td>15.0</td>\n",
       "      <td>8</td>\n",
       "      <td>350.0</td>\n",
       "      <td>165.0</td>\n",
       "      <td>3693.</td>\n",
       "      <td>11.5</td>\n",
       "      <td>70</td>\n",
       "      <td>US</td>\n",
       "    </tr>\n",
       "    <tr>\n",
       "      <th>3</th>\n",
       "      <td>Plymouth Satellite</td>\n",
       "      <td>18.0</td>\n",
       "      <td>8</td>\n",
       "      <td>318.0</td>\n",
       "      <td>150.0</td>\n",
       "      <td>3436.</td>\n",
       "      <td>11.0</td>\n",
       "      <td>70</td>\n",
       "      <td>US</td>\n",
       "    </tr>\n",
       "    <tr>\n",
       "      <th>4</th>\n",
       "      <td>AMC Rebel SST</td>\n",
       "      <td>16.0</td>\n",
       "      <td>8</td>\n",
       "      <td>304.0</td>\n",
       "      <td>150.0</td>\n",
       "      <td>3433.</td>\n",
       "      <td>12.0</td>\n",
       "      <td>70</td>\n",
       "      <td>US</td>\n",
       "    </tr>\n",
       "    <tr>\n",
       "      <th>5</th>\n",
       "      <td>Ford Torino</td>\n",
       "      <td>17.0</td>\n",
       "      <td>8</td>\n",
       "      <td>302.0</td>\n",
       "      <td>140.0</td>\n",
       "      <td>3449.</td>\n",
       "      <td>10.5</td>\n",
       "      <td>70</td>\n",
       "      <td>US</td>\n",
       "    </tr>\n",
       "  </tbody>\n",
       "</table>\n",
       "</div>"
      ],
      "text/plain": [
       "                         Car   MPG Cylinders Displacement Horsepower Weight  \\\n",
       "1  Chevrolet Chevelle Malibu  18.0         8        307.0      130.0  3504.   \n",
       "2          Buick Skylark 320  15.0         8        350.0      165.0  3693.   \n",
       "3         Plymouth Satellite  18.0         8        318.0      150.0  3436.   \n",
       "4              AMC Rebel SST  16.0         8        304.0      150.0  3433.   \n",
       "5                Ford Torino  17.0         8        302.0      140.0  3449.   \n",
       "\n",
       "  Acceleration Model Origin  \n",
       "1         12.0    70     US  \n",
       "2         11.5    70     US  \n",
       "3         11.0    70     US  \n",
       "4         12.0    70     US  \n",
       "5         10.5    70     US  "
      ]
     },
     "execution_count": 80,
     "metadata": {},
     "output_type": "execute_result"
    }
   ],
   "source": [
    "cars.head()"
   ]
  },
  {
   "cell_type": "code",
   "execution_count": 221,
   "metadata": {
    "scrolled": true
   },
   "outputs": [],
   "source": [
    "from sklearn.preprocessing import MinMaxScaler\n",
    "\n",
    "scaler = MinMaxScaler(feature_range=(1, 11))\n",
    "cars[['MPG','Cylinders',\"Displacement\",\"Horsepower\",\"Weight\",\"Acceleration\",\"Model\"]] = scaler.fit_transform(cars[['MPG','Cylinders',\"Displacement\",\"Horsepower\",\"Weight\",\"Acceleration\",\"Model\"]])\n"
   ]
  },
  {
   "cell_type": "code",
   "execution_count": 102,
   "metadata": {},
   "outputs": [
    {
     "data": {
      "text/html": [
       "<div>\n",
       "<style scoped>\n",
       "    .dataframe tbody tr th:only-of-type {\n",
       "        vertical-align: middle;\n",
       "    }\n",
       "\n",
       "    .dataframe tbody tr th {\n",
       "        vertical-align: top;\n",
       "    }\n",
       "\n",
       "    .dataframe thead th {\n",
       "        text-align: right;\n",
       "    }\n",
       "</style>\n",
       "<table border=\"1\" class=\"dataframe\">\n",
       "  <thead>\n",
       "    <tr style=\"text-align: right;\">\n",
       "      <th></th>\n",
       "      <th>Car</th>\n",
       "      <th>MPG</th>\n",
       "      <th>Cylinders</th>\n",
       "      <th>Displacement</th>\n",
       "      <th>Horsepower</th>\n",
       "      <th>Weight</th>\n",
       "      <th>Acceleration</th>\n",
       "      <th>Model</th>\n",
       "      <th>Origin</th>\n",
       "    </tr>\n",
       "  </thead>\n",
       "  <tbody>\n",
       "    <tr>\n",
       "      <th>1</th>\n",
       "      <td>Chevrolet Chevelle Malibu</td>\n",
       "      <td>4.86266</td>\n",
       "      <td>11</td>\n",
       "      <td>7.17571</td>\n",
       "      <td>6.65217</td>\n",
       "      <td>6.3615</td>\n",
       "      <td>3.38095</td>\n",
       "      <td>1</td>\n",
       "      <td>US</td>\n",
       "    </tr>\n",
       "    <tr>\n",
       "      <th>2</th>\n",
       "      <td>Buick Skylark 320</td>\n",
       "      <td>4.21888</td>\n",
       "      <td>11</td>\n",
       "      <td>8.28682</td>\n",
       "      <td>8.17391</td>\n",
       "      <td>6.89736</td>\n",
       "      <td>3.08333</td>\n",
       "      <td>1</td>\n",
       "      <td>US</td>\n",
       "    </tr>\n",
       "    <tr>\n",
       "      <th>3</th>\n",
       "      <td>Plymouth Satellite</td>\n",
       "      <td>4.86266</td>\n",
       "      <td>11</td>\n",
       "      <td>7.45995</td>\n",
       "      <td>7.52174</td>\n",
       "      <td>6.1687</td>\n",
       "      <td>2.78571</td>\n",
       "      <td>1</td>\n",
       "      <td>US</td>\n",
       "    </tr>\n",
       "    <tr>\n",
       "      <th>4</th>\n",
       "      <td>AMC Rebel SST</td>\n",
       "      <td>4.43348</td>\n",
       "      <td>11</td>\n",
       "      <td>7.09819</td>\n",
       "      <td>7.52174</td>\n",
       "      <td>6.16019</td>\n",
       "      <td>3.38095</td>\n",
       "      <td>1</td>\n",
       "      <td>US</td>\n",
       "    </tr>\n",
       "    <tr>\n",
       "      <th>5</th>\n",
       "      <td>Ford Torino</td>\n",
       "      <td>4.64807</td>\n",
       "      <td>11</td>\n",
       "      <td>7.04651</td>\n",
       "      <td>7.08696</td>\n",
       "      <td>6.20556</td>\n",
       "      <td>2.4881</td>\n",
       "      <td>1</td>\n",
       "      <td>US</td>\n",
       "    </tr>\n",
       "  </tbody>\n",
       "</table>\n",
       "</div>"
      ],
      "text/plain": [
       "                         Car      MPG Cylinders Displacement Horsepower  \\\n",
       "1  Chevrolet Chevelle Malibu  4.86266        11      7.17571    6.65217   \n",
       "2          Buick Skylark 320  4.21888        11      8.28682    8.17391   \n",
       "3         Plymouth Satellite  4.86266        11      7.45995    7.52174   \n",
       "4              AMC Rebel SST  4.43348        11      7.09819    7.52174   \n",
       "5                Ford Torino  4.64807        11      7.04651    7.08696   \n",
       "\n",
       "    Weight Acceleration Model Origin  \n",
       "1   6.3615      3.38095     1     US  \n",
       "2  6.89736      3.08333     1     US  \n",
       "3   6.1687      2.78571     1     US  \n",
       "4  6.16019      3.38095     1     US  \n",
       "5  6.20556       2.4881     1     US  "
      ]
     },
     "execution_count": 102,
     "metadata": {},
     "output_type": "execute_result"
    }
   ],
   "source": [
    "cars.head()     #scaled down to fit"
   ]
  },
  {
   "cell_type": "code",
   "execution_count": null,
   "metadata": {},
   "outputs": [],
   "source": [
    "# convert into array to use into KNN modeling"
   ]
  },
  {
   "cell_type": "code",
   "execution_count": 106,
   "metadata": {},
   "outputs": [],
   "source": [
    "cyl = cars[\"Cylinders\"].values.reshape(-1,1)\n",
    "mpg = cars[\"MPG\"].values.reshape(-1,1)\n",
    "dis = cars[\"Displacement\"].values.reshape(-1,1)\n",
    "hp = cars[\"Horsepower\"].values.reshape(-1,1)\n",
    "wt = cars[\"Weight\"].values.reshape(-1,1)\n",
    "accl = cars[\"Acceleration\"].values.reshape(-1,1)\n",
    "mdl = cars[\"Model\"].values.reshape(-1,1)"
   ]
  },
  {
   "cell_type": "code",
   "execution_count": 109,
   "metadata": {},
   "outputs": [],
   "source": [
    "wagon = np.concatenate((cyl,hp),axis=1)"
   ]
  },
  {
   "cell_type": "code",
   "execution_count": 149,
   "metadata": {},
   "outputs": [],
   "source": [
    "from pyod.models.knn import KNN\n",
    "from pyod.models.abod import ABOD\n",
    "from scipy import stats"
   ]
  },
  {
   "cell_type": "markdown",
   "metadata": {},
   "source": [
    "### You can set the value of the outlier fraction according to your problem and your understanding of the data. In our example, I want to detect 5% observations that are not similar to the rest of the data. So, I’m going to set the value of outlier fraction as 0.05."
   ]
  },
  {
   "cell_type": "code",
   "execution_count": 216,
   "metadata": {},
   "outputs": [],
   "source": [
    "random_state = np.random.RandomState(42)\n",
    "outliers_fraction = 0.10\n"
   ]
  },
  {
   "cell_type": "code",
   "execution_count": 152,
   "metadata": {},
   "outputs": [],
   "source": [
    "# Define outlier detection tool\n",
    "classifiers = {'K Nearest Neighbors (KNN)': KNN(contamination=outliers_fraction),\n",
    "\n",
    "}"
   ]
  },
  {
   "cell_type": "code",
   "execution_count": 128,
   "metadata": {},
   "outputs": [],
   "source": [
    "xx , yy = np.meshgrid(np.linspace(1,11 , 200), np.linspace(1, 11, 200))"
   ]
  },
  {
   "cell_type": "code",
   "execution_count": 218,
   "metadata": {},
   "outputs": [],
   "source": [
    "def visualizeoutlier(wagon):\n",
    "    for i, (clf_name, clf) in enumerate(classifiers.items()):\n",
    "        clf.fit(wagon)\n",
    "        # predict raw anomaly score\n",
    "        scores_pred = clf.decision_function(wagon) * -1\n",
    "\n",
    "        # prediction of a datapoint category outlier or inlier\n",
    "        y_pred = clf.predict(wagon)\n",
    "        n_inliers = len(y_pred) - np.count_nonzero(y_pred)\n",
    "        n_outliers = np.count_nonzero(y_pred == 1)\n",
    "        plt.figure(figsize=(10, 10))\n",
    "\n",
    "        # copy of dataframe\n",
    "        dfx = cars\n",
    "        dfx['outlier'] = y_pred.tolist()\n",
    "\n",
    "        # IX1 - inlier feature 1,  IX2 - inlier feature 2\n",
    "        IX1 =  np.array(dfx[\"Cylinders\"][dfx['outlier'] == 0]).reshape(-1,1)\n",
    "        IX2 =  np.array(dfx['Horsepower'][dfx['outlier'] == 0]).reshape(-1,1)\n",
    "\n",
    "        # OX1 - outlier feature 1, OX2 - outlier feature 2\n",
    "        OX1 =  dfx['Cylinders'][dfx['outlier'] == 1].values.reshape(-1,1)\n",
    "        OX2 =  dfx['Horsepower'][dfx['outlier'] == 1].values.reshape(-1,1)\n",
    "\n",
    "        print('OUTLIERS : ',n_outliers,'INLIERS : ',n_inliers, clf_name)\n",
    "\n",
    "        # threshold value to consider a datapoint inlier or outlier\n",
    "        threshold = stats.scoreatpercentile(scores_pred,100 * outliers_fraction)\n",
    "\n",
    "        # decision function calculates the raw anomaly score for every point\n",
    "        Z = clf.decision_function(np.c_[xx.ravel(), yy.ravel()]) * -1\n",
    "        Z = Z.reshape(xx.shape)\n",
    "\n",
    "        # fill blue map colormap from minimum anomaly score to threshold value\n",
    "        plt.contourf(xx, yy, Z, levels=np.linspace(Z.min(), threshold, 7),cmap=plt.cm.Blues_r)\n",
    "\n",
    "        # draw red contour line where anomaly score is equal to thresold\n",
    "        a = plt.contour(xx, yy, Z, levels=[threshold],linewidths=2, colors='magenta')\n",
    "\n",
    "        # fill orange contour lines where range of anomaly score is from threshold to maximum anomaly score\n",
    "        plt.contourf(xx, yy, Z, levels=[threshold, Z.max()],colors='blue')\n",
    "\n",
    "        b = plt.scatter(IX1,IX2, c='white',s=20, edgecolor='k')\n",
    "\n",
    "        c = plt.scatter(OX1,OX2, c='black',s=20, edgecolor='k')\n",
    "\n",
    "        plt.axis('tight')  \n",
    "\n",
    "        # loc=2 is used for the top left corner \n",
    "        plt.legend(\n",
    "            [a.collections[0], b,c],\n",
    "            ['learned decision function', 'inliers','outliers'],\n",
    "            prop=mp.font_manager.FontProperties(size=20),\n",
    "            loc=2)\n",
    "\n",
    "        plt.xlim((1, 11))\n",
    "        plt.ylim((1, 11))\n",
    "        plt.title(clf_name)\n",
    "        plt.show()"
   ]
  },
  {
   "cell_type": "code",
   "execution_count": 219,
   "metadata": {},
   "outputs": [
    {
     "name": "stdout",
     "output_type": "stream",
     "text": [
      "OUTLIERS :  11 INLIERS :  395 K Nearest Neighbors (KNN)\n"
     ]
    },
    {
     "data": {
      "image/png": "[encoded data removed]",
      "text/plain": [
       "<Figure size 720x720 with 1 Axes>"
      ]
     },
     "metadata": {
      "needs_background": "light"
     },
     "output_type": "display_data"
    }
   ],
   "source": [
    "visualizeoutlier(wagon)"
   ]
  },
  {
   "cell_type": "code",
   "execution_count": 162,
   "metadata": {},
   "outputs": [],
   "source": [
    "wagon2 = np.concatenate((cyl,accl),axis=1)"
   ]
  },
  {
   "cell_type": "code",
   "execution_count": 220,
   "metadata": {},
   "outputs": [
    {
     "name": "stdout",
     "output_type": "stream",
     "text": [
      "OUTLIERS :  18 INLIERS :  388 K Nearest Neighbors (KNN)\n"
     ]
    },
    {
     "data": {
      "image/png": "[encoded data removed]",
      "text/plain": [
       "<Figure size 720x720 with 1 Axes>"
      ]
     },
     "metadata": {
      "needs_background": "light"
     },
     "output_type": "display_data"
    }
   ],
   "source": [
    "visualizeoutlier(wagon2)"
   ]
  },
  {
   "cell_type": "markdown",
   "metadata": {},
   "source": [
    "## Boxplot for Outliers detection"
   ]
  },
  {
   "cell_type": "code",
   "execution_count": 160,
   "metadata": {},
   "outputs": [],
   "source": [
    "wagoncombi = np.concatenate((mpg,cyl,hp,accl,wt,dis),axis = 1)\n"
   ]
  },
  {
   "cell_type": "code",
   "execution_count": 169,
   "metadata": {},
   "outputs": [
    {
     "data": {
      "text/plain": [
       "<function matplotlib.pyplot.show(*args, **kw)>"
      ]
     },
     "execution_count": 169,
     "metadata": {},
     "output_type": "execute_result"
    },
    {
     "data": {
      "image/png": "[encoded data removed]",
      "text/plain": [
       "<Figure size 432x288 with 1 Axes>"
      ]
     },
     "metadata": {
      "needs_background": "light"
     },
     "output_type": "display_data"
    }
   ],
   "source": [
    "plt.boxplot(wagoncombi)\n",
    "plt.show"
   ]
  },
  {
   "cell_type": "markdown",
   "metadata": {},
   "source": [
    "## Z score For Outliers Detection"
   ]
  },
  {
   "cell_type": "code",
   "execution_count": 182,
   "metadata": {},
   "outputs": [],
   "source": [
    "def outlier_zscore(Feature):\n",
    "    std = np.std(Feature)\n",
    "    mean = np.mean(Feature)\n",
    "    threshold = 3\n",
    "\n",
    "    #z score = (x-mean)/std\n",
    "    #if z score is greather thn 3, we consider it as an outlier\n",
    "\n",
    "    outliers = []\n",
    "    for i in Feature:\n",
    "        zscore = (i-mean)/std\n",
    "        if zscore > threshold:\n",
    "            outliers.append(i)\n",
    "    print(len(outliers))\n",
    "    print(outliers)\n",
    "\n"
   ]
  },
  {
   "cell_type": "code",
   "execution_count": 184,
   "metadata": {},
   "outputs": [
    {
     "name": "stdout",
     "output_type": "stream",
     "text": [
      "4\n",
      "[10.782608695652176, 10.782608695652176, 10.782608695652176, 11.0]\n"
     ]
    }
   ],
   "source": [
    "outlier_zscore(cars[\"Horsepower\"])"
   ]
  },
  {
   "cell_type": "code",
   "execution_count": 222,
   "metadata": {},
   "outputs": [
    {
     "data": {
      "image/png": "[encoded data removed]",
      "text/plain": [
       "<Figure size 432x288 with 1 Axes>"
      ]
     },
     "metadata": {
      "needs_background": "light"
     },
     "output_type": "display_data"
    }
   ],
   "source": [
    "plt.scatter(cars.index,cars[\"Horsepower\"],color=\"m\",marker = \"*\")\n",
    "plt.xlabel(\"CarsIndex\")\n",
    "plt.ylabel(\"Horsepower\")\n",
    "plt.title(\"CarsIndex vs horsepower\")\n",
    "plt.grid()\n",
    "plt.show()"
   ]
  },
  {
   "cell_type": "code",
   "execution_count": 223,
   "metadata": {},
   "outputs": [
    {
     "data": {
      "image/png": "[encoded data removed]",
      "text/plain": [
       "<Figure size 432x288 with 1 Axes>"
      ]
     },
     "metadata": {
      "needs_background": "light"
     },
     "output_type": "display_data"
    }
   ],
   "source": [
    "plt.scatter(cars.index,cars[\"Acceleration\"],color=\"m\",marker = \"*\")\n",
    "plt.xlabel(\"CarsIndex\")\n",
    "plt.ylabel(\"Acceleration\")\n",
    "plt.title(\"CarsIndex vs acceleration\")\n",
    "plt.grid()\n",
    "plt.show()"
   ]
  },
  {
   "cell_type": "code",
   "execution_count": 183,
   "metadata": {},
   "outputs": [
    {
     "name": "stdout",
     "output_type": "stream",
     "text": [
      "2\n",
      "[11.0, 10.880952380952385]\n"
     ]
    }
   ],
   "source": [
    "outlier_zscore(cars[\"Acceleration\"])"
   ]
  },
  {
   "cell_type": "markdown",
   "metadata": {},
   "source": [
    "## IQR for Outliers Detection"
   ]
  },
  {
   "cell_type": "markdown",
   "metadata": {},
   "source": [
    "### Based on\n",
    "- lower band is min - iqr*1.5 \n",
    "- upper band is max + iqr*1.5\n",
    "- anything which lies out of lower-upper s an outlier"
   ]
  },
  {
   "cell_type": "code",
   "execution_count": 201,
   "metadata": {},
   "outputs": [],
   "source": [
    "def outlier_iqr(feature):\n",
    "    q1,q3 = np.percentile(feature,(25,75))\n",
    "    iqr = q3-q1\n",
    "    print(\"Inter Quartile Range: {}\".format(iqr))\n",
    "    minval = np.percentile(feature,25)\n",
    "    print(\"Lower Quartile: {}\".format(minval))\n",
    "    maxval = np.percentile(feature,75)\n",
    "    print(\"Higher Quartile: {}\".format(maxval))\n",
    "    \n",
    "    upperbound = maxval + iqr*1.5\n",
    "    lowerbound = minval - iqr*1.5\n",
    "    outliers = []\n",
    "    for i in feature:\n",
    "        if i < lowerbound or i > upperbound:\n",
    "            outliers.append(i)\n",
    "    print(outliers)\n",
    "    return len(outliers)"
   ]
  },
  {
   "cell_type": "code",
   "execution_count": 202,
   "metadata": {},
   "outputs": [
    {
     "name": "stdout",
     "output_type": "stream",
     "text": [
      "Inter Quartile Range: 2.0684523809523805\n",
      "Lower Quartile: 4.392857142857144\n",
      "Higher Quartile: 6.461309523809525\n",
      "[1.0, 1.0, 10.22619047619048, 11.0, 10.345238095238097, 10.880952380952385]\n"
     ]
    },
    {
     "data": {
      "text/plain": [
       "6"
      ]
     },
     "execution_count": 202,
     "metadata": {},
     "output_type": "execute_result"
    }
   ],
   "source": [
    "outlier_iqr(cars[\"Acceleration\"])"
   ]
  },
  {
   "cell_type": "code",
   "execution_count": 205,
   "metadata": {},
   "outputs": [
    {
     "name": "stdout",
     "output_type": "stream",
     "text": [
      "Inter Quartile Range: 2.3478260869565215\n",
      "Lower Quartile: 4.2608695652173925\n",
      "Higher Quartile: 6.608695652173914\n",
      "[10.56521739130435, 10.347826086956522, 10.782608695652176, 10.782608695652176, 10.347826086956522, 10.130434782608697, 10.347826086956522, 10.782608695652176, 11.0]\n"
     ]
    },
    {
     "data": {
      "text/plain": [
       "9"
      ]
     },
     "execution_count": 205,
     "metadata": {},
     "output_type": "execute_result"
    }
   ],
   "source": [
    "outlier_iqr(cars[\"Horsepower\"])"
   ]
  },
  {
   "cell_type": "code",
   "execution_count": 203,
   "metadata": {},
   "outputs": [],
   "source": [
    "feature = [1,2,3,4,5,6,7,8,9,100,10,11,108]\n",
    "#test"
   ]
  },
  {
   "cell_type": "code",
   "execution_count": 204,
   "metadata": {},
   "outputs": [
    {
     "name": "stdout",
     "output_type": "stream",
     "text": [
      "Inter Quartile Range: 6.0\n",
      "Lower Quartile: 4.0\n",
      "Higher Quartile: 10.0\n",
      "[100, 108]\n"
     ]
    },
    {
     "data": {
      "text/plain": [
       "2"
      ]
     },
     "execution_count": 204,
     "metadata": {},
     "output_type": "execute_result"
    }
   ],
   "source": [
    "#test\n",
    "outlier_iqr(feature)"
   ]
  },
  {
   "cell_type": "code",
   "execution_count": null,
   "metadata": {},
   "outputs": [],
   "source": []
  }
 ],
 "metadata": {
  "kernelspec": {
   "display_name": "Python 3",
   "language": "python",
   "name": "python3"
  },
  "language_info": {
   "codemirror_mode": {
    "name": "ipython",
    "version": 3
   },
   "file_extension": ".py",
   "mimetype": "text/x-python",
   "name": "python",
   "nbconvert_exporter": "python",
   "pygments_lexer": "ipython3",
   "version": "3.8.5"
  }
 },
 "nbformat": 4,
 "nbformat_minor": 4
}
